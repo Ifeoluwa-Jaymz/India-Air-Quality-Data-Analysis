{
 "cells": [
  {
   "cell_type": "code",
   "execution_count": 6,
   "id": "e37842b6",
   "metadata": {},
   "outputs": [],
   "source": [
    "import pandas as pd\n",
    "import numpy as np\n",
    "import matplotlib.pyplot as plt\n",
    "import seaborn as sns\n",
    "import plotly.express as px\n",
    "from sklearn.metrics import mean_absolute_error\n",
    "from sklearn.linear_model import LinearRegression\n",
    "from statsmodels.graphics.tsaplots import plot_acf, plot_pacf\n",
    "from statsmodels.tsa.arima.model import ARIMA\n",
    "from statsmodels.tsa.ar_model import AutoReg"
   ]
  },
  {
   "cell_type": "markdown",
   "id": "f5ef3651",
   "metadata": {},
   "source": [
    "#### INDIA AIR_QUALITY DATA GOTTEN FROM KAGGLE"
   ]
  },
  {
   "cell_type": "code",
   "execution_count": 80,
   "id": "b198e59d",
   "metadata": {
    "scrolled": false
   },
   "outputs": [],
   "source": [
    "india3 = pd.read_csv('C:/Users/ACER/Downloads/air-quality-india.csv.zip')\n",
    "india2 = india3.copy()"
   ]
  },
  {
   "cell_type": "code",
   "execution_count": 3,
   "id": "5436997f",
   "metadata": {},
   "outputs": [
    {
     "name": "stdout",
     "output_type": "stream",
     "text": [
      "<class 'pandas.core.frame.DataFrame'>\n",
      "RangeIndex: 36192 entries, 0 to 36191\n",
      "Data columns (total 6 columns):\n",
      " #   Column     Non-Null Count  Dtype  \n",
      "---  ------     --------------  -----  \n",
      " 0   Timestamp  36192 non-null  object \n",
      " 1   Year       36192 non-null  int64  \n",
      " 2   Month      36192 non-null  int64  \n",
      " 3   Day        36192 non-null  int64  \n",
      " 4   Hour       36192 non-null  int64  \n",
      " 5   PM2.5      36192 non-null  float64\n",
      "dtypes: float64(1), int64(4), object(1)\n",
      "memory usage: 1.7+ MB\n"
     ]
    }
   ],
   "source": [
    "india3.info()"
   ]
  },
  {
   "cell_type": "code",
   "execution_count": 4,
   "id": "194c6b97",
   "metadata": {
    "scrolled": true
   },
   "outputs": [
    {
     "data": {
      "text/html": [
       "<div>\n",
       "<style scoped>\n",
       "    .dataframe tbody tr th:only-of-type {\n",
       "        vertical-align: middle;\n",
       "    }\n",
       "\n",
       "    .dataframe tbody tr th {\n",
       "        vertical-align: top;\n",
       "    }\n",
       "\n",
       "    .dataframe thead th {\n",
       "        text-align: right;\n",
       "    }\n",
       "</style>\n",
       "<table border=\"1\" class=\"dataframe\">\n",
       "  <thead>\n",
       "    <tr style=\"text-align: right;\">\n",
       "      <th></th>\n",
       "      <th>Timestamp</th>\n",
       "      <th>Year</th>\n",
       "      <th>Month</th>\n",
       "      <th>Day</th>\n",
       "      <th>Hour</th>\n",
       "      <th>PM2.5</th>\n",
       "    </tr>\n",
       "  </thead>\n",
       "  <tbody>\n",
       "    <tr>\n",
       "      <th>0</th>\n",
       "      <td>2017-11-07 12:00:00</td>\n",
       "      <td>2017</td>\n",
       "      <td>11</td>\n",
       "      <td>7</td>\n",
       "      <td>12</td>\n",
       "      <td>64.51</td>\n",
       "    </tr>\n",
       "    <tr>\n",
       "      <th>1</th>\n",
       "      <td>2017-11-07 13:00:00</td>\n",
       "      <td>2017</td>\n",
       "      <td>11</td>\n",
       "      <td>7</td>\n",
       "      <td>13</td>\n",
       "      <td>69.95</td>\n",
       "    </tr>\n",
       "    <tr>\n",
       "      <th>2</th>\n",
       "      <td>2017-11-07 14:00:00</td>\n",
       "      <td>2017</td>\n",
       "      <td>11</td>\n",
       "      <td>7</td>\n",
       "      <td>14</td>\n",
       "      <td>92.79</td>\n",
       "    </tr>\n",
       "    <tr>\n",
       "      <th>3</th>\n",
       "      <td>2017-11-07 15:00:00</td>\n",
       "      <td>2017</td>\n",
       "      <td>11</td>\n",
       "      <td>7</td>\n",
       "      <td>15</td>\n",
       "      <td>109.66</td>\n",
       "    </tr>\n",
       "    <tr>\n",
       "      <th>4</th>\n",
       "      <td>2017-11-07 16:00:00</td>\n",
       "      <td>2017</td>\n",
       "      <td>11</td>\n",
       "      <td>7</td>\n",
       "      <td>16</td>\n",
       "      <td>116.50</td>\n",
       "    </tr>\n",
       "  </tbody>\n",
       "</table>\n",
       "</div>"
      ],
      "text/plain": [
       "             Timestamp  Year  Month  Day  Hour   PM2.5\n",
       "0  2017-11-07 12:00:00  2017     11    7    12   64.51\n",
       "1  2017-11-07 13:00:00  2017     11    7    13   69.95\n",
       "2  2017-11-07 14:00:00  2017     11    7    14   92.79\n",
       "3  2017-11-07 15:00:00  2017     11    7    15  109.66\n",
       "4  2017-11-07 16:00:00  2017     11    7    16  116.50"
      ]
     },
     "execution_count": 4,
     "metadata": {},
     "output_type": "execute_result"
    }
   ],
   "source": [
    "india3.head()"
   ]
  },
  {
   "cell_type": "code",
   "execution_count": 5,
   "id": "38bd0bf0",
   "metadata": {},
   "outputs": [
    {
     "data": {
      "text/html": [
       "<div>\n",
       "<style scoped>\n",
       "    .dataframe tbody tr th:only-of-type {\n",
       "        vertical-align: middle;\n",
       "    }\n",
       "\n",
       "    .dataframe tbody tr th {\n",
       "        vertical-align: top;\n",
       "    }\n",
       "\n",
       "    .dataframe thead th {\n",
       "        text-align: right;\n",
       "    }\n",
       "</style>\n",
       "<table border=\"1\" class=\"dataframe\">\n",
       "  <thead>\n",
       "    <tr style=\"text-align: right;\">\n",
       "      <th></th>\n",
       "      <th>Year</th>\n",
       "      <th>Month</th>\n",
       "      <th>Day</th>\n",
       "      <th>Hour</th>\n",
       "      <th>PM2.5</th>\n",
       "    </tr>\n",
       "  </thead>\n",
       "  <tbody>\n",
       "    <tr>\n",
       "      <th>count</th>\n",
       "      <td>36192.000000</td>\n",
       "      <td>36192.000000</td>\n",
       "      <td>36192.000000</td>\n",
       "      <td>36192.000000</td>\n",
       "      <td>36192.000000</td>\n",
       "    </tr>\n",
       "    <tr>\n",
       "      <th>mean</th>\n",
       "      <td>2019.682278</td>\n",
       "      <td>6.331841</td>\n",
       "      <td>15.716401</td>\n",
       "      <td>11.477840</td>\n",
       "      <td>49.308429</td>\n",
       "    </tr>\n",
       "    <tr>\n",
       "      <th>std</th>\n",
       "      <td>1.345011</td>\n",
       "      <td>3.593321</td>\n",
       "      <td>8.859769</td>\n",
       "      <td>6.925088</td>\n",
       "      <td>24.863511</td>\n",
       "    </tr>\n",
       "    <tr>\n",
       "      <th>min</th>\n",
       "      <td>2017.000000</td>\n",
       "      <td>1.000000</td>\n",
       "      <td>1.000000</td>\n",
       "      <td>0.000000</td>\n",
       "      <td>7.020000</td>\n",
       "    </tr>\n",
       "    <tr>\n",
       "      <th>25%</th>\n",
       "      <td>2019.000000</td>\n",
       "      <td>3.000000</td>\n",
       "      <td>8.000000</td>\n",
       "      <td>5.000000</td>\n",
       "      <td>28.080000</td>\n",
       "    </tr>\n",
       "    <tr>\n",
       "      <th>50%</th>\n",
       "      <td>2020.000000</td>\n",
       "      <td>6.000000</td>\n",
       "      <td>16.000000</td>\n",
       "      <td>11.000000</td>\n",
       "      <td>45.730000</td>\n",
       "    </tr>\n",
       "    <tr>\n",
       "      <th>75%</th>\n",
       "      <td>2021.000000</td>\n",
       "      <td>10.000000</td>\n",
       "      <td>23.000000</td>\n",
       "      <td>17.000000</td>\n",
       "      <td>64.520000</td>\n",
       "    </tr>\n",
       "    <tr>\n",
       "      <th>max</th>\n",
       "      <td>2022.000000</td>\n",
       "      <td>12.000000</td>\n",
       "      <td>31.000000</td>\n",
       "      <td>23.000000</td>\n",
       "      <td>245.630000</td>\n",
       "    </tr>\n",
       "  </tbody>\n",
       "</table>\n",
       "</div>"
      ],
      "text/plain": [
       "               Year         Month           Day          Hour         PM2.5\n",
       "count  36192.000000  36192.000000  36192.000000  36192.000000  36192.000000\n",
       "mean    2019.682278      6.331841     15.716401     11.477840     49.308429\n",
       "std        1.345011      3.593321      8.859769      6.925088     24.863511\n",
       "min     2017.000000      1.000000      1.000000      0.000000      7.020000\n",
       "25%     2019.000000      3.000000      8.000000      5.000000     28.080000\n",
       "50%     2020.000000      6.000000     16.000000     11.000000     45.730000\n",
       "75%     2021.000000     10.000000     23.000000     17.000000     64.520000\n",
       "max     2022.000000     12.000000     31.000000     23.000000    245.630000"
      ]
     },
     "execution_count": 5,
     "metadata": {},
     "output_type": "execute_result"
    }
   ],
   "source": [
    "india3.describe()"
   ]
  },
  {
   "cell_type": "markdown",
   "id": "008f5078",
   "metadata": {},
   "source": [
    "### iNDENTIFICATION OF OUTLIERS"
   ]
  },
  {
   "cell_type": "code",
   "execution_count": 7,
   "id": "6a3269b1",
   "metadata": {},
   "outputs": [
    {
     "data": {
      "text/plain": [
       "<Axes: title={'center': 'Distribution of PM2.5 Readings'}>"
      ]
     },
     "execution_count": 7,
     "metadata": {},
     "output_type": "execute_result"
    },
    {
     "data": {
      "image/png": "[encoded data removed]",
      "text/plain": [
       "<Figure size 700x300 with 1 Axes>"
      ]
     },
     "metadata": {},
     "output_type": "display_data"
    }
   ],
   "source": [
    "fig, ax = plt.subplots(figsize=(7, 3))\n",
    "india3['PM2.5'].plot(kind='box', vert=False, title='Distribution of PM2.5 Readings', ax=ax)"
   ]
  },
  {
   "cell_type": "code",
   "execution_count": 81,
   "id": "4ce5c99f",
   "metadata": {},
   "outputs": [],
   "source": [
    "india3 = india3[india3['PM2.5'] < 130]"
   ]
  },
  {
   "cell_type": "code",
   "execution_count": 9,
   "id": "9f197faf",
   "metadata": {},
   "outputs": [
    {
     "data": {
      "text/plain": [
       "<Axes: title={'center': 'Distribution of PM2.5 Readings'}>"
      ]
     },
     "execution_count": 9,
     "metadata": {},
     "output_type": "execute_result"
    },
    {
     "data": {
      "image/png": "[encoded data removed]",
      "text/plain": [
       "<Figure size 700x300 with 1 Axes>"
      ]
     },
     "metadata": {},
     "output_type": "display_data"
    }
   ],
   "source": [
    "fig, ax = plt.subplots(figsize=(7, 3))\n",
    "india3['PM2.5'].plot(kind='box', vert=False, title='Distribution of PM2.5 Readings', ax=ax)"
   ]
  },
  {
   "cell_type": "code",
   "execution_count": 10,
   "id": "b66125c8",
   "metadata": {},
   "outputs": [
    {
     "data": {
      "text/plain": [
       "Timestamp    0\n",
       "Year         0\n",
       "Month        0\n",
       "Day          0\n",
       "Hour         0\n",
       "PM2.5        0\n",
       "dtype: int64"
      ]
     },
     "execution_count": 10,
     "metadata": {},
     "output_type": "execute_result"
    }
   ],
   "source": [
    "india3.isna().sum()"
   ]
  },
  {
   "cell_type": "code",
   "execution_count": 11,
   "id": "863adec0",
   "metadata": {},
   "outputs": [
    {
     "data": {
      "text/html": [
       "<div>\n",
       "<style scoped>\n",
       "    .dataframe tbody tr th:only-of-type {\n",
       "        vertical-align: middle;\n",
       "    }\n",
       "\n",
       "    .dataframe tbody tr th {\n",
       "        vertical-align: top;\n",
       "    }\n",
       "\n",
       "    .dataframe thead th {\n",
       "        text-align: right;\n",
       "    }\n",
       "</style>\n",
       "<table border=\"1\" class=\"dataframe\">\n",
       "  <thead>\n",
       "    <tr style=\"text-align: right;\">\n",
       "      <th></th>\n",
       "      <th>Year</th>\n",
       "      <th>Month</th>\n",
       "      <th>Day</th>\n",
       "      <th>Hour</th>\n",
       "      <th>PM2.5</th>\n",
       "    </tr>\n",
       "  </thead>\n",
       "  <tbody>\n",
       "    <tr>\n",
       "      <th>count</th>\n",
       "      <td>36005.000000</td>\n",
       "      <td>36005.000000</td>\n",
       "      <td>36005.000000</td>\n",
       "      <td>36005.000000</td>\n",
       "      <td>36005.000000</td>\n",
       "    </tr>\n",
       "    <tr>\n",
       "      <th>mean</th>\n",
       "      <td>2019.692209</td>\n",
       "      <td>6.323316</td>\n",
       "      <td>15.717817</td>\n",
       "      <td>11.452354</td>\n",
       "      <td>48.806829</td>\n",
       "    </tr>\n",
       "    <tr>\n",
       "      <th>std</th>\n",
       "      <td>1.339733</td>\n",
       "      <td>3.583519</td>\n",
       "      <td>8.855616</td>\n",
       "      <td>6.924830</td>\n",
       "      <td>23.882261</td>\n",
       "    </tr>\n",
       "    <tr>\n",
       "      <th>min</th>\n",
       "      <td>2017.000000</td>\n",
       "      <td>1.000000</td>\n",
       "      <td>1.000000</td>\n",
       "      <td>0.000000</td>\n",
       "      <td>7.020000</td>\n",
       "    </tr>\n",
       "    <tr>\n",
       "      <th>25%</th>\n",
       "      <td>2019.000000</td>\n",
       "      <td>3.000000</td>\n",
       "      <td>8.000000</td>\n",
       "      <td>5.000000</td>\n",
       "      <td>28.000000</td>\n",
       "    </tr>\n",
       "    <tr>\n",
       "      <th>50%</th>\n",
       "      <td>2020.000000</td>\n",
       "      <td>6.000000</td>\n",
       "      <td>16.000000</td>\n",
       "      <td>11.000000</td>\n",
       "      <td>45.570000</td>\n",
       "    </tr>\n",
       "    <tr>\n",
       "      <th>75%</th>\n",
       "      <td>2021.000000</td>\n",
       "      <td>10.000000</td>\n",
       "      <td>23.000000</td>\n",
       "      <td>17.000000</td>\n",
       "      <td>64.150000</td>\n",
       "    </tr>\n",
       "    <tr>\n",
       "      <th>max</th>\n",
       "      <td>2022.000000</td>\n",
       "      <td>12.000000</td>\n",
       "      <td>31.000000</td>\n",
       "      <td>23.000000</td>\n",
       "      <td>129.970000</td>\n",
       "    </tr>\n",
       "  </tbody>\n",
       "</table>\n",
       "</div>"
      ],
      "text/plain": [
       "               Year         Month           Day          Hour         PM2.5\n",
       "count  36005.000000  36005.000000  36005.000000  36005.000000  36005.000000\n",
       "mean    2019.692209      6.323316     15.717817     11.452354     48.806829\n",
       "std        1.339733      3.583519      8.855616      6.924830     23.882261\n",
       "min     2017.000000      1.000000      1.000000      0.000000      7.020000\n",
       "25%     2019.000000      3.000000      8.000000      5.000000     28.000000\n",
       "50%     2020.000000      6.000000     16.000000     11.000000     45.570000\n",
       "75%     2021.000000     10.000000     23.000000     17.000000     64.150000\n",
       "max     2022.000000     12.000000     31.000000     23.000000    129.970000"
      ]
     },
     "execution_count": 11,
     "metadata": {},
     "output_type": "execute_result"
    }
   ],
   "source": [
    "india3.describe()"
   ]
  },
  {
   "cell_type": "code",
   "execution_count": 12,
   "id": "97563cd9",
   "metadata": {},
   "outputs": [
    {
     "data": {
      "text/plain": [
       "Timestamp    0\n",
       "Year         0\n",
       "Month        0\n",
       "Day          0\n",
       "Hour         0\n",
       "PM2.5        0\n",
       "dtype: int64"
      ]
     },
     "execution_count": 12,
     "metadata": {},
     "output_type": "execute_result"
    }
   ],
   "source": [
    "india3.isna().sum()"
   ]
  },
  {
   "cell_type": "code",
   "execution_count": 13,
   "id": "b00ccb53",
   "metadata": {
    "scrolled": true
   },
   "outputs": [
    {
     "data": {
      "text/html": [
       "<div>\n",
       "<style scoped>\n",
       "    .dataframe tbody tr th:only-of-type {\n",
       "        vertical-align: middle;\n",
       "    }\n",
       "\n",
       "    .dataframe tbody tr th {\n",
       "        vertical-align: top;\n",
       "    }\n",
       "\n",
       "    .dataframe thead th {\n",
       "        text-align: right;\n",
       "    }\n",
       "</style>\n",
       "<table border=\"1\" class=\"dataframe\">\n",
       "  <thead>\n",
       "    <tr style=\"text-align: right;\">\n",
       "      <th></th>\n",
       "      <th>Timestamp</th>\n",
       "      <th>Year</th>\n",
       "      <th>Month</th>\n",
       "      <th>Day</th>\n",
       "      <th>Hour</th>\n",
       "      <th>PM2.5</th>\n",
       "    </tr>\n",
       "  </thead>\n",
       "  <tbody>\n",
       "    <tr>\n",
       "      <th>0</th>\n",
       "      <td>2017-11-07 12:00:00</td>\n",
       "      <td>2017</td>\n",
       "      <td>11</td>\n",
       "      <td>7</td>\n",
       "      <td>12</td>\n",
       "      <td>64.51</td>\n",
       "    </tr>\n",
       "    <tr>\n",
       "      <th>1</th>\n",
       "      <td>2017-11-07 13:00:00</td>\n",
       "      <td>2017</td>\n",
       "      <td>11</td>\n",
       "      <td>7</td>\n",
       "      <td>13</td>\n",
       "      <td>69.95</td>\n",
       "    </tr>\n",
       "    <tr>\n",
       "      <th>2</th>\n",
       "      <td>2017-11-07 14:00:00</td>\n",
       "      <td>2017</td>\n",
       "      <td>11</td>\n",
       "      <td>7</td>\n",
       "      <td>14</td>\n",
       "      <td>92.79</td>\n",
       "    </tr>\n",
       "    <tr>\n",
       "      <th>3</th>\n",
       "      <td>2017-11-07 15:00:00</td>\n",
       "      <td>2017</td>\n",
       "      <td>11</td>\n",
       "      <td>7</td>\n",
       "      <td>15</td>\n",
       "      <td>109.66</td>\n",
       "    </tr>\n",
       "    <tr>\n",
       "      <th>4</th>\n",
       "      <td>2017-11-07 16:00:00</td>\n",
       "      <td>2017</td>\n",
       "      <td>11</td>\n",
       "      <td>7</td>\n",
       "      <td>16</td>\n",
       "      <td>116.50</td>\n",
       "    </tr>\n",
       "  </tbody>\n",
       "</table>\n",
       "</div>"
      ],
      "text/plain": [
       "             Timestamp  Year  Month  Day  Hour   PM2.5\n",
       "0  2017-11-07 12:00:00  2017     11    7    12   64.51\n",
       "1  2017-11-07 13:00:00  2017     11    7    13   69.95\n",
       "2  2017-11-07 14:00:00  2017     11    7    14   92.79\n",
       "3  2017-11-07 15:00:00  2017     11    7    15  109.66\n",
       "4  2017-11-07 16:00:00  2017     11    7    16  116.50"
      ]
     },
     "execution_count": 13,
     "metadata": {},
     "output_type": "execute_result"
    }
   ],
   "source": [
    "india3.head()"
   ]
  },
  {
   "cell_type": "markdown",
   "id": "cd6d4cdf",
   "metadata": {},
   "source": [
    "#### THE TIMESTAMP WAS ORIGINALLY UTC, BUT FOR PROPER EXPLORATION, WE CONVERTED IT TO INDIA TIMEZONE"
   ]
  },
  {
   "cell_type": "code",
   "execution_count": 82,
   "id": "0e7c4485",
   "metadata": {},
   "outputs": [],
   "source": [
    "india3['Timestamp'] = pd.to_datetime(india3['Timestamp']).dt.tz_localize('Asia/Kolkata')"
   ]
  },
  {
   "cell_type": "code",
   "execution_count": 15,
   "id": "5265b2ad",
   "metadata": {},
   "outputs": [
    {
     "data": {
      "text/html": [
       "<div>\n",
       "<style scoped>\n",
       "    .dataframe tbody tr th:only-of-type {\n",
       "        vertical-align: middle;\n",
       "    }\n",
       "\n",
       "    .dataframe tbody tr th {\n",
       "        vertical-align: top;\n",
       "    }\n",
       "\n",
       "    .dataframe thead th {\n",
       "        text-align: right;\n",
       "    }\n",
       "</style>\n",
       "<table border=\"1\" class=\"dataframe\">\n",
       "  <thead>\n",
       "    <tr style=\"text-align: right;\">\n",
       "      <th></th>\n",
       "      <th>Timestamp</th>\n",
       "      <th>Year</th>\n",
       "      <th>Month</th>\n",
       "      <th>Day</th>\n",
       "      <th>Hour</th>\n",
       "      <th>PM2.5</th>\n",
       "    </tr>\n",
       "  </thead>\n",
       "  <tbody>\n",
       "    <tr>\n",
       "      <th>0</th>\n",
       "      <td>2017-11-07 12:00:00+05:30</td>\n",
       "      <td>2017</td>\n",
       "      <td>11</td>\n",
       "      <td>7</td>\n",
       "      <td>12</td>\n",
       "      <td>64.51</td>\n",
       "    </tr>\n",
       "    <tr>\n",
       "      <th>1</th>\n",
       "      <td>2017-11-07 13:00:00+05:30</td>\n",
       "      <td>2017</td>\n",
       "      <td>11</td>\n",
       "      <td>7</td>\n",
       "      <td>13</td>\n",
       "      <td>69.95</td>\n",
       "    </tr>\n",
       "    <tr>\n",
       "      <th>2</th>\n",
       "      <td>2017-11-07 14:00:00+05:30</td>\n",
       "      <td>2017</td>\n",
       "      <td>11</td>\n",
       "      <td>7</td>\n",
       "      <td>14</td>\n",
       "      <td>92.79</td>\n",
       "    </tr>\n",
       "    <tr>\n",
       "      <th>3</th>\n",
       "      <td>2017-11-07 15:00:00+05:30</td>\n",
       "      <td>2017</td>\n",
       "      <td>11</td>\n",
       "      <td>7</td>\n",
       "      <td>15</td>\n",
       "      <td>109.66</td>\n",
       "    </tr>\n",
       "    <tr>\n",
       "      <th>4</th>\n",
       "      <td>2017-11-07 16:00:00+05:30</td>\n",
       "      <td>2017</td>\n",
       "      <td>11</td>\n",
       "      <td>7</td>\n",
       "      <td>16</td>\n",
       "      <td>116.50</td>\n",
       "    </tr>\n",
       "  </tbody>\n",
       "</table>\n",
       "</div>"
      ],
      "text/plain": [
       "                  Timestamp  Year  Month  Day  Hour   PM2.5\n",
       "0 2017-11-07 12:00:00+05:30  2017     11    7    12   64.51\n",
       "1 2017-11-07 13:00:00+05:30  2017     11    7    13   69.95\n",
       "2 2017-11-07 14:00:00+05:30  2017     11    7    14   92.79\n",
       "3 2017-11-07 15:00:00+05:30  2017     11    7    15  109.66\n",
       "4 2017-11-07 16:00:00+05:30  2017     11    7    16  116.50"
      ]
     },
     "execution_count": 15,
     "metadata": {},
     "output_type": "execute_result"
    }
   ],
   "source": [
    "india3.head()"
   ]
  },
  {
   "cell_type": "code",
   "execution_count": 16,
   "id": "1916add4",
   "metadata": {
    "scrolled": true
   },
   "outputs": [
    {
     "name": "stdout",
     "output_type": "stream",
     "text": [
      "<class 'pandas.core.frame.DataFrame'>\n",
      "Int64Index: 36005 entries, 0 to 36191\n",
      "Data columns (total 6 columns):\n",
      " #   Column     Non-Null Count  Dtype                       \n",
      "---  ------     --------------  -----                       \n",
      " 0   Timestamp  36005 non-null  datetime64[ns, Asia/Kolkata]\n",
      " 1   Year       36005 non-null  int64                       \n",
      " 2   Month      36005 non-null  int64                       \n",
      " 3   Day        36005 non-null  int64                       \n",
      " 4   Hour       36005 non-null  int64                       \n",
      " 5   PM2.5      36005 non-null  float64                     \n",
      "dtypes: datetime64[ns, Asia/Kolkata](1), float64(1), int64(4)\n",
      "memory usage: 1.9 MB\n"
     ]
    }
   ],
   "source": [
    "india3.info()"
   ]
  },
  {
   "cell_type": "markdown",
   "id": "ef73f50e",
   "metadata": {},
   "source": [
    "#### BASE ON THE VOLUMOUS OF THE DATA, WE RESAMPLED IT TO BE GROUPED ON DAILY BASES RATHER THEN MINUTES"
   ]
  },
  {
   "cell_type": "code",
   "execution_count": 83,
   "id": "889ddd00",
   "metadata": {},
   "outputs": [],
   "source": [
    "india3 = india3.set_index('Timestamp')['PM2.5'].resample('1D').mean()"
   ]
  },
  {
   "cell_type": "code",
   "execution_count": 84,
   "id": "136066ec",
   "metadata": {},
   "outputs": [],
   "source": [
    "india3 = india3.fillna(method='ffill')"
   ]
  },
  {
   "cell_type": "code",
   "execution_count": 53,
   "id": "0b65a4b8",
   "metadata": {},
   "outputs": [],
   "source": [
    "india1 = india3.copy() "
   ]
  },
  {
   "cell_type": "code",
   "execution_count": 52,
   "id": "e40a31f4",
   "metadata": {},
   "outputs": [
    {
     "data": {
      "text/plain": [
       "Timestamp\n",
       "2017-11-07 00:00:00+05:30     99.805833\n",
       "2017-11-08 00:00:00+05:30    104.547368\n",
       "2017-11-09 00:00:00+05:30    110.092000\n",
       "2017-11-10 00:00:00+05:30    111.308750\n",
       "2017-11-11 00:00:00+05:30    105.375789\n",
       "2017-11-12 00:00:00+05:30    110.725714\n",
       "2017-11-13 00:00:00+05:30    108.982778\n",
       "2017-11-14 00:00:00+05:30     89.475000\n",
       "2017-11-15 00:00:00+05:30     78.730588\n",
       "2017-11-16 00:00:00+05:30     74.196250\n",
       "Freq: D, Name: PM2.5, dtype: float64"
      ]
     },
     "execution_count": 52,
     "metadata": {},
     "output_type": "execute_result"
    }
   ],
   "source": [
    "india3.head(10)"
   ]
  },
  {
   "cell_type": "code",
   "execution_count": 19,
   "id": "1985eef8",
   "metadata": {},
   "outputs": [
    {
     "data": {
      "text/plain": [
       "count    1616.000000\n",
       "mean       48.561015\n",
       "std        22.787294\n",
       "min        12.635714\n",
       "25%        27.327396\n",
       "50%        47.140500\n",
       "75%        65.145625\n",
       "max       115.580000\n",
       "Name: PM2.5, dtype: float64"
      ]
     },
     "execution_count": 19,
     "metadata": {},
     "output_type": "execute_result"
    }
   ],
   "source": [
    "india3.describe()"
   ]
  },
  {
   "cell_type": "code",
   "execution_count": 26,
   "id": "ff7f5967",
   "metadata": {},
   "outputs": [
    {
     "data": {
      "text/plain": [
       "0"
      ]
     },
     "execution_count": 26,
     "metadata": {},
     "output_type": "execute_result"
    }
   ],
   "source": [
    "india3.isna().sum()"
   ]
  },
  {
   "cell_type": "code",
   "execution_count": 85,
   "id": "4b85bc07",
   "metadata": {},
   "outputs": [
    {
     "data": {
      "text/html": [
       "<div>\n",
       "<style scoped>\n",
       "    .dataframe tbody tr th:only-of-type {\n",
       "        vertical-align: middle;\n",
       "    }\n",
       "\n",
       "    .dataframe tbody tr th {\n",
       "        vertical-align: top;\n",
       "    }\n",
       "\n",
       "    .dataframe thead th {\n",
       "        text-align: right;\n",
       "    }\n",
       "</style>\n",
       "<table border=\"1\" class=\"dataframe\">\n",
       "  <thead>\n",
       "    <tr style=\"text-align: right;\">\n",
       "      <th></th>\n",
       "      <th>PM2.5</th>\n",
       "    </tr>\n",
       "    <tr>\n",
       "      <th>Timestamp</th>\n",
       "      <th></th>\n",
       "    </tr>\n",
       "  </thead>\n",
       "  <tbody>\n",
       "    <tr>\n",
       "      <th>2017-11-07 00:00:00+05:30</th>\n",
       "      <td>99.805833</td>\n",
       "    </tr>\n",
       "    <tr>\n",
       "      <th>2017-11-08 00:00:00+05:30</th>\n",
       "      <td>104.547368</td>\n",
       "    </tr>\n",
       "    <tr>\n",
       "      <th>2017-11-09 00:00:00+05:30</th>\n",
       "      <td>110.092000</td>\n",
       "    </tr>\n",
       "    <tr>\n",
       "      <th>2017-11-10 00:00:00+05:30</th>\n",
       "      <td>111.308750</td>\n",
       "    </tr>\n",
       "    <tr>\n",
       "      <th>2017-11-11 00:00:00+05:30</th>\n",
       "      <td>105.375789</td>\n",
       "    </tr>\n",
       "    <tr>\n",
       "      <th>2017-11-12 00:00:00+05:30</th>\n",
       "      <td>110.725714</td>\n",
       "    </tr>\n",
       "    <tr>\n",
       "      <th>2017-11-13 00:00:00+05:30</th>\n",
       "      <td>108.982778</td>\n",
       "    </tr>\n",
       "    <tr>\n",
       "      <th>2017-11-14 00:00:00+05:30</th>\n",
       "      <td>89.475000</td>\n",
       "    </tr>\n",
       "    <tr>\n",
       "      <th>2017-11-15 00:00:00+05:30</th>\n",
       "      <td>78.730588</td>\n",
       "    </tr>\n",
       "    <tr>\n",
       "      <th>2017-11-16 00:00:00+05:30</th>\n",
       "      <td>74.196250</td>\n",
       "    </tr>\n",
       "  </tbody>\n",
       "</table>\n",
       "</div>"
      ],
      "text/plain": [
       "                                PM2.5\n",
       "Timestamp                            \n",
       "2017-11-07 00:00:00+05:30   99.805833\n",
       "2017-11-08 00:00:00+05:30  104.547368\n",
       "2017-11-09 00:00:00+05:30  110.092000\n",
       "2017-11-10 00:00:00+05:30  111.308750\n",
       "2017-11-11 00:00:00+05:30  105.375789\n",
       "2017-11-12 00:00:00+05:30  110.725714\n",
       "2017-11-13 00:00:00+05:30  108.982778\n",
       "2017-11-14 00:00:00+05:30   89.475000\n",
       "2017-11-15 00:00:00+05:30   78.730588\n",
       "2017-11-16 00:00:00+05:30   74.196250"
      ]
     },
     "execution_count": 85,
     "metadata": {},
     "output_type": "execute_result"
    }
   ],
   "source": [
    "df = india3.copy()\n",
    "df = df.to_frame()\n",
    "df.head(10)"
   ]
  },
  {
   "cell_type": "code",
   "execution_count": 28,
   "id": "b29caa45",
   "metadata": {},
   "outputs": [
    {
     "data": {
      "text/plain": [
       "PM2.5    0\n",
       "dtype: int64"
      ]
     },
     "execution_count": 28,
     "metadata": {},
     "output_type": "execute_result"
    }
   ],
   "source": [
    "df.isna().sum()"
   ]
  },
  {
   "cell_type": "markdown",
   "id": "f77d9dad",
   "metadata": {},
   "source": [
    "### CHECKING THE TIME FLOW CHAT TO CHECK CORRELATION"
   ]
  },
  {
   "cell_type": "code",
   "execution_count": 29,
   "id": "37c3ee15",
   "metadata": {},
   "outputs": [
    {
     "data": {
      "text/plain": [
       "<Axes: xlabel='Timestamp'>"
      ]
     },
     "execution_count": 29,
     "metadata": {},
     "output_type": "execute_result"
    },
    {
     "data": {
      "image/png": "[encoded data removed]",
      "text/plain": [
       "<Figure size 1500x600 with 1 Axes>"
      ]
     },
     "metadata": {},
     "output_type": "display_data"
    }
   ],
   "source": [
    "fig, ax = plt.subplots(figsize=(15, 6))\n",
    "df['PM2.5'].plot(ax=ax)"
   ]
  },
  {
   "cell_type": "markdown",
   "id": "64d6c04b",
   "metadata": {},
   "source": [
    "#### ROLLING UP THE DATA TO REDUCE THE NOISE OF THE MINUTES DATA POINTS, ROLLING IT TO 24 HOURS TIME LIMIT"
   ]
  },
  {
   "cell_type": "code",
   "execution_count": 30,
   "id": "2a2cb31a",
   "metadata": {},
   "outputs": [
    {
     "data": {
      "text/plain": [
       "(<Axes: xlabel='Timestamp'>,)"
      ]
     },
     "execution_count": 30,
     "metadata": {},
     "output_type": "execute_result"
    },
    {
     "data": {
      "image/png": "[encoded data removed]",
      "text/plain": [
       "<Figure size 1500x600 with 1 Axes>"
      ]
     },
     "metadata": {},
     "output_type": "display_data"
    }
   ],
   "source": [
    "fig, ax = plt.subplots(figsize=(15, 6))\n",
    "df['PM2.5'].rolling(24).mean().plot(ax=ax),"
   ]
  },
  {
   "cell_type": "markdown",
   "id": "1dd0df4b",
   "metadata": {},
   "source": [
    "### PLOTING ACF AND PCF TO CHECK THE CORRELATION COEFFICIENT"
   ]
  },
  {
   "cell_type": "code",
   "execution_count": 31,
   "id": "158c61c7",
   "metadata": {},
   "outputs": [
    {
     "data": {
      "image/png": "[encoded data removed]",
      "text/plain": [
       "<Figure size 1500x600 with 1 Axes>"
      ]
     },
     "execution_count": 31,
     "metadata": {},
     "output_type": "execute_result"
    },
    {
     "data": {
      "image/png": "[encoded data removed]",
      "text/plain": [
       "<Figure size 1500x600 with 1 Axes>"
      ]
     },
     "metadata": {},
     "output_type": "display_data"
    }
   ],
   "source": [
    "fig, ax = plt.subplots(figsize=(15, 6))\n",
    "plot_acf(df, ax=ax)"
   ]
  },
  {
   "cell_type": "code",
   "execution_count": 34,
   "id": "d1b62e47",
   "metadata": {
    "scrolled": false
   },
   "outputs": [
    {
     "data": {
      "image/png": "[encoded data removed]",
      "text/plain": [
       "<Figure size 1500x600 with 1 Axes>"
      ]
     },
     "execution_count": 34,
     "metadata": {},
     "output_type": "execute_result"
    },
    {
     "data": {
      "image/png": "[encoded data removed]",
      "text/plain": [
       "<Figure size 1500x600 with 1 Axes>"
      ]
     },
     "metadata": {},
     "output_type": "display_data"
    }
   ],
   "source": [
    "fig, ax = plt.subplots(figsize=(15, 6))\n",
    "plot_pacf(df, ax=ax)"
   ]
  },
  {
   "cell_type": "markdown",
   "id": "4c1f4493",
   "metadata": {},
   "source": [
    "### USING CUT OFF POINT TO SPLIT OUR DATA INTO TRAINING AND TEST DATA"
   ]
  },
  {
   "cell_type": "code",
   "execution_count": 54,
   "id": "2296b2a1",
   "metadata": {},
   "outputs": [
    {
     "name": "stdout",
     "output_type": "stream",
     "text": [
      "y_train shape: (1503,)\n",
      "y_test shape: (168,)\n"
     ]
    }
   ],
   "source": [
    "cutoff_test = int(len(india1) * 0.90)\n",
    "y_train = india1.iloc[:cutoff_test]\n",
    "y_test = india1.iloc[cutoff_test:]\n",
    "print(\"y_train shape:\", y_train.shape)\n",
    "print(\"y_test shape:\", y_test.shape)"
   ]
  },
  {
   "cell_type": "markdown",
   "id": "19803a0f",
   "metadata": {},
   "source": [
    "#### THE BASLINE IS TO CHECK THE ERROR OF THE ROUGH DATA AND LATER COMPARED BACK TO THE MODELLED DATA ABSOLUTE ERROR, THE LESSER ONE WILL BE PREFFERABLE"
   ]
  },
  {
   "cell_type": "code",
   "execution_count": 55,
   "id": "017e658a",
   "metadata": {},
   "outputs": [
    {
     "name": "stdout",
     "output_type": "stream",
     "text": [
      "Mean P2 Reading: 47.99719365720512\n",
      "Baseline MAE: 20.217854471066133\n"
     ]
    }
   ],
   "source": [
    "y_train_mean = y_train.mean()\n",
    "y_pred_baseline = [y_train_mean] * len(y_train)\n",
    "mae_baseline = mean_absolute_error(y_train, y_pred_baseline)\n",
    "\n",
    "print(\"Mean P2 Reading:\", y_train_mean)\n",
    "print(\"Baseline MAE:\", mae_baseline)"
   ]
  },
  {
   "cell_type": "markdown",
   "id": "460c3741",
   "metadata": {},
   "source": [
    "### BUILDING THE MODEL THROUGH AUTOREG MODELLING TECHNIQUE"
   ]
  },
  {
   "cell_type": "code",
   "execution_count": 56,
   "id": "22308b63",
   "metadata": {},
   "outputs": [
    {
     "data": {
      "text/plain": [
       "1    3.284779\n",
       "2    3.274485\n",
       "3    3.245634\n",
       "4    3.234230\n",
       "5    3.230538\n",
       "Name: mae, dtype: float64"
      ]
     },
     "execution_count": 56,
     "metadata": {},
     "output_type": "execute_result"
    }
   ],
   "source": [
    "\n",
    "p_params = range(1, 31)\n",
    "\n",
    "maes = []\n",
    "\n",
    "for p in p_params:\n",
    "    # Build model\n",
    "    model = AutoReg(y_train, lags=p).fit()\n",
    "\n",
    "    # Make predictions on training data, dropping null values caused by lag\n",
    "    y_pred = model.predict().dropna()\n",
    "\n",
    "    # Calculate mean absolute error for training data vs predictions\n",
    "    mae = mean_absolute_error(y_train.iloc[p:], y_pred)\n",
    "\n",
    "    # Append `mae` to list `maes`\n",
    "    maes.append(mae)\n",
    "\n",
    "# Put list `maes` into Series with index `p_params`\n",
    "mae_series = pd.Series(maes, name=\"mae\", index=p_params)\n",
    "\n",
    "# Inspect head of Series\n",
    "mae_series.head()"
   ]
  },
  {
   "cell_type": "code",
   "execution_count": 39,
   "id": "7fb90e00",
   "metadata": {},
   "outputs": [
    {
     "data": {
      "text/plain": [
       "1     3.284779\n",
       "2     3.274485\n",
       "3     3.245634\n",
       "4     3.234230\n",
       "5     3.230538\n",
       "6     3.216405\n",
       "7     3.216573\n",
       "8     3.205525\n",
       "9     3.198977\n",
       "10    3.199704\n",
       "11    3.199069\n",
       "12    3.192887\n",
       "13    3.193441\n",
       "14    3.185171\n",
       "15    3.180634\n",
       "16    3.168810\n",
       "17    3.159514\n",
       "18    3.144289\n",
       "19    3.138461\n",
       "20    3.135789\n",
       "21    3.137118\n",
       "22    3.136474\n",
       "23    3.134975\n",
       "24    3.131906\n",
       "25    3.137259\n",
       "26    3.136788\n",
       "27    3.132397\n",
       "28    3.132805\n",
       "29    3.120548\n",
       "30    3.114913\n",
       "Name: mae, dtype: float64"
      ]
     },
     "execution_count": 39,
     "metadata": {},
     "output_type": "execute_result"
    }
   ],
   "source": [
    "mae_series"
   ]
  },
  {
   "cell_type": "code",
   "execution_count": 57,
   "id": "2b4e1f40",
   "metadata": {},
   "outputs": [],
   "source": [
    "best_p = int(3.114913)\n",
    "best_model = AutoReg(y_train, lags=best_p).fit()"
   ]
  },
  {
   "cell_type": "code",
   "execution_count": 58,
   "id": "b3d1ec7d",
   "metadata": {},
   "outputs": [
    {
     "data": {
      "text/plain": [
       "Timestamp\n",
       "2017-11-10 00:00:00+05:30     2.610978\n",
       "2017-11-11 00:00:00+05:30    -4.061922\n",
       "2017-11-12 00:00:00+05:30     7.248583\n",
       "2017-11-13 00:00:00+05:30    -1.430036\n",
       "2017-11-14 00:00:00+05:30   -17.456226\n",
       "Freq: D, Name: residuals, dtype: float64"
      ]
     },
     "execution_count": 58,
     "metadata": {},
     "output_type": "execute_result"
    }
   ],
   "source": [
    "y_train_resid = best_model.resid\n",
    "y_train_resid.name = \"residuals\"\n",
    "y_train_resid.head()"
   ]
  },
  {
   "cell_type": "code",
   "execution_count": 121,
   "id": "2445c9bb",
   "metadata": {
    "scrolled": true
   },
   "outputs": [
    {
     "data": {
      "text/plain": [
       "<Axes: >"
      ]
     },
     "execution_count": 121,
     "metadata": {},
     "output_type": "execute_result"
    },
    {
     "data": {
      "image/png": "[encoded data removed]",
      "text/plain": [
       "<Figure size 640x480 with 1 Axes>"
      ]
     },
     "metadata": {},
     "output_type": "display_data"
    }
   ],
   "source": [
    "y_train_resid.hist()"
   ]
  },
  {
   "cell_type": "markdown",
   "id": "d732d1a9",
   "metadata": {},
   "source": [
    "### CHECKING THE CORRELATION COEFFICIENT WITH OUR TRAINED DATA"
   ]
  },
  {
   "cell_type": "code",
   "execution_count": 43,
   "id": "013810a8",
   "metadata": {},
   "outputs": [
    {
     "data": {
      "image/png": "[encoded data removed]",
      "text/plain": [
       "<Figure size 1500x600 with 1 Axes>"
      ]
     },
     "execution_count": 43,
     "metadata": {},
     "output_type": "execute_result"
    },
    {
     "data": {
      "image/png": "[encoded data removed]",
      "text/plain": [
       "<Figure size 1500x600 with 1 Axes>"
      ]
     },
     "metadata": {},
     "output_type": "display_data"
    }
   ],
   "source": [
    "fig, ax = plt.subplots(figsize=(15, 6))\n",
    "plot_acf(y_train_resid, ax=ax)"
   ]
  },
  {
   "cell_type": "code",
   "execution_count": 62,
   "id": "c8763f31",
   "metadata": {},
   "outputs": [
    {
     "name": "stderr",
     "output_type": "stream",
     "text": [
      "C:\\Users\\ACER\\AppData\\Local\\Temp\\ipykernel_6428\\1271811932.py:1: FutureWarning: The default dtype for empty Series will be 'object' instead of 'float64' in a future version. Specify a dtype explicitly to silence this warning.\n",
      "  y_pred_wfv = pd.Series()\n",
      "C:\\Users\\ACER\\AppData\\Local\\Temp\\ipykernel_6428\\1271811932.py:6: FutureWarning: The series.append method is deprecated and will be removed from pandas in a future version. Use pandas.concat instead.\n",
      "  y_pred_wfv = y_pred_wfv.append(next_pred)\n",
      "C:\\Users\\ACER\\AppData\\Local\\Temp\\ipykernel_6428\\1271811932.py:7: FutureWarning: The series.append method is deprecated and will be removed from pandas in a future version. Use pandas.concat instead.\n",
      "  history = history.append(y_test[next_pred.index])\n",
      "C:\\Users\\ACER\\AppData\\Local\\Temp\\ipykernel_6428\\1271811932.py:6: FutureWarning: The series.append method is deprecated and will be removed from pandas in a future version. Use pandas.concat instead.\n",
      "  y_pred_wfv = y_pred_wfv.append(next_pred)\n",
      "C:\\Users\\ACER\\AppData\\Local\\Temp\\ipykernel_6428\\1271811932.py:7: FutureWarning: The series.append method is deprecated and will be removed from pandas in a future version. Use pandas.concat instead.\n",
      "  history = history.append(y_test[next_pred.index])\n",
      "C:\\Users\\ACER\\AppData\\Local\\Temp\\ipykernel_6428\\1271811932.py:6: FutureWarning: The series.append method is deprecated and will be removed from pandas in a future version. Use pandas.concat instead.\n",
      "  y_pred_wfv = y_pred_wfv.append(next_pred)\n",
      "C:\\Users\\ACER\\AppData\\Local\\Temp\\ipykernel_6428\\1271811932.py:7: FutureWarning: The series.append method is deprecated and will be removed from pandas in a future version. Use pandas.concat instead.\n",
      "  history = history.append(y_test[next_pred.index])\n",
      "C:\\Users\\ACER\\AppData\\Local\\Temp\\ipykernel_6428\\1271811932.py:6: FutureWarning: The series.append method is deprecated and will be removed from pandas in a future version. Use pandas.concat instead.\n",
      "  y_pred_wfv = y_pred_wfv.append(next_pred)\n",
      "C:\\Users\\ACER\\AppData\\Local\\Temp\\ipykernel_6428\\1271811932.py:7: FutureWarning: The series.append method is deprecated and will be removed from pandas in a future version. Use pandas.concat instead.\n",
      "  history = history.append(y_test[next_pred.index])\n",
      "C:\\Users\\ACER\\AppData\\Local\\Temp\\ipykernel_6428\\1271811932.py:6: FutureWarning: The series.append method is deprecated and will be removed from pandas in a future version. Use pandas.concat instead.\n",
      "  y_pred_wfv = y_pred_wfv.append(next_pred)\n",
      "C:\\Users\\ACER\\AppData\\Local\\Temp\\ipykernel_6428\\1271811932.py:7: FutureWarning: The series.append method is deprecated and will be removed from pandas in a future version. Use pandas.concat instead.\n",
      "  history = history.append(y_test[next_pred.index])\n",
      "C:\\Users\\ACER\\AppData\\Local\\Temp\\ipykernel_6428\\1271811932.py:6: FutureWarning: The series.append method is deprecated and will be removed from pandas in a future version. Use pandas.concat instead.\n",
      "  y_pred_wfv = y_pred_wfv.append(next_pred)\n",
      "C:\\Users\\ACER\\AppData\\Local\\Temp\\ipykernel_6428\\1271811932.py:7: FutureWarning: The series.append method is deprecated and will be removed from pandas in a future version. Use pandas.concat instead.\n",
      "  history = history.append(y_test[next_pred.index])\n",
      "C:\\Users\\ACER\\AppData\\Local\\Temp\\ipykernel_6428\\1271811932.py:6: FutureWarning: The series.append method is deprecated and will be removed from pandas in a future version. Use pandas.concat instead.\n",
      "  y_pred_wfv = y_pred_wfv.append(next_pred)\n",
      "C:\\Users\\ACER\\AppData\\Local\\Temp\\ipykernel_6428\\1271811932.py:7: FutureWarning: The series.append method is deprecated and will be removed from pandas in a future version. Use pandas.concat instead.\n",
      "  history = history.append(y_test[next_pred.index])\n",
      "C:\\Users\\ACER\\AppData\\Local\\Temp\\ipykernel_6428\\1271811932.py:6: FutureWarning: The series.append method is deprecated and will be removed from pandas in a future version. Use pandas.concat instead.\n",
      "  y_pred_wfv = y_pred_wfv.append(next_pred)\n",
      "C:\\Users\\ACER\\AppData\\Local\\Temp\\ipykernel_6428\\1271811932.py:7: FutureWarning: The series.append method is deprecated and will be removed from pandas in a future version. Use pandas.concat instead.\n",
      "  history = history.append(y_test[next_pred.index])\n",
      "C:\\Users\\ACER\\AppData\\Local\\Temp\\ipykernel_6428\\1271811932.py:6: FutureWarning: The series.append method is deprecated and will be removed from pandas in a future version. Use pandas.concat instead.\n",
      "  y_pred_wfv = y_pred_wfv.append(next_pred)\n",
      "C:\\Users\\ACER\\AppData\\Local\\Temp\\ipykernel_6428\\1271811932.py:7: FutureWarning: The series.append method is deprecated and will be removed from pandas in a future version. Use pandas.concat instead.\n",
      "  history = history.append(y_test[next_pred.index])\n",
      "C:\\Users\\ACER\\AppData\\Local\\Temp\\ipykernel_6428\\1271811932.py:6: FutureWarning: The series.append method is deprecated and will be removed from pandas in a future version. Use pandas.concat instead.\n",
      "  y_pred_wfv = y_pred_wfv.append(next_pred)\n",
      "C:\\Users\\ACER\\AppData\\Local\\Temp\\ipykernel_6428\\1271811932.py:7: FutureWarning: The series.append method is deprecated and will be removed from pandas in a future version. Use pandas.concat instead.\n",
      "  history = history.append(y_test[next_pred.index])\n",
      "C:\\Users\\ACER\\AppData\\Local\\Temp\\ipykernel_6428\\1271811932.py:6: FutureWarning: The series.append method is deprecated and will be removed from pandas in a future version. Use pandas.concat instead.\n",
      "  y_pred_wfv = y_pred_wfv.append(next_pred)\n",
      "C:\\Users\\ACER\\AppData\\Local\\Temp\\ipykernel_6428\\1271811932.py:7: FutureWarning: The series.append method is deprecated and will be removed from pandas in a future version. Use pandas.concat instead.\n",
      "  history = history.append(y_test[next_pred.index])\n",
      "C:\\Users\\ACER\\AppData\\Local\\Temp\\ipykernel_6428\\1271811932.py:6: FutureWarning: The series.append method is deprecated and will be removed from pandas in a future version. Use pandas.concat instead.\n",
      "  y_pred_wfv = y_pred_wfv.append(next_pred)\n",
      "C:\\Users\\ACER\\AppData\\Local\\Temp\\ipykernel_6428\\1271811932.py:7: FutureWarning: The series.append method is deprecated and will be removed from pandas in a future version. Use pandas.concat instead.\n",
      "  history = history.append(y_test[next_pred.index])\n",
      "C:\\Users\\ACER\\AppData\\Local\\Temp\\ipykernel_6428\\1271811932.py:6: FutureWarning: The series.append method is deprecated and will be removed from pandas in a future version. Use pandas.concat instead.\n",
      "  y_pred_wfv = y_pred_wfv.append(next_pred)\n",
      "C:\\Users\\ACER\\AppData\\Local\\Temp\\ipykernel_6428\\1271811932.py:7: FutureWarning: The series.append method is deprecated and will be removed from pandas in a future version. Use pandas.concat instead.\n",
      "  history = history.append(y_test[next_pred.index])\n",
      "C:\\Users\\ACER\\AppData\\Local\\Temp\\ipykernel_6428\\1271811932.py:6: FutureWarning: The series.append method is deprecated and will be removed from pandas in a future version. Use pandas.concat instead.\n",
      "  y_pred_wfv = y_pred_wfv.append(next_pred)\n",
      "C:\\Users\\ACER\\AppData\\Local\\Temp\\ipykernel_6428\\1271811932.py:7: FutureWarning: The series.append method is deprecated and will be removed from pandas in a future version. Use pandas.concat instead.\n",
      "  history = history.append(y_test[next_pred.index])\n",
      "C:\\Users\\ACER\\AppData\\Local\\Temp\\ipykernel_6428\\1271811932.py:6: FutureWarning: The series.append method is deprecated and will be removed from pandas in a future version. Use pandas.concat instead.\n",
      "  y_pred_wfv = y_pred_wfv.append(next_pred)\n",
      "C:\\Users\\ACER\\AppData\\Local\\Temp\\ipykernel_6428\\1271811932.py:7: FutureWarning: The series.append method is deprecated and will be removed from pandas in a future version. Use pandas.concat instead.\n",
      "  history = history.append(y_test[next_pred.index])\n",
      "C:\\Users\\ACER\\AppData\\Local\\Temp\\ipykernel_6428\\1271811932.py:6: FutureWarning: The series.append method is deprecated and will be removed from pandas in a future version. Use pandas.concat instead.\n",
      "  y_pred_wfv = y_pred_wfv.append(next_pred)\n",
      "C:\\Users\\ACER\\AppData\\Local\\Temp\\ipykernel_6428\\1271811932.py:7: FutureWarning: The series.append method is deprecated and will be removed from pandas in a future version. Use pandas.concat instead.\n",
      "  history = history.append(y_test[next_pred.index])\n",
      "C:\\Users\\ACER\\AppData\\Local\\Temp\\ipykernel_6428\\1271811932.py:6: FutureWarning: The series.append method is deprecated and will be removed from pandas in a future version. Use pandas.concat instead.\n",
      "  y_pred_wfv = y_pred_wfv.append(next_pred)\n",
      "C:\\Users\\ACER\\AppData\\Local\\Temp\\ipykernel_6428\\1271811932.py:7: FutureWarning: The series.append method is deprecated and will be removed from pandas in a future version. Use pandas.concat instead.\n",
      "  history = history.append(y_test[next_pred.index])\n",
      "C:\\Users\\ACER\\AppData\\Local\\Temp\\ipykernel_6428\\1271811932.py:6: FutureWarning: The series.append method is deprecated and will be removed from pandas in a future version. Use pandas.concat instead.\n",
      "  y_pred_wfv = y_pred_wfv.append(next_pred)\n",
      "C:\\Users\\ACER\\AppData\\Local\\Temp\\ipykernel_6428\\1271811932.py:7: FutureWarning: The series.append method is deprecated and will be removed from pandas in a future version. Use pandas.concat instead.\n",
      "  history = history.append(y_test[next_pred.index])\n",
      "C:\\Users\\ACER\\AppData\\Local\\Temp\\ipykernel_6428\\1271811932.py:6: FutureWarning: The series.append method is deprecated and will be removed from pandas in a future version. Use pandas.concat instead.\n",
      "  y_pred_wfv = y_pred_wfv.append(next_pred)\n",
      "C:\\Users\\ACER\\AppData\\Local\\Temp\\ipykernel_6428\\1271811932.py:7: FutureWarning: The series.append method is deprecated and will be removed from pandas in a future version. Use pandas.concat instead.\n",
      "  history = history.append(y_test[next_pred.index])\n",
      "C:\\Users\\ACER\\AppData\\Local\\Temp\\ipykernel_6428\\1271811932.py:6: FutureWarning: The series.append method is deprecated and will be removed from pandas in a future version. Use pandas.concat instead.\n",
      "  y_pred_wfv = y_pred_wfv.append(next_pred)\n",
      "C:\\Users\\ACER\\AppData\\Local\\Temp\\ipykernel_6428\\1271811932.py:7: FutureWarning: The series.append method is deprecated and will be removed from pandas in a future version. Use pandas.concat instead.\n",
      "  history = history.append(y_test[next_pred.index])\n",
      "C:\\Users\\ACER\\AppData\\Local\\Temp\\ipykernel_6428\\1271811932.py:6: FutureWarning: The series.append method is deprecated and will be removed from pandas in a future version. Use pandas.concat instead.\n",
      "  y_pred_wfv = y_pred_wfv.append(next_pred)\n",
      "C:\\Users\\ACER\\AppData\\Local\\Temp\\ipykernel_6428\\1271811932.py:7: FutureWarning: The series.append method is deprecated and will be removed from pandas in a future version. Use pandas.concat instead.\n",
      "  history = history.append(y_test[next_pred.index])\n",
      "C:\\Users\\ACER\\AppData\\Local\\Temp\\ipykernel_6428\\1271811932.py:6: FutureWarning: The series.append method is deprecated and will be removed from pandas in a future version. Use pandas.concat instead.\n",
      "  y_pred_wfv = y_pred_wfv.append(next_pred)\n",
      "C:\\Users\\ACER\\AppData\\Local\\Temp\\ipykernel_6428\\1271811932.py:7: FutureWarning: The series.append method is deprecated and will be removed from pandas in a future version. Use pandas.concat instead.\n",
      "  history = history.append(y_test[next_pred.index])\n",
      "C:\\Users\\ACER\\AppData\\Local\\Temp\\ipykernel_6428\\1271811932.py:6: FutureWarning: The series.append method is deprecated and will be removed from pandas in a future version. Use pandas.concat instead.\n",
      "  y_pred_wfv = y_pred_wfv.append(next_pred)\n",
      "C:\\Users\\ACER\\AppData\\Local\\Temp\\ipykernel_6428\\1271811932.py:7: FutureWarning: The series.append method is deprecated and will be removed from pandas in a future version. Use pandas.concat instead.\n",
      "  history = history.append(y_test[next_pred.index])\n",
      "C:\\Users\\ACER\\AppData\\Local\\Temp\\ipykernel_6428\\1271811932.py:6: FutureWarning: The series.append method is deprecated and will be removed from pandas in a future version. Use pandas.concat instead.\n",
      "  y_pred_wfv = y_pred_wfv.append(next_pred)\n",
      "C:\\Users\\ACER\\AppData\\Local\\Temp\\ipykernel_6428\\1271811932.py:7: FutureWarning: The series.append method is deprecated and will be removed from pandas in a future version. Use pandas.concat instead.\n",
      "  history = history.append(y_test[next_pred.index])\n",
      "C:\\Users\\ACER\\AppData\\Local\\Temp\\ipykernel_6428\\1271811932.py:6: FutureWarning: The series.append method is deprecated and will be removed from pandas in a future version. Use pandas.concat instead.\n",
      "  y_pred_wfv = y_pred_wfv.append(next_pred)\n",
      "C:\\Users\\ACER\\AppData\\Local\\Temp\\ipykernel_6428\\1271811932.py:7: FutureWarning: The series.append method is deprecated and will be removed from pandas in a future version. Use pandas.concat instead.\n",
      "  history = history.append(y_test[next_pred.index])\n",
      "C:\\Users\\ACER\\AppData\\Local\\Temp\\ipykernel_6428\\1271811932.py:6: FutureWarning: The series.append method is deprecated and will be removed from pandas in a future version. Use pandas.concat instead.\n",
      "  y_pred_wfv = y_pred_wfv.append(next_pred)\n",
      "C:\\Users\\ACER\\AppData\\Local\\Temp\\ipykernel_6428\\1271811932.py:7: FutureWarning: The series.append method is deprecated and will be removed from pandas in a future version. Use pandas.concat instead.\n",
      "  history = history.append(y_test[next_pred.index])\n",
      "C:\\Users\\ACER\\AppData\\Local\\Temp\\ipykernel_6428\\1271811932.py:6: FutureWarning: The series.append method is deprecated and will be removed from pandas in a future version. Use pandas.concat instead.\n",
      "  y_pred_wfv = y_pred_wfv.append(next_pred)\n",
      "C:\\Users\\ACER\\AppData\\Local\\Temp\\ipykernel_6428\\1271811932.py:7: FutureWarning: The series.append method is deprecated and will be removed from pandas in a future version. Use pandas.concat instead.\n",
      "  history = history.append(y_test[next_pred.index])\n",
      "C:\\Users\\ACER\\AppData\\Local\\Temp\\ipykernel_6428\\1271811932.py:6: FutureWarning: The series.append method is deprecated and will be removed from pandas in a future version. Use pandas.concat instead.\n",
      "  y_pred_wfv = y_pred_wfv.append(next_pred)\n",
      "C:\\Users\\ACER\\AppData\\Local\\Temp\\ipykernel_6428\\1271811932.py:7: FutureWarning: The series.append method is deprecated and will be removed from pandas in a future version. Use pandas.concat instead.\n",
      "  history = history.append(y_test[next_pred.index])\n",
      "C:\\Users\\ACER\\AppData\\Local\\Temp\\ipykernel_6428\\1271811932.py:6: FutureWarning: The series.append method is deprecated and will be removed from pandas in a future version. Use pandas.concat instead.\n",
      "  y_pred_wfv = y_pred_wfv.append(next_pred)\n",
      "C:\\Users\\ACER\\AppData\\Local\\Temp\\ipykernel_6428\\1271811932.py:7: FutureWarning: The series.append method is deprecated and will be removed from pandas in a future version. Use pandas.concat instead.\n",
      "  history = history.append(y_test[next_pred.index])\n",
      "C:\\Users\\ACER\\AppData\\Local\\Temp\\ipykernel_6428\\1271811932.py:6: FutureWarning: The series.append method is deprecated and will be removed from pandas in a future version. Use pandas.concat instead.\n",
      "  y_pred_wfv = y_pred_wfv.append(next_pred)\n",
      "C:\\Users\\ACER\\AppData\\Local\\Temp\\ipykernel_6428\\1271811932.py:7: FutureWarning: The series.append method is deprecated and will be removed from pandas in a future version. Use pandas.concat instead.\n",
      "  history = history.append(y_test[next_pred.index])\n",
      "C:\\Users\\ACER\\AppData\\Local\\Temp\\ipykernel_6428\\1271811932.py:6: FutureWarning: The series.append method is deprecated and will be removed from pandas in a future version. Use pandas.concat instead.\n",
      "  y_pred_wfv = y_pred_wfv.append(next_pred)\n",
      "C:\\Users\\ACER\\AppData\\Local\\Temp\\ipykernel_6428\\1271811932.py:7: FutureWarning: The series.append method is deprecated and will be removed from pandas in a future version. Use pandas.concat instead.\n",
      "  history = history.append(y_test[next_pred.index])\n",
      "C:\\Users\\ACER\\AppData\\Local\\Temp\\ipykernel_6428\\1271811932.py:6: FutureWarning: The series.append method is deprecated and will be removed from pandas in a future version. Use pandas.concat instead.\n",
      "  y_pred_wfv = y_pred_wfv.append(next_pred)\n",
      "C:\\Users\\ACER\\AppData\\Local\\Temp\\ipykernel_6428\\1271811932.py:7: FutureWarning: The series.append method is deprecated and will be removed from pandas in a future version. Use pandas.concat instead.\n",
      "  history = history.append(y_test[next_pred.index])\n",
      "C:\\Users\\ACER\\AppData\\Local\\Temp\\ipykernel_6428\\1271811932.py:6: FutureWarning: The series.append method is deprecated and will be removed from pandas in a future version. Use pandas.concat instead.\n",
      "  y_pred_wfv = y_pred_wfv.append(next_pred)\n",
      "C:\\Users\\ACER\\AppData\\Local\\Temp\\ipykernel_6428\\1271811932.py:7: FutureWarning: The series.append method is deprecated and will be removed from pandas in a future version. Use pandas.concat instead.\n",
      "  history = history.append(y_test[next_pred.index])\n",
      "C:\\Users\\ACER\\AppData\\Local\\Temp\\ipykernel_6428\\1271811932.py:6: FutureWarning: The series.append method is deprecated and will be removed from pandas in a future version. Use pandas.concat instead.\n",
      "  y_pred_wfv = y_pred_wfv.append(next_pred)\n",
      "C:\\Users\\ACER\\AppData\\Local\\Temp\\ipykernel_6428\\1271811932.py:7: FutureWarning: The series.append method is deprecated and will be removed from pandas in a future version. Use pandas.concat instead.\n",
      "  history = history.append(y_test[next_pred.index])\n",
      "C:\\Users\\ACER\\AppData\\Local\\Temp\\ipykernel_6428\\1271811932.py:6: FutureWarning: The series.append method is deprecated and will be removed from pandas in a future version. Use pandas.concat instead.\n",
      "  y_pred_wfv = y_pred_wfv.append(next_pred)\n",
      "C:\\Users\\ACER\\AppData\\Local\\Temp\\ipykernel_6428\\1271811932.py:7: FutureWarning: The series.append method is deprecated and will be removed from pandas in a future version. Use pandas.concat instead.\n",
      "  history = history.append(y_test[next_pred.index])\n",
      "C:\\Users\\ACER\\AppData\\Local\\Temp\\ipykernel_6428\\1271811932.py:6: FutureWarning: The series.append method is deprecated and will be removed from pandas in a future version. Use pandas.concat instead.\n",
      "  y_pred_wfv = y_pred_wfv.append(next_pred)\n",
      "C:\\Users\\ACER\\AppData\\Local\\Temp\\ipykernel_6428\\1271811932.py:7: FutureWarning: The series.append method is deprecated and will be removed from pandas in a future version. Use pandas.concat instead.\n",
      "  history = history.append(y_test[next_pred.index])\n",
      "C:\\Users\\ACER\\AppData\\Local\\Temp\\ipykernel_6428\\1271811932.py:6: FutureWarning: The series.append method is deprecated and will be removed from pandas in a future version. Use pandas.concat instead.\n",
      "  y_pred_wfv = y_pred_wfv.append(next_pred)\n",
      "C:\\Users\\ACER\\AppData\\Local\\Temp\\ipykernel_6428\\1271811932.py:7: FutureWarning: The series.append method is deprecated and will be removed from pandas in a future version. Use pandas.concat instead.\n",
      "  history = history.append(y_test[next_pred.index])\n",
      "C:\\Users\\ACER\\AppData\\Local\\Temp\\ipykernel_6428\\1271811932.py:6: FutureWarning: The series.append method is deprecated and will be removed from pandas in a future version. Use pandas.concat instead.\n",
      "  y_pred_wfv = y_pred_wfv.append(next_pred)\n",
      "C:\\Users\\ACER\\AppData\\Local\\Temp\\ipykernel_6428\\1271811932.py:7: FutureWarning: The series.append method is deprecated and will be removed from pandas in a future version. Use pandas.concat instead.\n",
      "  history = history.append(y_test[next_pred.index])\n",
      "C:\\Users\\ACER\\AppData\\Local\\Temp\\ipykernel_6428\\1271811932.py:6: FutureWarning: The series.append method is deprecated and will be removed from pandas in a future version. Use pandas.concat instead.\n",
      "  y_pred_wfv = y_pred_wfv.append(next_pred)\n",
      "C:\\Users\\ACER\\AppData\\Local\\Temp\\ipykernel_6428\\1271811932.py:7: FutureWarning: The series.append method is deprecated and will be removed from pandas in a future version. Use pandas.concat instead.\n",
      "  history = history.append(y_test[next_pred.index])\n",
      "C:\\Users\\ACER\\AppData\\Local\\Temp\\ipykernel_6428\\1271811932.py:6: FutureWarning: The series.append method is deprecated and will be removed from pandas in a future version. Use pandas.concat instead.\n",
      "  y_pred_wfv = y_pred_wfv.append(next_pred)\n",
      "C:\\Users\\ACER\\AppData\\Local\\Temp\\ipykernel_6428\\1271811932.py:7: FutureWarning: The series.append method is deprecated and will be removed from pandas in a future version. Use pandas.concat instead.\n",
      "  history = history.append(y_test[next_pred.index])\n",
      "C:\\Users\\ACER\\AppData\\Local\\Temp\\ipykernel_6428\\1271811932.py:6: FutureWarning: The series.append method is deprecated and will be removed from pandas in a future version. Use pandas.concat instead.\n",
      "  y_pred_wfv = y_pred_wfv.append(next_pred)\n",
      "C:\\Users\\ACER\\AppData\\Local\\Temp\\ipykernel_6428\\1271811932.py:7: FutureWarning: The series.append method is deprecated and will be removed from pandas in a future version. Use pandas.concat instead.\n",
      "  history = history.append(y_test[next_pred.index])\n",
      "C:\\Users\\ACER\\AppData\\Local\\Temp\\ipykernel_6428\\1271811932.py:6: FutureWarning: The series.append method is deprecated and will be removed from pandas in a future version. Use pandas.concat instead.\n",
      "  y_pred_wfv = y_pred_wfv.append(next_pred)\n",
      "C:\\Users\\ACER\\AppData\\Local\\Temp\\ipykernel_6428\\1271811932.py:7: FutureWarning: The series.append method is deprecated and will be removed from pandas in a future version. Use pandas.concat instead.\n",
      "  history = history.append(y_test[next_pred.index])\n",
      "C:\\Users\\ACER\\AppData\\Local\\Temp\\ipykernel_6428\\1271811932.py:6: FutureWarning: The series.append method is deprecated and will be removed from pandas in a future version. Use pandas.concat instead.\n",
      "  y_pred_wfv = y_pred_wfv.append(next_pred)\n",
      "C:\\Users\\ACER\\AppData\\Local\\Temp\\ipykernel_6428\\1271811932.py:7: FutureWarning: The series.append method is deprecated and will be removed from pandas in a future version. Use pandas.concat instead.\n",
      "  history = history.append(y_test[next_pred.index])\n",
      "C:\\Users\\ACER\\AppData\\Local\\Temp\\ipykernel_6428\\1271811932.py:6: FutureWarning: The series.append method is deprecated and will be removed from pandas in a future version. Use pandas.concat instead.\n",
      "  y_pred_wfv = y_pred_wfv.append(next_pred)\n",
      "C:\\Users\\ACER\\AppData\\Local\\Temp\\ipykernel_6428\\1271811932.py:7: FutureWarning: The series.append method is deprecated and will be removed from pandas in a future version. Use pandas.concat instead.\n",
      "  history = history.append(y_test[next_pred.index])\n",
      "C:\\Users\\ACER\\AppData\\Local\\Temp\\ipykernel_6428\\1271811932.py:6: FutureWarning: The series.append method is deprecated and will be removed from pandas in a future version. Use pandas.concat instead.\n",
      "  y_pred_wfv = y_pred_wfv.append(next_pred)\n",
      "C:\\Users\\ACER\\AppData\\Local\\Temp\\ipykernel_6428\\1271811932.py:7: FutureWarning: The series.append method is deprecated and will be removed from pandas in a future version. Use pandas.concat instead.\n",
      "  history = history.append(y_test[next_pred.index])\n",
      "C:\\Users\\ACER\\AppData\\Local\\Temp\\ipykernel_6428\\1271811932.py:6: FutureWarning: The series.append method is deprecated and will be removed from pandas in a future version. Use pandas.concat instead.\n",
      "  y_pred_wfv = y_pred_wfv.append(next_pred)\n",
      "C:\\Users\\ACER\\AppData\\Local\\Temp\\ipykernel_6428\\1271811932.py:7: FutureWarning: The series.append method is deprecated and will be removed from pandas in a future version. Use pandas.concat instead.\n",
      "  history = history.append(y_test[next_pred.index])\n",
      "C:\\Users\\ACER\\AppData\\Local\\Temp\\ipykernel_6428\\1271811932.py:6: FutureWarning: The series.append method is deprecated and will be removed from pandas in a future version. Use pandas.concat instead.\n",
      "  y_pred_wfv = y_pred_wfv.append(next_pred)\n",
      "C:\\Users\\ACER\\AppData\\Local\\Temp\\ipykernel_6428\\1271811932.py:7: FutureWarning: The series.append method is deprecated and will be removed from pandas in a future version. Use pandas.concat instead.\n",
      "  history = history.append(y_test[next_pred.index])\n",
      "C:\\Users\\ACER\\AppData\\Local\\Temp\\ipykernel_6428\\1271811932.py:6: FutureWarning: The series.append method is deprecated and will be removed from pandas in a future version. Use pandas.concat instead.\n",
      "  y_pred_wfv = y_pred_wfv.append(next_pred)\n",
      "C:\\Users\\ACER\\AppData\\Local\\Temp\\ipykernel_6428\\1271811932.py:7: FutureWarning: The series.append method is deprecated and will be removed from pandas in a future version. Use pandas.concat instead.\n",
      "  history = history.append(y_test[next_pred.index])\n",
      "C:\\Users\\ACER\\AppData\\Local\\Temp\\ipykernel_6428\\1271811932.py:6: FutureWarning: The series.append method is deprecated and will be removed from pandas in a future version. Use pandas.concat instead.\n",
      "  y_pred_wfv = y_pred_wfv.append(next_pred)\n",
      "C:\\Users\\ACER\\AppData\\Local\\Temp\\ipykernel_6428\\1271811932.py:7: FutureWarning: The series.append method is deprecated and will be removed from pandas in a future version. Use pandas.concat instead.\n",
      "  history = history.append(y_test[next_pred.index])\n",
      "C:\\Users\\ACER\\AppData\\Local\\Temp\\ipykernel_6428\\1271811932.py:6: FutureWarning: The series.append method is deprecated and will be removed from pandas in a future version. Use pandas.concat instead.\n",
      "  y_pred_wfv = y_pred_wfv.append(next_pred)\n",
      "C:\\Users\\ACER\\AppData\\Local\\Temp\\ipykernel_6428\\1271811932.py:7: FutureWarning: The series.append method is deprecated and will be removed from pandas in a future version. Use pandas.concat instead.\n",
      "  history = history.append(y_test[next_pred.index])\n",
      "C:\\Users\\ACER\\AppData\\Local\\Temp\\ipykernel_6428\\1271811932.py:6: FutureWarning: The series.append method is deprecated and will be removed from pandas in a future version. Use pandas.concat instead.\n",
      "  y_pred_wfv = y_pred_wfv.append(next_pred)\n",
      "C:\\Users\\ACER\\AppData\\Local\\Temp\\ipykernel_6428\\1271811932.py:7: FutureWarning: The series.append method is deprecated and will be removed from pandas in a future version. Use pandas.concat instead.\n",
      "  history = history.append(y_test[next_pred.index])\n",
      "C:\\Users\\ACER\\AppData\\Local\\Temp\\ipykernel_6428\\1271811932.py:6: FutureWarning: The series.append method is deprecated and will be removed from pandas in a future version. Use pandas.concat instead.\n",
      "  y_pred_wfv = y_pred_wfv.append(next_pred)\n",
      "C:\\Users\\ACER\\AppData\\Local\\Temp\\ipykernel_6428\\1271811932.py:7: FutureWarning: The series.append method is deprecated and will be removed from pandas in a future version. Use pandas.concat instead.\n",
      "  history = history.append(y_test[next_pred.index])\n",
      "C:\\Users\\ACER\\AppData\\Local\\Temp\\ipykernel_6428\\1271811932.py:6: FutureWarning: The series.append method is deprecated and will be removed from pandas in a future version. Use pandas.concat instead.\n",
      "  y_pred_wfv = y_pred_wfv.append(next_pred)\n",
      "C:\\Users\\ACER\\AppData\\Local\\Temp\\ipykernel_6428\\1271811932.py:7: FutureWarning: The series.append method is deprecated and will be removed from pandas in a future version. Use pandas.concat instead.\n",
      "  history = history.append(y_test[next_pred.index])\n",
      "C:\\Users\\ACER\\AppData\\Local\\Temp\\ipykernel_6428\\1271811932.py:6: FutureWarning: The series.append method is deprecated and will be removed from pandas in a future version. Use pandas.concat instead.\n",
      "  y_pred_wfv = y_pred_wfv.append(next_pred)\n",
      "C:\\Users\\ACER\\AppData\\Local\\Temp\\ipykernel_6428\\1271811932.py:7: FutureWarning: The series.append method is deprecated and will be removed from pandas in a future version. Use pandas.concat instead.\n",
      "  history = history.append(y_test[next_pred.index])\n",
      "C:\\Users\\ACER\\AppData\\Local\\Temp\\ipykernel_6428\\1271811932.py:6: FutureWarning: The series.append method is deprecated and will be removed from pandas in a future version. Use pandas.concat instead.\n",
      "  y_pred_wfv = y_pred_wfv.append(next_pred)\n",
      "C:\\Users\\ACER\\AppData\\Local\\Temp\\ipykernel_6428\\1271811932.py:7: FutureWarning: The series.append method is deprecated and will be removed from pandas in a future version. Use pandas.concat instead.\n",
      "  history = history.append(y_test[next_pred.index])\n",
      "C:\\Users\\ACER\\AppData\\Local\\Temp\\ipykernel_6428\\1271811932.py:6: FutureWarning: The series.append method is deprecated and will be removed from pandas in a future version. Use pandas.concat instead.\n",
      "  y_pred_wfv = y_pred_wfv.append(next_pred)\n",
      "C:\\Users\\ACER\\AppData\\Local\\Temp\\ipykernel_6428\\1271811932.py:7: FutureWarning: The series.append method is deprecated and will be removed from pandas in a future version. Use pandas.concat instead.\n",
      "  history = history.append(y_test[next_pred.index])\n",
      "C:\\Users\\ACER\\AppData\\Local\\Temp\\ipykernel_6428\\1271811932.py:6: FutureWarning: The series.append method is deprecated and will be removed from pandas in a future version. Use pandas.concat instead.\n",
      "  y_pred_wfv = y_pred_wfv.append(next_pred)\n",
      "C:\\Users\\ACER\\AppData\\Local\\Temp\\ipykernel_6428\\1271811932.py:7: FutureWarning: The series.append method is deprecated and will be removed from pandas in a future version. Use pandas.concat instead.\n",
      "  history = history.append(y_test[next_pred.index])\n",
      "C:\\Users\\ACER\\AppData\\Local\\Temp\\ipykernel_6428\\1271811932.py:6: FutureWarning: The series.append method is deprecated and will be removed from pandas in a future version. Use pandas.concat instead.\n",
      "  y_pred_wfv = y_pred_wfv.append(next_pred)\n",
      "C:\\Users\\ACER\\AppData\\Local\\Temp\\ipykernel_6428\\1271811932.py:7: FutureWarning: The series.append method is deprecated and will be removed from pandas in a future version. Use pandas.concat instead.\n",
      "  history = history.append(y_test[next_pred.index])\n",
      "C:\\Users\\ACER\\AppData\\Local\\Temp\\ipykernel_6428\\1271811932.py:6: FutureWarning: The series.append method is deprecated and will be removed from pandas in a future version. Use pandas.concat instead.\n",
      "  y_pred_wfv = y_pred_wfv.append(next_pred)\n",
      "C:\\Users\\ACER\\AppData\\Local\\Temp\\ipykernel_6428\\1271811932.py:7: FutureWarning: The series.append method is deprecated and will be removed from pandas in a future version. Use pandas.concat instead.\n",
      "  history = history.append(y_test[next_pred.index])\n",
      "C:\\Users\\ACER\\AppData\\Local\\Temp\\ipykernel_6428\\1271811932.py:6: FutureWarning: The series.append method is deprecated and will be removed from pandas in a future version. Use pandas.concat instead.\n",
      "  y_pred_wfv = y_pred_wfv.append(next_pred)\n",
      "C:\\Users\\ACER\\AppData\\Local\\Temp\\ipykernel_6428\\1271811932.py:7: FutureWarning: The series.append method is deprecated and will be removed from pandas in a future version. Use pandas.concat instead.\n",
      "  history = history.append(y_test[next_pred.index])\n",
      "C:\\Users\\ACER\\AppData\\Local\\Temp\\ipykernel_6428\\1271811932.py:6: FutureWarning: The series.append method is deprecated and will be removed from pandas in a future version. Use pandas.concat instead.\n",
      "  y_pred_wfv = y_pred_wfv.append(next_pred)\n",
      "C:\\Users\\ACER\\AppData\\Local\\Temp\\ipykernel_6428\\1271811932.py:7: FutureWarning: The series.append method is deprecated and will be removed from pandas in a future version. Use pandas.concat instead.\n",
      "  history = history.append(y_test[next_pred.index])\n",
      "C:\\Users\\ACER\\AppData\\Local\\Temp\\ipykernel_6428\\1271811932.py:6: FutureWarning: The series.append method is deprecated and will be removed from pandas in a future version. Use pandas.concat instead.\n",
      "  y_pred_wfv = y_pred_wfv.append(next_pred)\n",
      "C:\\Users\\ACER\\AppData\\Local\\Temp\\ipykernel_6428\\1271811932.py:7: FutureWarning: The series.append method is deprecated and will be removed from pandas in a future version. Use pandas.concat instead.\n",
      "  history = history.append(y_test[next_pred.index])\n",
      "C:\\Users\\ACER\\AppData\\Local\\Temp\\ipykernel_6428\\1271811932.py:6: FutureWarning: The series.append method is deprecated and will be removed from pandas in a future version. Use pandas.concat instead.\n",
      "  y_pred_wfv = y_pred_wfv.append(next_pred)\n",
      "C:\\Users\\ACER\\AppData\\Local\\Temp\\ipykernel_6428\\1271811932.py:7: FutureWarning: The series.append method is deprecated and will be removed from pandas in a future version. Use pandas.concat instead.\n",
      "  history = history.append(y_test[next_pred.index])\n",
      "C:\\Users\\ACER\\AppData\\Local\\Temp\\ipykernel_6428\\1271811932.py:6: FutureWarning: The series.append method is deprecated and will be removed from pandas in a future version. Use pandas.concat instead.\n",
      "  y_pred_wfv = y_pred_wfv.append(next_pred)\n",
      "C:\\Users\\ACER\\AppData\\Local\\Temp\\ipykernel_6428\\1271811932.py:7: FutureWarning: The series.append method is deprecated and will be removed from pandas in a future version. Use pandas.concat instead.\n",
      "  history = history.append(y_test[next_pred.index])\n",
      "C:\\Users\\ACER\\AppData\\Local\\Temp\\ipykernel_6428\\1271811932.py:6: FutureWarning: The series.append method is deprecated and will be removed from pandas in a future version. Use pandas.concat instead.\n",
      "  y_pred_wfv = y_pred_wfv.append(next_pred)\n",
      "C:\\Users\\ACER\\AppData\\Local\\Temp\\ipykernel_6428\\1271811932.py:7: FutureWarning: The series.append method is deprecated and will be removed from pandas in a future version. Use pandas.concat instead.\n",
      "  history = history.append(y_test[next_pred.index])\n",
      "C:\\Users\\ACER\\AppData\\Local\\Temp\\ipykernel_6428\\1271811932.py:6: FutureWarning: The series.append method is deprecated and will be removed from pandas in a future version. Use pandas.concat instead.\n",
      "  y_pred_wfv = y_pred_wfv.append(next_pred)\n",
      "C:\\Users\\ACER\\AppData\\Local\\Temp\\ipykernel_6428\\1271811932.py:7: FutureWarning: The series.append method is deprecated and will be removed from pandas in a future version. Use pandas.concat instead.\n",
      "  history = history.append(y_test[next_pred.index])\n",
      "C:\\Users\\ACER\\AppData\\Local\\Temp\\ipykernel_6428\\1271811932.py:6: FutureWarning: The series.append method is deprecated and will be removed from pandas in a future version. Use pandas.concat instead.\n",
      "  y_pred_wfv = y_pred_wfv.append(next_pred)\n",
      "C:\\Users\\ACER\\AppData\\Local\\Temp\\ipykernel_6428\\1271811932.py:7: FutureWarning: The series.append method is deprecated and will be removed from pandas in a future version. Use pandas.concat instead.\n",
      "  history = history.append(y_test[next_pred.index])\n",
      "C:\\Users\\ACER\\AppData\\Local\\Temp\\ipykernel_6428\\1271811932.py:6: FutureWarning: The series.append method is deprecated and will be removed from pandas in a future version. Use pandas.concat instead.\n",
      "  y_pred_wfv = y_pred_wfv.append(next_pred)\n",
      "C:\\Users\\ACER\\AppData\\Local\\Temp\\ipykernel_6428\\1271811932.py:7: FutureWarning: The series.append method is deprecated and will be removed from pandas in a future version. Use pandas.concat instead.\n",
      "  history = history.append(y_test[next_pred.index])\n",
      "C:\\Users\\ACER\\AppData\\Local\\Temp\\ipykernel_6428\\1271811932.py:6: FutureWarning: The series.append method is deprecated and will be removed from pandas in a future version. Use pandas.concat instead.\n",
      "  y_pred_wfv = y_pred_wfv.append(next_pred)\n",
      "C:\\Users\\ACER\\AppData\\Local\\Temp\\ipykernel_6428\\1271811932.py:7: FutureWarning: The series.append method is deprecated and will be removed from pandas in a future version. Use pandas.concat instead.\n",
      "  history = history.append(y_test[next_pred.index])\n",
      "C:\\Users\\ACER\\AppData\\Local\\Temp\\ipykernel_6428\\1271811932.py:6: FutureWarning: The series.append method is deprecated and will be removed from pandas in a future version. Use pandas.concat instead.\n",
      "  y_pred_wfv = y_pred_wfv.append(next_pred)\n",
      "C:\\Users\\ACER\\AppData\\Local\\Temp\\ipykernel_6428\\1271811932.py:7: FutureWarning: The series.append method is deprecated and will be removed from pandas in a future version. Use pandas.concat instead.\n",
      "  history = history.append(y_test[next_pred.index])\n",
      "C:\\Users\\ACER\\AppData\\Local\\Temp\\ipykernel_6428\\1271811932.py:6: FutureWarning: The series.append method is deprecated and will be removed from pandas in a future version. Use pandas.concat instead.\n",
      "  y_pred_wfv = y_pred_wfv.append(next_pred)\n",
      "C:\\Users\\ACER\\AppData\\Local\\Temp\\ipykernel_6428\\1271811932.py:7: FutureWarning: The series.append method is deprecated and will be removed from pandas in a future version. Use pandas.concat instead.\n",
      "  history = history.append(y_test[next_pred.index])\n",
      "C:\\Users\\ACER\\AppData\\Local\\Temp\\ipykernel_6428\\1271811932.py:6: FutureWarning: The series.append method is deprecated and will be removed from pandas in a future version. Use pandas.concat instead.\n",
      "  y_pred_wfv = y_pred_wfv.append(next_pred)\n",
      "C:\\Users\\ACER\\AppData\\Local\\Temp\\ipykernel_6428\\1271811932.py:7: FutureWarning: The series.append method is deprecated and will be removed from pandas in a future version. Use pandas.concat instead.\n",
      "  history = history.append(y_test[next_pred.index])\n",
      "C:\\Users\\ACER\\AppData\\Local\\Temp\\ipykernel_6428\\1271811932.py:6: FutureWarning: The series.append method is deprecated and will be removed from pandas in a future version. Use pandas.concat instead.\n",
      "  y_pred_wfv = y_pred_wfv.append(next_pred)\n",
      "C:\\Users\\ACER\\AppData\\Local\\Temp\\ipykernel_6428\\1271811932.py:7: FutureWarning: The series.append method is deprecated and will be removed from pandas in a future version. Use pandas.concat instead.\n",
      "  history = history.append(y_test[next_pred.index])\n",
      "C:\\Users\\ACER\\AppData\\Local\\Temp\\ipykernel_6428\\1271811932.py:6: FutureWarning: The series.append method is deprecated and will be removed from pandas in a future version. Use pandas.concat instead.\n",
      "  y_pred_wfv = y_pred_wfv.append(next_pred)\n",
      "C:\\Users\\ACER\\AppData\\Local\\Temp\\ipykernel_6428\\1271811932.py:7: FutureWarning: The series.append method is deprecated and will be removed from pandas in a future version. Use pandas.concat instead.\n",
      "  history = history.append(y_test[next_pred.index])\n",
      "C:\\Users\\ACER\\AppData\\Local\\Temp\\ipykernel_6428\\1271811932.py:6: FutureWarning: The series.append method is deprecated and will be removed from pandas in a future version. Use pandas.concat instead.\n",
      "  y_pred_wfv = y_pred_wfv.append(next_pred)\n",
      "C:\\Users\\ACER\\AppData\\Local\\Temp\\ipykernel_6428\\1271811932.py:7: FutureWarning: The series.append method is deprecated and will be removed from pandas in a future version. Use pandas.concat instead.\n",
      "  history = history.append(y_test[next_pred.index])\n",
      "C:\\Users\\ACER\\AppData\\Local\\Temp\\ipykernel_6428\\1271811932.py:6: FutureWarning: The series.append method is deprecated and will be removed from pandas in a future version. Use pandas.concat instead.\n",
      "  y_pred_wfv = y_pred_wfv.append(next_pred)\n",
      "C:\\Users\\ACER\\AppData\\Local\\Temp\\ipykernel_6428\\1271811932.py:7: FutureWarning: The series.append method is deprecated and will be removed from pandas in a future version. Use pandas.concat instead.\n",
      "  history = history.append(y_test[next_pred.index])\n",
      "C:\\Users\\ACER\\AppData\\Local\\Temp\\ipykernel_6428\\1271811932.py:6: FutureWarning: The series.append method is deprecated and will be removed from pandas in a future version. Use pandas.concat instead.\n",
      "  y_pred_wfv = y_pred_wfv.append(next_pred)\n",
      "C:\\Users\\ACER\\AppData\\Local\\Temp\\ipykernel_6428\\1271811932.py:7: FutureWarning: The series.append method is deprecated and will be removed from pandas in a future version. Use pandas.concat instead.\n",
      "  history = history.append(y_test[next_pred.index])\n",
      "C:\\Users\\ACER\\AppData\\Local\\Temp\\ipykernel_6428\\1271811932.py:6: FutureWarning: The series.append method is deprecated and will be removed from pandas in a future version. Use pandas.concat instead.\n",
      "  y_pred_wfv = y_pred_wfv.append(next_pred)\n",
      "C:\\Users\\ACER\\AppData\\Local\\Temp\\ipykernel_6428\\1271811932.py:7: FutureWarning: The series.append method is deprecated and will be removed from pandas in a future version. Use pandas.concat instead.\n",
      "  history = history.append(y_test[next_pred.index])\n",
      "C:\\Users\\ACER\\AppData\\Local\\Temp\\ipykernel_6428\\1271811932.py:6: FutureWarning: The series.append method is deprecated and will be removed from pandas in a future version. Use pandas.concat instead.\n",
      "  y_pred_wfv = y_pred_wfv.append(next_pred)\n",
      "C:\\Users\\ACER\\AppData\\Local\\Temp\\ipykernel_6428\\1271811932.py:7: FutureWarning: The series.append method is deprecated and will be removed from pandas in a future version. Use pandas.concat instead.\n",
      "  history = history.append(y_test[next_pred.index])\n",
      "C:\\Users\\ACER\\AppData\\Local\\Temp\\ipykernel_6428\\1271811932.py:6: FutureWarning: The series.append method is deprecated and will be removed from pandas in a future version. Use pandas.concat instead.\n",
      "  y_pred_wfv = y_pred_wfv.append(next_pred)\n",
      "C:\\Users\\ACER\\AppData\\Local\\Temp\\ipykernel_6428\\1271811932.py:7: FutureWarning: The series.append method is deprecated and will be removed from pandas in a future version. Use pandas.concat instead.\n",
      "  history = history.append(y_test[next_pred.index])\n",
      "C:\\Users\\ACER\\AppData\\Local\\Temp\\ipykernel_6428\\1271811932.py:6: FutureWarning: The series.append method is deprecated and will be removed from pandas in a future version. Use pandas.concat instead.\n",
      "  y_pred_wfv = y_pred_wfv.append(next_pred)\n",
      "C:\\Users\\ACER\\AppData\\Local\\Temp\\ipykernel_6428\\1271811932.py:7: FutureWarning: The series.append method is deprecated and will be removed from pandas in a future version. Use pandas.concat instead.\n",
      "  history = history.append(y_test[next_pred.index])\n",
      "C:\\Users\\ACER\\AppData\\Local\\Temp\\ipykernel_6428\\1271811932.py:6: FutureWarning: The series.append method is deprecated and will be removed from pandas in a future version. Use pandas.concat instead.\n",
      "  y_pred_wfv = y_pred_wfv.append(next_pred)\n",
      "C:\\Users\\ACER\\AppData\\Local\\Temp\\ipykernel_6428\\1271811932.py:7: FutureWarning: The series.append method is deprecated and will be removed from pandas in a future version. Use pandas.concat instead.\n",
      "  history = history.append(y_test[next_pred.index])\n",
      "C:\\Users\\ACER\\AppData\\Local\\Temp\\ipykernel_6428\\1271811932.py:6: FutureWarning: The series.append method is deprecated and will be removed from pandas in a future version. Use pandas.concat instead.\n",
      "  y_pred_wfv = y_pred_wfv.append(next_pred)\n",
      "C:\\Users\\ACER\\AppData\\Local\\Temp\\ipykernel_6428\\1271811932.py:7: FutureWarning: The series.append method is deprecated and will be removed from pandas in a future version. Use pandas.concat instead.\n",
      "  history = history.append(y_test[next_pred.index])\n",
      "C:\\Users\\ACER\\AppData\\Local\\Temp\\ipykernel_6428\\1271811932.py:6: FutureWarning: The series.append method is deprecated and will be removed from pandas in a future version. Use pandas.concat instead.\n",
      "  y_pred_wfv = y_pred_wfv.append(next_pred)\n",
      "C:\\Users\\ACER\\AppData\\Local\\Temp\\ipykernel_6428\\1271811932.py:7: FutureWarning: The series.append method is deprecated and will be removed from pandas in a future version. Use pandas.concat instead.\n",
      "  history = history.append(y_test[next_pred.index])\n",
      "C:\\Users\\ACER\\AppData\\Local\\Temp\\ipykernel_6428\\1271811932.py:6: FutureWarning: The series.append method is deprecated and will be removed from pandas in a future version. Use pandas.concat instead.\n",
      "  y_pred_wfv = y_pred_wfv.append(next_pred)\n",
      "C:\\Users\\ACER\\AppData\\Local\\Temp\\ipykernel_6428\\1271811932.py:7: FutureWarning: The series.append method is deprecated and will be removed from pandas in a future version. Use pandas.concat instead.\n",
      "  history = history.append(y_test[next_pred.index])\n",
      "C:\\Users\\ACER\\AppData\\Local\\Temp\\ipykernel_6428\\1271811932.py:6: FutureWarning: The series.append method is deprecated and will be removed from pandas in a future version. Use pandas.concat instead.\n",
      "  y_pred_wfv = y_pred_wfv.append(next_pred)\n",
      "C:\\Users\\ACER\\AppData\\Local\\Temp\\ipykernel_6428\\1271811932.py:7: FutureWarning: The series.append method is deprecated and will be removed from pandas in a future version. Use pandas.concat instead.\n",
      "  history = history.append(y_test[next_pred.index])\n",
      "C:\\Users\\ACER\\AppData\\Local\\Temp\\ipykernel_6428\\1271811932.py:6: FutureWarning: The series.append method is deprecated and will be removed from pandas in a future version. Use pandas.concat instead.\n",
      "  y_pred_wfv = y_pred_wfv.append(next_pred)\n",
      "C:\\Users\\ACER\\AppData\\Local\\Temp\\ipykernel_6428\\1271811932.py:7: FutureWarning: The series.append method is deprecated and will be removed from pandas in a future version. Use pandas.concat instead.\n",
      "  history = history.append(y_test[next_pred.index])\n",
      "C:\\Users\\ACER\\AppData\\Local\\Temp\\ipykernel_6428\\1271811932.py:6: FutureWarning: The series.append method is deprecated and will be removed from pandas in a future version. Use pandas.concat instead.\n",
      "  y_pred_wfv = y_pred_wfv.append(next_pred)\n",
      "C:\\Users\\ACER\\AppData\\Local\\Temp\\ipykernel_6428\\1271811932.py:7: FutureWarning: The series.append method is deprecated and will be removed from pandas in a future version. Use pandas.concat instead.\n",
      "  history = history.append(y_test[next_pred.index])\n",
      "C:\\Users\\ACER\\AppData\\Local\\Temp\\ipykernel_6428\\1271811932.py:6: FutureWarning: The series.append method is deprecated and will be removed from pandas in a future version. Use pandas.concat instead.\n",
      "  y_pred_wfv = y_pred_wfv.append(next_pred)\n",
      "C:\\Users\\ACER\\AppData\\Local\\Temp\\ipykernel_6428\\1271811932.py:7: FutureWarning: The series.append method is deprecated and will be removed from pandas in a future version. Use pandas.concat instead.\n",
      "  history = history.append(y_test[next_pred.index])\n",
      "C:\\Users\\ACER\\AppData\\Local\\Temp\\ipykernel_6428\\1271811932.py:6: FutureWarning: The series.append method is deprecated and will be removed from pandas in a future version. Use pandas.concat instead.\n",
      "  y_pred_wfv = y_pred_wfv.append(next_pred)\n",
      "C:\\Users\\ACER\\AppData\\Local\\Temp\\ipykernel_6428\\1271811932.py:7: FutureWarning: The series.append method is deprecated and will be removed from pandas in a future version. Use pandas.concat instead.\n",
      "  history = history.append(y_test[next_pred.index])\n",
      "C:\\Users\\ACER\\AppData\\Local\\Temp\\ipykernel_6428\\1271811932.py:6: FutureWarning: The series.append method is deprecated and will be removed from pandas in a future version. Use pandas.concat instead.\n",
      "  y_pred_wfv = y_pred_wfv.append(next_pred)\n",
      "C:\\Users\\ACER\\AppData\\Local\\Temp\\ipykernel_6428\\1271811932.py:7: FutureWarning: The series.append method is deprecated and will be removed from pandas in a future version. Use pandas.concat instead.\n",
      "  history = history.append(y_test[next_pred.index])\n",
      "C:\\Users\\ACER\\AppData\\Local\\Temp\\ipykernel_6428\\1271811932.py:6: FutureWarning: The series.append method is deprecated and will be removed from pandas in a future version. Use pandas.concat instead.\n",
      "  y_pred_wfv = y_pred_wfv.append(next_pred)\n",
      "C:\\Users\\ACER\\AppData\\Local\\Temp\\ipykernel_6428\\1271811932.py:7: FutureWarning: The series.append method is deprecated and will be removed from pandas in a future version. Use pandas.concat instead.\n",
      "  history = history.append(y_test[next_pred.index])\n",
      "C:\\Users\\ACER\\AppData\\Local\\Temp\\ipykernel_6428\\1271811932.py:6: FutureWarning: The series.append method is deprecated and will be removed from pandas in a future version. Use pandas.concat instead.\n",
      "  y_pred_wfv = y_pred_wfv.append(next_pred)\n",
      "C:\\Users\\ACER\\AppData\\Local\\Temp\\ipykernel_6428\\1271811932.py:7: FutureWarning: The series.append method is deprecated and will be removed from pandas in a future version. Use pandas.concat instead.\n",
      "  history = history.append(y_test[next_pred.index])\n",
      "C:\\Users\\ACER\\AppData\\Local\\Temp\\ipykernel_6428\\1271811932.py:6: FutureWarning: The series.append method is deprecated and will be removed from pandas in a future version. Use pandas.concat instead.\n",
      "  y_pred_wfv = y_pred_wfv.append(next_pred)\n",
      "C:\\Users\\ACER\\AppData\\Local\\Temp\\ipykernel_6428\\1271811932.py:7: FutureWarning: The series.append method is deprecated and will be removed from pandas in a future version. Use pandas.concat instead.\n",
      "  history = history.append(y_test[next_pred.index])\n",
      "C:\\Users\\ACER\\AppData\\Local\\Temp\\ipykernel_6428\\1271811932.py:6: FutureWarning: The series.append method is deprecated and will be removed from pandas in a future version. Use pandas.concat instead.\n",
      "  y_pred_wfv = y_pred_wfv.append(next_pred)\n",
      "C:\\Users\\ACER\\AppData\\Local\\Temp\\ipykernel_6428\\1271811932.py:7: FutureWarning: The series.append method is deprecated and will be removed from pandas in a future version. Use pandas.concat instead.\n",
      "  history = history.append(y_test[next_pred.index])\n",
      "C:\\Users\\ACER\\AppData\\Local\\Temp\\ipykernel_6428\\1271811932.py:6: FutureWarning: The series.append method is deprecated and will be removed from pandas in a future version. Use pandas.concat instead.\n",
      "  y_pred_wfv = y_pred_wfv.append(next_pred)\n",
      "C:\\Users\\ACER\\AppData\\Local\\Temp\\ipykernel_6428\\1271811932.py:7: FutureWarning: The series.append method is deprecated and will be removed from pandas in a future version. Use pandas.concat instead.\n",
      "  history = history.append(y_test[next_pred.index])\n",
      "C:\\Users\\ACER\\AppData\\Local\\Temp\\ipykernel_6428\\1271811932.py:6: FutureWarning: The series.append method is deprecated and will be removed from pandas in a future version. Use pandas.concat instead.\n",
      "  y_pred_wfv = y_pred_wfv.append(next_pred)\n",
      "C:\\Users\\ACER\\AppData\\Local\\Temp\\ipykernel_6428\\1271811932.py:7: FutureWarning: The series.append method is deprecated and will be removed from pandas in a future version. Use pandas.concat instead.\n",
      "  history = history.append(y_test[next_pred.index])\n",
      "C:\\Users\\ACER\\AppData\\Local\\Temp\\ipykernel_6428\\1271811932.py:6: FutureWarning: The series.append method is deprecated and will be removed from pandas in a future version. Use pandas.concat instead.\n",
      "  y_pred_wfv = y_pred_wfv.append(next_pred)\n",
      "C:\\Users\\ACER\\AppData\\Local\\Temp\\ipykernel_6428\\1271811932.py:7: FutureWarning: The series.append method is deprecated and will be removed from pandas in a future version. Use pandas.concat instead.\n",
      "  history = history.append(y_test[next_pred.index])\n",
      "C:\\Users\\ACER\\AppData\\Local\\Temp\\ipykernel_6428\\1271811932.py:6: FutureWarning: The series.append method is deprecated and will be removed from pandas in a future version. Use pandas.concat instead.\n",
      "  y_pred_wfv = y_pred_wfv.append(next_pred)\n",
      "C:\\Users\\ACER\\AppData\\Local\\Temp\\ipykernel_6428\\1271811932.py:7: FutureWarning: The series.append method is deprecated and will be removed from pandas in a future version. Use pandas.concat instead.\n",
      "  history = history.append(y_test[next_pred.index])\n",
      "C:\\Users\\ACER\\AppData\\Local\\Temp\\ipykernel_6428\\1271811932.py:6: FutureWarning: The series.append method is deprecated and will be removed from pandas in a future version. Use pandas.concat instead.\n",
      "  y_pred_wfv = y_pred_wfv.append(next_pred)\n",
      "C:\\Users\\ACER\\AppData\\Local\\Temp\\ipykernel_6428\\1271811932.py:7: FutureWarning: The series.append method is deprecated and will be removed from pandas in a future version. Use pandas.concat instead.\n",
      "  history = history.append(y_test[next_pred.index])\n",
      "C:\\Users\\ACER\\AppData\\Local\\Temp\\ipykernel_6428\\1271811932.py:6: FutureWarning: The series.append method is deprecated and will be removed from pandas in a future version. Use pandas.concat instead.\n",
      "  y_pred_wfv = y_pred_wfv.append(next_pred)\n",
      "C:\\Users\\ACER\\AppData\\Local\\Temp\\ipykernel_6428\\1271811932.py:7: FutureWarning: The series.append method is deprecated and will be removed from pandas in a future version. Use pandas.concat instead.\n",
      "  history = history.append(y_test[next_pred.index])\n",
      "C:\\Users\\ACER\\AppData\\Local\\Temp\\ipykernel_6428\\1271811932.py:6: FutureWarning: The series.append method is deprecated and will be removed from pandas in a future version. Use pandas.concat instead.\n",
      "  y_pred_wfv = y_pred_wfv.append(next_pred)\n",
      "C:\\Users\\ACER\\AppData\\Local\\Temp\\ipykernel_6428\\1271811932.py:7: FutureWarning: The series.append method is deprecated and will be removed from pandas in a future version. Use pandas.concat instead.\n",
      "  history = history.append(y_test[next_pred.index])\n",
      "C:\\Users\\ACER\\AppData\\Local\\Temp\\ipykernel_6428\\1271811932.py:6: FutureWarning: The series.append method is deprecated and will be removed from pandas in a future version. Use pandas.concat instead.\n",
      "  y_pred_wfv = y_pred_wfv.append(next_pred)\n",
      "C:\\Users\\ACER\\AppData\\Local\\Temp\\ipykernel_6428\\1271811932.py:7: FutureWarning: The series.append method is deprecated and will be removed from pandas in a future version. Use pandas.concat instead.\n",
      "  history = history.append(y_test[next_pred.index])\n",
      "C:\\Users\\ACER\\AppData\\Local\\Temp\\ipykernel_6428\\1271811932.py:6: FutureWarning: The series.append method is deprecated and will be removed from pandas in a future version. Use pandas.concat instead.\n",
      "  y_pred_wfv = y_pred_wfv.append(next_pred)\n",
      "C:\\Users\\ACER\\AppData\\Local\\Temp\\ipykernel_6428\\1271811932.py:7: FutureWarning: The series.append method is deprecated and will be removed from pandas in a future version. Use pandas.concat instead.\n",
      "  history = history.append(y_test[next_pred.index])\n",
      "C:\\Users\\ACER\\AppData\\Local\\Temp\\ipykernel_6428\\1271811932.py:6: FutureWarning: The series.append method is deprecated and will be removed from pandas in a future version. Use pandas.concat instead.\n",
      "  y_pred_wfv = y_pred_wfv.append(next_pred)\n",
      "C:\\Users\\ACER\\AppData\\Local\\Temp\\ipykernel_6428\\1271811932.py:7: FutureWarning: The series.append method is deprecated and will be removed from pandas in a future version. Use pandas.concat instead.\n",
      "  history = history.append(y_test[next_pred.index])\n",
      "C:\\Users\\ACER\\AppData\\Local\\Temp\\ipykernel_6428\\1271811932.py:6: FutureWarning: The series.append method is deprecated and will be removed from pandas in a future version. Use pandas.concat instead.\n",
      "  y_pred_wfv = y_pred_wfv.append(next_pred)\n",
      "C:\\Users\\ACER\\AppData\\Local\\Temp\\ipykernel_6428\\1271811932.py:7: FutureWarning: The series.append method is deprecated and will be removed from pandas in a future version. Use pandas.concat instead.\n",
      "  history = history.append(y_test[next_pred.index])\n",
      "C:\\Users\\ACER\\AppData\\Local\\Temp\\ipykernel_6428\\1271811932.py:6: FutureWarning: The series.append method is deprecated and will be removed from pandas in a future version. Use pandas.concat instead.\n",
      "  y_pred_wfv = y_pred_wfv.append(next_pred)\n",
      "C:\\Users\\ACER\\AppData\\Local\\Temp\\ipykernel_6428\\1271811932.py:7: FutureWarning: The series.append method is deprecated and will be removed from pandas in a future version. Use pandas.concat instead.\n",
      "  history = history.append(y_test[next_pred.index])\n",
      "C:\\Users\\ACER\\AppData\\Local\\Temp\\ipykernel_6428\\1271811932.py:6: FutureWarning: The series.append method is deprecated and will be removed from pandas in a future version. Use pandas.concat instead.\n",
      "  y_pred_wfv = y_pred_wfv.append(next_pred)\n",
      "C:\\Users\\ACER\\AppData\\Local\\Temp\\ipykernel_6428\\1271811932.py:7: FutureWarning: The series.append method is deprecated and will be removed from pandas in a future version. Use pandas.concat instead.\n",
      "  history = history.append(y_test[next_pred.index])\n",
      "C:\\Users\\ACER\\AppData\\Local\\Temp\\ipykernel_6428\\1271811932.py:6: FutureWarning: The series.append method is deprecated and will be removed from pandas in a future version. Use pandas.concat instead.\n",
      "  y_pred_wfv = y_pred_wfv.append(next_pred)\n",
      "C:\\Users\\ACER\\AppData\\Local\\Temp\\ipykernel_6428\\1271811932.py:7: FutureWarning: The series.append method is deprecated and will be removed from pandas in a future version. Use pandas.concat instead.\n",
      "  history = history.append(y_test[next_pred.index])\n",
      "C:\\Users\\ACER\\AppData\\Local\\Temp\\ipykernel_6428\\1271811932.py:6: FutureWarning: The series.append method is deprecated and will be removed from pandas in a future version. Use pandas.concat instead.\n",
      "  y_pred_wfv = y_pred_wfv.append(next_pred)\n",
      "C:\\Users\\ACER\\AppData\\Local\\Temp\\ipykernel_6428\\1271811932.py:7: FutureWarning: The series.append method is deprecated and will be removed from pandas in a future version. Use pandas.concat instead.\n",
      "  history = history.append(y_test[next_pred.index])\n",
      "C:\\Users\\ACER\\AppData\\Local\\Temp\\ipykernel_6428\\1271811932.py:6: FutureWarning: The series.append method is deprecated and will be removed from pandas in a future version. Use pandas.concat instead.\n",
      "  y_pred_wfv = y_pred_wfv.append(next_pred)\n",
      "C:\\Users\\ACER\\AppData\\Local\\Temp\\ipykernel_6428\\1271811932.py:7: FutureWarning: The series.append method is deprecated and will be removed from pandas in a future version. Use pandas.concat instead.\n",
      "  history = history.append(y_test[next_pred.index])\n",
      "C:\\Users\\ACER\\AppData\\Local\\Temp\\ipykernel_6428\\1271811932.py:6: FutureWarning: The series.append method is deprecated and will be removed from pandas in a future version. Use pandas.concat instead.\n",
      "  y_pred_wfv = y_pred_wfv.append(next_pred)\n",
      "C:\\Users\\ACER\\AppData\\Local\\Temp\\ipykernel_6428\\1271811932.py:7: FutureWarning: The series.append method is deprecated and will be removed from pandas in a future version. Use pandas.concat instead.\n",
      "  history = history.append(y_test[next_pred.index])\n",
      "C:\\Users\\ACER\\AppData\\Local\\Temp\\ipykernel_6428\\1271811932.py:6: FutureWarning: The series.append method is deprecated and will be removed from pandas in a future version. Use pandas.concat instead.\n",
      "  y_pred_wfv = y_pred_wfv.append(next_pred)\n",
      "C:\\Users\\ACER\\AppData\\Local\\Temp\\ipykernel_6428\\1271811932.py:7: FutureWarning: The series.append method is deprecated and will be removed from pandas in a future version. Use pandas.concat instead.\n",
      "  history = history.append(y_test[next_pred.index])\n",
      "C:\\Users\\ACER\\AppData\\Local\\Temp\\ipykernel_6428\\1271811932.py:6: FutureWarning: The series.append method is deprecated and will be removed from pandas in a future version. Use pandas.concat instead.\n",
      "  y_pred_wfv = y_pred_wfv.append(next_pred)\n",
      "C:\\Users\\ACER\\AppData\\Local\\Temp\\ipykernel_6428\\1271811932.py:7: FutureWarning: The series.append method is deprecated and will be removed from pandas in a future version. Use pandas.concat instead.\n",
      "  history = history.append(y_test[next_pred.index])\n",
      "C:\\Users\\ACER\\AppData\\Local\\Temp\\ipykernel_6428\\1271811932.py:6: FutureWarning: The series.append method is deprecated and will be removed from pandas in a future version. Use pandas.concat instead.\n",
      "  y_pred_wfv = y_pred_wfv.append(next_pred)\n",
      "C:\\Users\\ACER\\AppData\\Local\\Temp\\ipykernel_6428\\1271811932.py:7: FutureWarning: The series.append method is deprecated and will be removed from pandas in a future version. Use pandas.concat instead.\n",
      "  history = history.append(y_test[next_pred.index])\n",
      "C:\\Users\\ACER\\AppData\\Local\\Temp\\ipykernel_6428\\1271811932.py:6: FutureWarning: The series.append method is deprecated and will be removed from pandas in a future version. Use pandas.concat instead.\n",
      "  y_pred_wfv = y_pred_wfv.append(next_pred)\n",
      "C:\\Users\\ACER\\AppData\\Local\\Temp\\ipykernel_6428\\1271811932.py:7: FutureWarning: The series.append method is deprecated and will be removed from pandas in a future version. Use pandas.concat instead.\n",
      "  history = history.append(y_test[next_pred.index])\n",
      "C:\\Users\\ACER\\AppData\\Local\\Temp\\ipykernel_6428\\1271811932.py:6: FutureWarning: The series.append method is deprecated and will be removed from pandas in a future version. Use pandas.concat instead.\n",
      "  y_pred_wfv = y_pred_wfv.append(next_pred)\n",
      "C:\\Users\\ACER\\AppData\\Local\\Temp\\ipykernel_6428\\1271811932.py:7: FutureWarning: The series.append method is deprecated and will be removed from pandas in a future version. Use pandas.concat instead.\n",
      "  history = history.append(y_test[next_pred.index])\n",
      "C:\\Users\\ACER\\AppData\\Local\\Temp\\ipykernel_6428\\1271811932.py:6: FutureWarning: The series.append method is deprecated and will be removed from pandas in a future version. Use pandas.concat instead.\n",
      "  y_pred_wfv = y_pred_wfv.append(next_pred)\n",
      "C:\\Users\\ACER\\AppData\\Local\\Temp\\ipykernel_6428\\1271811932.py:7: FutureWarning: The series.append method is deprecated and will be removed from pandas in a future version. Use pandas.concat instead.\n",
      "  history = history.append(y_test[next_pred.index])\n",
      "C:\\Users\\ACER\\AppData\\Local\\Temp\\ipykernel_6428\\1271811932.py:6: FutureWarning: The series.append method is deprecated and will be removed from pandas in a future version. Use pandas.concat instead.\n",
      "  y_pred_wfv = y_pred_wfv.append(next_pred)\n",
      "C:\\Users\\ACER\\AppData\\Local\\Temp\\ipykernel_6428\\1271811932.py:7: FutureWarning: The series.append method is deprecated and will be removed from pandas in a future version. Use pandas.concat instead.\n",
      "  history = history.append(y_test[next_pred.index])\n",
      "C:\\Users\\ACER\\AppData\\Local\\Temp\\ipykernel_6428\\1271811932.py:6: FutureWarning: The series.append method is deprecated and will be removed from pandas in a future version. Use pandas.concat instead.\n",
      "  y_pred_wfv = y_pred_wfv.append(next_pred)\n",
      "C:\\Users\\ACER\\AppData\\Local\\Temp\\ipykernel_6428\\1271811932.py:7: FutureWarning: The series.append method is deprecated and will be removed from pandas in a future version. Use pandas.concat instead.\n",
      "  history = history.append(y_test[next_pred.index])\n",
      "C:\\Users\\ACER\\AppData\\Local\\Temp\\ipykernel_6428\\1271811932.py:6: FutureWarning: The series.append method is deprecated and will be removed from pandas in a future version. Use pandas.concat instead.\n",
      "  y_pred_wfv = y_pred_wfv.append(next_pred)\n",
      "C:\\Users\\ACER\\AppData\\Local\\Temp\\ipykernel_6428\\1271811932.py:7: FutureWarning: The series.append method is deprecated and will be removed from pandas in a future version. Use pandas.concat instead.\n",
      "  history = history.append(y_test[next_pred.index])\n",
      "C:\\Users\\ACER\\AppData\\Local\\Temp\\ipykernel_6428\\1271811932.py:6: FutureWarning: The series.append method is deprecated and will be removed from pandas in a future version. Use pandas.concat instead.\n",
      "  y_pred_wfv = y_pred_wfv.append(next_pred)\n",
      "C:\\Users\\ACER\\AppData\\Local\\Temp\\ipykernel_6428\\1271811932.py:7: FutureWarning: The series.append method is deprecated and will be removed from pandas in a future version. Use pandas.concat instead.\n",
      "  history = history.append(y_test[next_pred.index])\n",
      "C:\\Users\\ACER\\AppData\\Local\\Temp\\ipykernel_6428\\1271811932.py:6: FutureWarning: The series.append method is deprecated and will be removed from pandas in a future version. Use pandas.concat instead.\n",
      "  y_pred_wfv = y_pred_wfv.append(next_pred)\n",
      "C:\\Users\\ACER\\AppData\\Local\\Temp\\ipykernel_6428\\1271811932.py:7: FutureWarning: The series.append method is deprecated and will be removed from pandas in a future version. Use pandas.concat instead.\n",
      "  history = history.append(y_test[next_pred.index])\n",
      "C:\\Users\\ACER\\AppData\\Local\\Temp\\ipykernel_6428\\1271811932.py:6: FutureWarning: The series.append method is deprecated and will be removed from pandas in a future version. Use pandas.concat instead.\n",
      "  y_pred_wfv = y_pred_wfv.append(next_pred)\n",
      "C:\\Users\\ACER\\AppData\\Local\\Temp\\ipykernel_6428\\1271811932.py:7: FutureWarning: The series.append method is deprecated and will be removed from pandas in a future version. Use pandas.concat instead.\n",
      "  history = history.append(y_test[next_pred.index])\n",
      "C:\\Users\\ACER\\AppData\\Local\\Temp\\ipykernel_6428\\1271811932.py:6: FutureWarning: The series.append method is deprecated and will be removed from pandas in a future version. Use pandas.concat instead.\n",
      "  y_pred_wfv = y_pred_wfv.append(next_pred)\n",
      "C:\\Users\\ACER\\AppData\\Local\\Temp\\ipykernel_6428\\1271811932.py:7: FutureWarning: The series.append method is deprecated and will be removed from pandas in a future version. Use pandas.concat instead.\n",
      "  history = history.append(y_test[next_pred.index])\n",
      "C:\\Users\\ACER\\AppData\\Local\\Temp\\ipykernel_6428\\1271811932.py:6: FutureWarning: The series.append method is deprecated and will be removed from pandas in a future version. Use pandas.concat instead.\n",
      "  y_pred_wfv = y_pred_wfv.append(next_pred)\n",
      "C:\\Users\\ACER\\AppData\\Local\\Temp\\ipykernel_6428\\1271811932.py:7: FutureWarning: The series.append method is deprecated and will be removed from pandas in a future version. Use pandas.concat instead.\n",
      "  history = history.append(y_test[next_pred.index])\n",
      "C:\\Users\\ACER\\AppData\\Local\\Temp\\ipykernel_6428\\1271811932.py:6: FutureWarning: The series.append method is deprecated and will be removed from pandas in a future version. Use pandas.concat instead.\n",
      "  y_pred_wfv = y_pred_wfv.append(next_pred)\n",
      "C:\\Users\\ACER\\AppData\\Local\\Temp\\ipykernel_6428\\1271811932.py:7: FutureWarning: The series.append method is deprecated and will be removed from pandas in a future version. Use pandas.concat instead.\n",
      "  history = history.append(y_test[next_pred.index])\n",
      "C:\\Users\\ACER\\AppData\\Local\\Temp\\ipykernel_6428\\1271811932.py:6: FutureWarning: The series.append method is deprecated and will be removed from pandas in a future version. Use pandas.concat instead.\n",
      "  y_pred_wfv = y_pred_wfv.append(next_pred)\n",
      "C:\\Users\\ACER\\AppData\\Local\\Temp\\ipykernel_6428\\1271811932.py:7: FutureWarning: The series.append method is deprecated and will be removed from pandas in a future version. Use pandas.concat instead.\n",
      "  history = history.append(y_test[next_pred.index])\n",
      "C:\\Users\\ACER\\AppData\\Local\\Temp\\ipykernel_6428\\1271811932.py:6: FutureWarning: The series.append method is deprecated and will be removed from pandas in a future version. Use pandas.concat instead.\n",
      "  y_pred_wfv = y_pred_wfv.append(next_pred)\n",
      "C:\\Users\\ACER\\AppData\\Local\\Temp\\ipykernel_6428\\1271811932.py:7: FutureWarning: The series.append method is deprecated and will be removed from pandas in a future version. Use pandas.concat instead.\n",
      "  history = history.append(y_test[next_pred.index])\n",
      "C:\\Users\\ACER\\AppData\\Local\\Temp\\ipykernel_6428\\1271811932.py:6: FutureWarning: The series.append method is deprecated and will be removed from pandas in a future version. Use pandas.concat instead.\n",
      "  y_pred_wfv = y_pred_wfv.append(next_pred)\n",
      "C:\\Users\\ACER\\AppData\\Local\\Temp\\ipykernel_6428\\1271811932.py:7: FutureWarning: The series.append method is deprecated and will be removed from pandas in a future version. Use pandas.concat instead.\n",
      "  history = history.append(y_test[next_pred.index])\n",
      "C:\\Users\\ACER\\AppData\\Local\\Temp\\ipykernel_6428\\1271811932.py:6: FutureWarning: The series.append method is deprecated and will be removed from pandas in a future version. Use pandas.concat instead.\n",
      "  y_pred_wfv = y_pred_wfv.append(next_pred)\n",
      "C:\\Users\\ACER\\AppData\\Local\\Temp\\ipykernel_6428\\1271811932.py:7: FutureWarning: The series.append method is deprecated and will be removed from pandas in a future version. Use pandas.concat instead.\n",
      "  history = history.append(y_test[next_pred.index])\n",
      "C:\\Users\\ACER\\AppData\\Local\\Temp\\ipykernel_6428\\1271811932.py:6: FutureWarning: The series.append method is deprecated and will be removed from pandas in a future version. Use pandas.concat instead.\n",
      "  y_pred_wfv = y_pred_wfv.append(next_pred)\n",
      "C:\\Users\\ACER\\AppData\\Local\\Temp\\ipykernel_6428\\1271811932.py:7: FutureWarning: The series.append method is deprecated and will be removed from pandas in a future version. Use pandas.concat instead.\n",
      "  history = history.append(y_test[next_pred.index])\n",
      "C:\\Users\\ACER\\AppData\\Local\\Temp\\ipykernel_6428\\1271811932.py:6: FutureWarning: The series.append method is deprecated and will be removed from pandas in a future version. Use pandas.concat instead.\n",
      "  y_pred_wfv = y_pred_wfv.append(next_pred)\n",
      "C:\\Users\\ACER\\AppData\\Local\\Temp\\ipykernel_6428\\1271811932.py:7: FutureWarning: The series.append method is deprecated and will be removed from pandas in a future version. Use pandas.concat instead.\n",
      "  history = history.append(y_test[next_pred.index])\n",
      "C:\\Users\\ACER\\AppData\\Local\\Temp\\ipykernel_6428\\1271811932.py:6: FutureWarning: The series.append method is deprecated and will be removed from pandas in a future version. Use pandas.concat instead.\n",
      "  y_pred_wfv = y_pred_wfv.append(next_pred)\n",
      "C:\\Users\\ACER\\AppData\\Local\\Temp\\ipykernel_6428\\1271811932.py:7: FutureWarning: The series.append method is deprecated and will be removed from pandas in a future version. Use pandas.concat instead.\n",
      "  history = history.append(y_test[next_pred.index])\n",
      "C:\\Users\\ACER\\AppData\\Local\\Temp\\ipykernel_6428\\1271811932.py:6: FutureWarning: The series.append method is deprecated and will be removed from pandas in a future version. Use pandas.concat instead.\n",
      "  y_pred_wfv = y_pred_wfv.append(next_pred)\n",
      "C:\\Users\\ACER\\AppData\\Local\\Temp\\ipykernel_6428\\1271811932.py:7: FutureWarning: The series.append method is deprecated and will be removed from pandas in a future version. Use pandas.concat instead.\n",
      "  history = history.append(y_test[next_pred.index])\n",
      "C:\\Users\\ACER\\AppData\\Local\\Temp\\ipykernel_6428\\1271811932.py:6: FutureWarning: The series.append method is deprecated and will be removed from pandas in a future version. Use pandas.concat instead.\n",
      "  y_pred_wfv = y_pred_wfv.append(next_pred)\n",
      "C:\\Users\\ACER\\AppData\\Local\\Temp\\ipykernel_6428\\1271811932.py:7: FutureWarning: The series.append method is deprecated and will be removed from pandas in a future version. Use pandas.concat instead.\n",
      "  history = history.append(y_test[next_pred.index])\n",
      "C:\\Users\\ACER\\AppData\\Local\\Temp\\ipykernel_6428\\1271811932.py:6: FutureWarning: The series.append method is deprecated and will be removed from pandas in a future version. Use pandas.concat instead.\n",
      "  y_pred_wfv = y_pred_wfv.append(next_pred)\n",
      "C:\\Users\\ACER\\AppData\\Local\\Temp\\ipykernel_6428\\1271811932.py:7: FutureWarning: The series.append method is deprecated and will be removed from pandas in a future version. Use pandas.concat instead.\n",
      "  history = history.append(y_test[next_pred.index])\n",
      "C:\\Users\\ACER\\AppData\\Local\\Temp\\ipykernel_6428\\1271811932.py:6: FutureWarning: The series.append method is deprecated and will be removed from pandas in a future version. Use pandas.concat instead.\n",
      "  y_pred_wfv = y_pred_wfv.append(next_pred)\n",
      "C:\\Users\\ACER\\AppData\\Local\\Temp\\ipykernel_6428\\1271811932.py:7: FutureWarning: The series.append method is deprecated and will be removed from pandas in a future version. Use pandas.concat instead.\n",
      "  history = history.append(y_test[next_pred.index])\n",
      "C:\\Users\\ACER\\AppData\\Local\\Temp\\ipykernel_6428\\1271811932.py:6: FutureWarning: The series.append method is deprecated and will be removed from pandas in a future version. Use pandas.concat instead.\n",
      "  y_pred_wfv = y_pred_wfv.append(next_pred)\n",
      "C:\\Users\\ACER\\AppData\\Local\\Temp\\ipykernel_6428\\1271811932.py:7: FutureWarning: The series.append method is deprecated and will be removed from pandas in a future version. Use pandas.concat instead.\n",
      "  history = history.append(y_test[next_pred.index])\n",
      "C:\\Users\\ACER\\AppData\\Local\\Temp\\ipykernel_6428\\1271811932.py:6: FutureWarning: The series.append method is deprecated and will be removed from pandas in a future version. Use pandas.concat instead.\n",
      "  y_pred_wfv = y_pred_wfv.append(next_pred)\n",
      "C:\\Users\\ACER\\AppData\\Local\\Temp\\ipykernel_6428\\1271811932.py:7: FutureWarning: The series.append method is deprecated and will be removed from pandas in a future version. Use pandas.concat instead.\n",
      "  history = history.append(y_test[next_pred.index])\n",
      "C:\\Users\\ACER\\AppData\\Local\\Temp\\ipykernel_6428\\1271811932.py:6: FutureWarning: The series.append method is deprecated and will be removed from pandas in a future version. Use pandas.concat instead.\n",
      "  y_pred_wfv = y_pred_wfv.append(next_pred)\n",
      "C:\\Users\\ACER\\AppData\\Local\\Temp\\ipykernel_6428\\1271811932.py:7: FutureWarning: The series.append method is deprecated and will be removed from pandas in a future version. Use pandas.concat instead.\n",
      "  history = history.append(y_test[next_pred.index])\n",
      "C:\\Users\\ACER\\AppData\\Local\\Temp\\ipykernel_6428\\1271811932.py:6: FutureWarning: The series.append method is deprecated and will be removed from pandas in a future version. Use pandas.concat instead.\n",
      "  y_pred_wfv = y_pred_wfv.append(next_pred)\n",
      "C:\\Users\\ACER\\AppData\\Local\\Temp\\ipykernel_6428\\1271811932.py:7: FutureWarning: The series.append method is deprecated and will be removed from pandas in a future version. Use pandas.concat instead.\n",
      "  history = history.append(y_test[next_pred.index])\n",
      "C:\\Users\\ACER\\AppData\\Local\\Temp\\ipykernel_6428\\1271811932.py:6: FutureWarning: The series.append method is deprecated and will be removed from pandas in a future version. Use pandas.concat instead.\n",
      "  y_pred_wfv = y_pred_wfv.append(next_pred)\n",
      "C:\\Users\\ACER\\AppData\\Local\\Temp\\ipykernel_6428\\1271811932.py:7: FutureWarning: The series.append method is deprecated and will be removed from pandas in a future version. Use pandas.concat instead.\n",
      "  history = history.append(y_test[next_pred.index])\n",
      "C:\\Users\\ACER\\AppData\\Local\\Temp\\ipykernel_6428\\1271811932.py:6: FutureWarning: The series.append method is deprecated and will be removed from pandas in a future version. Use pandas.concat instead.\n",
      "  y_pred_wfv = y_pred_wfv.append(next_pred)\n",
      "C:\\Users\\ACER\\AppData\\Local\\Temp\\ipykernel_6428\\1271811932.py:7: FutureWarning: The series.append method is deprecated and will be removed from pandas in a future version. Use pandas.concat instead.\n",
      "  history = history.append(y_test[next_pred.index])\n",
      "C:\\Users\\ACER\\AppData\\Local\\Temp\\ipykernel_6428\\1271811932.py:6: FutureWarning: The series.append method is deprecated and will be removed from pandas in a future version. Use pandas.concat instead.\n",
      "  y_pred_wfv = y_pred_wfv.append(next_pred)\n",
      "C:\\Users\\ACER\\AppData\\Local\\Temp\\ipykernel_6428\\1271811932.py:7: FutureWarning: The series.append method is deprecated and will be removed from pandas in a future version. Use pandas.concat instead.\n",
      "  history = history.append(y_test[next_pred.index])\n",
      "C:\\Users\\ACER\\AppData\\Local\\Temp\\ipykernel_6428\\1271811932.py:6: FutureWarning: The series.append method is deprecated and will be removed from pandas in a future version. Use pandas.concat instead.\n",
      "  y_pred_wfv = y_pred_wfv.append(next_pred)\n",
      "C:\\Users\\ACER\\AppData\\Local\\Temp\\ipykernel_6428\\1271811932.py:7: FutureWarning: The series.append method is deprecated and will be removed from pandas in a future version. Use pandas.concat instead.\n",
      "  history = history.append(y_test[next_pred.index])\n",
      "C:\\Users\\ACER\\AppData\\Local\\Temp\\ipykernel_6428\\1271811932.py:6: FutureWarning: The series.append method is deprecated and will be removed from pandas in a future version. Use pandas.concat instead.\n",
      "  y_pred_wfv = y_pred_wfv.append(next_pred)\n",
      "C:\\Users\\ACER\\AppData\\Local\\Temp\\ipykernel_6428\\1271811932.py:7: FutureWarning: The series.append method is deprecated and will be removed from pandas in a future version. Use pandas.concat instead.\n",
      "  history = history.append(y_test[next_pred.index])\n",
      "C:\\Users\\ACER\\AppData\\Local\\Temp\\ipykernel_6428\\1271811932.py:6: FutureWarning: The series.append method is deprecated and will be removed from pandas in a future version. Use pandas.concat instead.\n",
      "  y_pred_wfv = y_pred_wfv.append(next_pred)\n",
      "C:\\Users\\ACER\\AppData\\Local\\Temp\\ipykernel_6428\\1271811932.py:7: FutureWarning: The series.append method is deprecated and will be removed from pandas in a future version. Use pandas.concat instead.\n",
      "  history = history.append(y_test[next_pred.index])\n",
      "C:\\Users\\ACER\\AppData\\Local\\Temp\\ipykernel_6428\\1271811932.py:6: FutureWarning: The series.append method is deprecated and will be removed from pandas in a future version. Use pandas.concat instead.\n",
      "  y_pred_wfv = y_pred_wfv.append(next_pred)\n",
      "C:\\Users\\ACER\\AppData\\Local\\Temp\\ipykernel_6428\\1271811932.py:7: FutureWarning: The series.append method is deprecated and will be removed from pandas in a future version. Use pandas.concat instead.\n",
      "  history = history.append(y_test[next_pred.index])\n",
      "C:\\Users\\ACER\\AppData\\Local\\Temp\\ipykernel_6428\\1271811932.py:6: FutureWarning: The series.append method is deprecated and will be removed from pandas in a future version. Use pandas.concat instead.\n",
      "  y_pred_wfv = y_pred_wfv.append(next_pred)\n",
      "C:\\Users\\ACER\\AppData\\Local\\Temp\\ipykernel_6428\\1271811932.py:7: FutureWarning: The series.append method is deprecated and will be removed from pandas in a future version. Use pandas.concat instead.\n",
      "  history = history.append(y_test[next_pred.index])\n",
      "C:\\Users\\ACER\\AppData\\Local\\Temp\\ipykernel_6428\\1271811932.py:6: FutureWarning: The series.append method is deprecated and will be removed from pandas in a future version. Use pandas.concat instead.\n",
      "  y_pred_wfv = y_pred_wfv.append(next_pred)\n",
      "C:\\Users\\ACER\\AppData\\Local\\Temp\\ipykernel_6428\\1271811932.py:7: FutureWarning: The series.append method is deprecated and will be removed from pandas in a future version. Use pandas.concat instead.\n",
      "  history = history.append(y_test[next_pred.index])\n",
      "C:\\Users\\ACER\\AppData\\Local\\Temp\\ipykernel_6428\\1271811932.py:6: FutureWarning: The series.append method is deprecated and will be removed from pandas in a future version. Use pandas.concat instead.\n",
      "  y_pred_wfv = y_pred_wfv.append(next_pred)\n",
      "C:\\Users\\ACER\\AppData\\Local\\Temp\\ipykernel_6428\\1271811932.py:7: FutureWarning: The series.append method is deprecated and will be removed from pandas in a future version. Use pandas.concat instead.\n",
      "  history = history.append(y_test[next_pred.index])\n",
      "C:\\Users\\ACER\\AppData\\Local\\Temp\\ipykernel_6428\\1271811932.py:6: FutureWarning: The series.append method is deprecated and will be removed from pandas in a future version. Use pandas.concat instead.\n",
      "  y_pred_wfv = y_pred_wfv.append(next_pred)\n",
      "C:\\Users\\ACER\\AppData\\Local\\Temp\\ipykernel_6428\\1271811932.py:7: FutureWarning: The series.append method is deprecated and will be removed from pandas in a future version. Use pandas.concat instead.\n",
      "  history = history.append(y_test[next_pred.index])\n",
      "C:\\Users\\ACER\\AppData\\Local\\Temp\\ipykernel_6428\\1271811932.py:6: FutureWarning: The series.append method is deprecated and will be removed from pandas in a future version. Use pandas.concat instead.\n",
      "  y_pred_wfv = y_pred_wfv.append(next_pred)\n",
      "C:\\Users\\ACER\\AppData\\Local\\Temp\\ipykernel_6428\\1271811932.py:7: FutureWarning: The series.append method is deprecated and will be removed from pandas in a future version. Use pandas.concat instead.\n",
      "  history = history.append(y_test[next_pred.index])\n",
      "C:\\Users\\ACER\\AppData\\Local\\Temp\\ipykernel_6428\\1271811932.py:6: FutureWarning: The series.append method is deprecated and will be removed from pandas in a future version. Use pandas.concat instead.\n",
      "  y_pred_wfv = y_pred_wfv.append(next_pred)\n",
      "C:\\Users\\ACER\\AppData\\Local\\Temp\\ipykernel_6428\\1271811932.py:7: FutureWarning: The series.append method is deprecated and will be removed from pandas in a future version. Use pandas.concat instead.\n",
      "  history = history.append(y_test[next_pred.index])\n",
      "C:\\Users\\ACER\\AppData\\Local\\Temp\\ipykernel_6428\\1271811932.py:6: FutureWarning: The series.append method is deprecated and will be removed from pandas in a future version. Use pandas.concat instead.\n",
      "  y_pred_wfv = y_pred_wfv.append(next_pred)\n",
      "C:\\Users\\ACER\\AppData\\Local\\Temp\\ipykernel_6428\\1271811932.py:7: FutureWarning: The series.append method is deprecated and will be removed from pandas in a future version. Use pandas.concat instead.\n",
      "  history = history.append(y_test[next_pred.index])\n",
      "C:\\Users\\ACER\\AppData\\Local\\Temp\\ipykernel_6428\\1271811932.py:6: FutureWarning: The series.append method is deprecated and will be removed from pandas in a future version. Use pandas.concat instead.\n",
      "  y_pred_wfv = y_pred_wfv.append(next_pred)\n",
      "C:\\Users\\ACER\\AppData\\Local\\Temp\\ipykernel_6428\\1271811932.py:7: FutureWarning: The series.append method is deprecated and will be removed from pandas in a future version. Use pandas.concat instead.\n",
      "  history = history.append(y_test[next_pred.index])\n",
      "C:\\Users\\ACER\\AppData\\Local\\Temp\\ipykernel_6428\\1271811932.py:6: FutureWarning: The series.append method is deprecated and will be removed from pandas in a future version. Use pandas.concat instead.\n",
      "  y_pred_wfv = y_pred_wfv.append(next_pred)\n",
      "C:\\Users\\ACER\\AppData\\Local\\Temp\\ipykernel_6428\\1271811932.py:7: FutureWarning: The series.append method is deprecated and will be removed from pandas in a future version. Use pandas.concat instead.\n",
      "  history = history.append(y_test[next_pred.index])\n",
      "C:\\Users\\ACER\\AppData\\Local\\Temp\\ipykernel_6428\\1271811932.py:6: FutureWarning: The series.append method is deprecated and will be removed from pandas in a future version. Use pandas.concat instead.\n",
      "  y_pred_wfv = y_pred_wfv.append(next_pred)\n",
      "C:\\Users\\ACER\\AppData\\Local\\Temp\\ipykernel_6428\\1271811932.py:7: FutureWarning: The series.append method is deprecated and will be removed from pandas in a future version. Use pandas.concat instead.\n",
      "  history = history.append(y_test[next_pred.index])\n",
      "C:\\Users\\ACER\\AppData\\Local\\Temp\\ipykernel_6428\\1271811932.py:6: FutureWarning: The series.append method is deprecated and will be removed from pandas in a future version. Use pandas.concat instead.\n",
      "  y_pred_wfv = y_pred_wfv.append(next_pred)\n",
      "C:\\Users\\ACER\\AppData\\Local\\Temp\\ipykernel_6428\\1271811932.py:7: FutureWarning: The series.append method is deprecated and will be removed from pandas in a future version. Use pandas.concat instead.\n",
      "  history = history.append(y_test[next_pred.index])\n",
      "C:\\Users\\ACER\\AppData\\Local\\Temp\\ipykernel_6428\\1271811932.py:6: FutureWarning: The series.append method is deprecated and will be removed from pandas in a future version. Use pandas.concat instead.\n",
      "  y_pred_wfv = y_pred_wfv.append(next_pred)\n",
      "C:\\Users\\ACER\\AppData\\Local\\Temp\\ipykernel_6428\\1271811932.py:7: FutureWarning: The series.append method is deprecated and will be removed from pandas in a future version. Use pandas.concat instead.\n",
      "  history = history.append(y_test[next_pred.index])\n",
      "C:\\Users\\ACER\\AppData\\Local\\Temp\\ipykernel_6428\\1271811932.py:6: FutureWarning: The series.append method is deprecated and will be removed from pandas in a future version. Use pandas.concat instead.\n",
      "  y_pred_wfv = y_pred_wfv.append(next_pred)\n",
      "C:\\Users\\ACER\\AppData\\Local\\Temp\\ipykernel_6428\\1271811932.py:7: FutureWarning: The series.append method is deprecated and will be removed from pandas in a future version. Use pandas.concat instead.\n",
      "  history = history.append(y_test[next_pred.index])\n",
      "C:\\Users\\ACER\\AppData\\Local\\Temp\\ipykernel_6428\\1271811932.py:6: FutureWarning: The series.append method is deprecated and will be removed from pandas in a future version. Use pandas.concat instead.\n",
      "  y_pred_wfv = y_pred_wfv.append(next_pred)\n",
      "C:\\Users\\ACER\\AppData\\Local\\Temp\\ipykernel_6428\\1271811932.py:7: FutureWarning: The series.append method is deprecated and will be removed from pandas in a future version. Use pandas.concat instead.\n",
      "  history = history.append(y_test[next_pred.index])\n",
      "C:\\Users\\ACER\\AppData\\Local\\Temp\\ipykernel_6428\\1271811932.py:6: FutureWarning: The series.append method is deprecated and will be removed from pandas in a future version. Use pandas.concat instead.\n",
      "  y_pred_wfv = y_pred_wfv.append(next_pred)\n",
      "C:\\Users\\ACER\\AppData\\Local\\Temp\\ipykernel_6428\\1271811932.py:7: FutureWarning: The series.append method is deprecated and will be removed from pandas in a future version. Use pandas.concat instead.\n",
      "  history = history.append(y_test[next_pred.index])\n",
      "C:\\Users\\ACER\\AppData\\Local\\Temp\\ipykernel_6428\\1271811932.py:6: FutureWarning: The series.append method is deprecated and will be removed from pandas in a future version. Use pandas.concat instead.\n",
      "  y_pred_wfv = y_pred_wfv.append(next_pred)\n",
      "C:\\Users\\ACER\\AppData\\Local\\Temp\\ipykernel_6428\\1271811932.py:7: FutureWarning: The series.append method is deprecated and will be removed from pandas in a future version. Use pandas.concat instead.\n",
      "  history = history.append(y_test[next_pred.index])\n",
      "C:\\Users\\ACER\\AppData\\Local\\Temp\\ipykernel_6428\\1271811932.py:6: FutureWarning: The series.append method is deprecated and will be removed from pandas in a future version. Use pandas.concat instead.\n",
      "  y_pred_wfv = y_pred_wfv.append(next_pred)\n",
      "C:\\Users\\ACER\\AppData\\Local\\Temp\\ipykernel_6428\\1271811932.py:7: FutureWarning: The series.append method is deprecated and will be removed from pandas in a future version. Use pandas.concat instead.\n",
      "  history = history.append(y_test[next_pred.index])\n",
      "C:\\Users\\ACER\\AppData\\Local\\Temp\\ipykernel_6428\\1271811932.py:6: FutureWarning: The series.append method is deprecated and will be removed from pandas in a future version. Use pandas.concat instead.\n",
      "  y_pred_wfv = y_pred_wfv.append(next_pred)\n",
      "C:\\Users\\ACER\\AppData\\Local\\Temp\\ipykernel_6428\\1271811932.py:7: FutureWarning: The series.append method is deprecated and will be removed from pandas in a future version. Use pandas.concat instead.\n",
      "  history = history.append(y_test[next_pred.index])\n",
      "C:\\Users\\ACER\\AppData\\Local\\Temp\\ipykernel_6428\\1271811932.py:6: FutureWarning: The series.append method is deprecated and will be removed from pandas in a future version. Use pandas.concat instead.\n",
      "  y_pred_wfv = y_pred_wfv.append(next_pred)\n",
      "C:\\Users\\ACER\\AppData\\Local\\Temp\\ipykernel_6428\\1271811932.py:7: FutureWarning: The series.append method is deprecated and will be removed from pandas in a future version. Use pandas.concat instead.\n",
      "  history = history.append(y_test[next_pred.index])\n"
     ]
    },
    {
     "data": {
      "text/plain": [
       "timestamp\n",
       "2021-12-19 00:00:00+05:30    64.663331\n",
       "2021-12-20 00:00:00+05:30    66.592105\n",
       "2021-12-21 00:00:00+05:30    74.778957\n",
       "2021-12-22 00:00:00+05:30    89.397745\n",
       "2021-12-23 00:00:00+05:30    92.232756\n",
       "Freq: D, Name: prediction, dtype: float64"
      ]
     },
     "execution_count": 62,
     "metadata": {},
     "output_type": "execute_result"
    }
   ],
   "source": [
    "y_pred_wfv = pd.Series()\n",
    "history = y_train.copy()\n",
    "for i in range(len(y_test)):\n",
    "    model = AutoReg(history, lags=best_p).fit()\n",
    "    next_pred = model.forecast()\n",
    "    y_pred_wfv = y_pred_wfv.append(next_pred)\n",
    "    history = history.append(y_test[next_pred.index])\n",
    "    \n",
    "y_pred_wfv.name = \"prediction\"\n",
    "y_pred_wfv.index.name = \"timestamp\"\n",
    "y_pred_wfv.head()"
   ]
  },
  {
   "cell_type": "code",
   "execution_count": null,
   "id": "ba59b6e5",
   "metadata": {},
   "outputs": [],
   "source": []
  },
  {
   "cell_type": "code",
   "execution_count": 122,
   "id": "008d75e8",
   "metadata": {},
   "outputs": [
    {
     "data": {
      "application/vnd.plotly.v1+json": {
       "config": {
        "plotlyServerURL": "https://plot.ly"
       },
       "data": [
        {
         "hovertemplate": "variable=y_test<br>index=%{x}<br>PM2.5=%{y}<extra></extra>",
         "legendgroup": "y_test",
         "line": {
          "color": "#636efa",
          "dash": "solid"
         },
         "marker": {
          "symbol": "circle"
         },
         "mode": "lines",
         "name": "y_test",
         "orientation": "v",
         "showlegend": true,
         "type": "scatter",
         "x": [
          "2021-12-19T00:00:00+05:30",
          "2021-12-20T00:00:00+05:30",
          "2021-12-21T00:00:00+05:30",
          "2021-12-22T00:00:00+05:30",
          "2021-12-23T00:00:00+05:30",
          "2021-12-24T00:00:00+05:30",
          "2021-12-25T00:00:00+05:30",
          "2021-12-26T00:00:00+05:30",
          "2021-12-27T00:00:00+05:30",
          "2021-12-28T00:00:00+05:30",
          "2021-12-29T00:00:00+05:30",
          "2021-12-30T00:00:00+05:30",
          "2021-12-31T00:00:00+05:30",
          "2022-01-01T00:00:00+05:30",
          "2022-01-02T00:00:00+05:30",
          "2022-01-03T00:00:00+05:30",
          "2022-01-04T00:00:00+05:30",
          "2022-01-05T00:00:00+05:30",
          "2022-01-06T00:00:00+05:30",
          "2022-01-07T00:00:00+05:30",
          "2022-01-08T00:00:00+05:30",
          "2022-01-09T00:00:00+05:30",
          "2022-01-10T00:00:00+05:30",
          "2022-01-11T00:00:00+05:30",
          "2022-01-12T00:00:00+05:30",
          "2022-01-13T00:00:00+05:30",
          "2022-01-14T00:00:00+05:30",
          "2022-01-15T00:00:00+05:30",
          "2022-01-16T00:00:00+05:30",
          "2022-01-17T00:00:00+05:30",
          "2022-01-18T00:00:00+05:30",
          "2022-01-19T00:00:00+05:30",
          "2022-01-20T00:00:00+05:30",
          "2022-01-21T00:00:00+05:30",
          "2022-01-22T00:00:00+05:30",
          "2022-01-23T00:00:00+05:30",
          "2022-01-24T00:00:00+05:30",
          "2022-01-25T00:00:00+05:30",
          "2022-01-26T00:00:00+05:30",
          "2022-01-27T00:00:00+05:30",
          "2022-01-28T00:00:00+05:30",
          "2022-01-29T00:00:00+05:30",
          "2022-01-30T00:00:00+05:30",
          "2022-01-31T00:00:00+05:30",
          "2022-02-01T00:00:00+05:30",
          "2022-02-02T00:00:00+05:30",
          "2022-02-03T00:00:00+05:30",
          "2022-02-04T00:00:00+05:30",
          "2022-02-05T00:00:00+05:30",
          "2022-02-06T00:00:00+05:30",
          "2022-02-07T00:00:00+05:30",
          "2022-02-08T00:00:00+05:30",
          "2022-02-09T00:00:00+05:30",
          "2022-02-10T00:00:00+05:30",
          "2022-02-11T00:00:00+05:30",
          "2022-02-12T00:00:00+05:30",
          "2022-02-13T00:00:00+05:30",
          "2022-02-14T00:00:00+05:30",
          "2022-02-15T00:00:00+05:30",
          "2022-02-16T00:00:00+05:30",
          "2022-02-17T00:00:00+05:30",
          "2022-02-18T00:00:00+05:30",
          "2022-02-19T00:00:00+05:30",
          "2022-02-20T00:00:00+05:30",
          "2022-02-21T00:00:00+05:30",
          "2022-02-22T00:00:00+05:30",
          "2022-02-23T00:00:00+05:30",
          "2022-02-24T00:00:00+05:30",
          "2022-02-25T00:00:00+05:30",
          "2022-02-26T00:00:00+05:30",
          "2022-02-27T00:00:00+05:30",
          "2022-02-28T00:00:00+05:30",
          "2022-03-01T00:00:00+05:30",
          "2022-03-02T00:00:00+05:30",
          "2022-03-03T00:00:00+05:30",
          "2022-03-04T00:00:00+05:30",
          "2022-03-05T00:00:00+05:30",
          "2022-03-06T00:00:00+05:30",
          "2022-03-07T00:00:00+05:30",
          "2022-03-08T00:00:00+05:30",
          "2022-03-09T00:00:00+05:30",
          "2022-03-10T00:00:00+05:30",
          "2022-03-11T00:00:00+05:30",
          "2022-03-12T00:00:00+05:30",
          "2022-03-13T00:00:00+05:30",
          "2022-03-14T00:00:00+05:30",
          "2022-03-15T00:00:00+05:30",
          "2022-03-16T00:00:00+05:30",
          "2022-03-17T00:00:00+05:30",
          "2022-03-18T00:00:00+05:30",
          "2022-03-19T00:00:00+05:30",
          "2022-03-20T00:00:00+05:30",
          "2022-03-21T00:00:00+05:30",
          "2022-03-22T00:00:00+05:30",
          "2022-03-23T00:00:00+05:30",
          "2022-03-24T00:00:00+05:30",
          "2022-03-25T00:00:00+05:30",
          "2022-03-26T00:00:00+05:30",
          "2022-03-27T00:00:00+05:30",
          "2022-03-28T00:00:00+05:30",
          "2022-03-29T00:00:00+05:30",
          "2022-03-30T00:00:00+05:30",
          "2022-03-31T00:00:00+05:30",
          "2022-04-01T00:00:00+05:30",
          "2022-04-02T00:00:00+05:30",
          "2022-04-03T00:00:00+05:30",
          "2022-04-04T00:00:00+05:30",
          "2022-04-05T00:00:00+05:30",
          "2022-04-06T00:00:00+05:30",
          "2022-04-07T00:00:00+05:30",
          "2022-04-08T00:00:00+05:30",
          "2022-04-09T00:00:00+05:30",
          "2022-04-10T00:00:00+05:30",
          "2022-04-11T00:00:00+05:30",
          "2022-04-12T00:00:00+05:30",
          "2022-04-13T00:00:00+05:30",
          "2022-04-14T00:00:00+05:30",
          "2022-04-15T00:00:00+05:30",
          "2022-04-16T00:00:00+05:30",
          "2022-04-17T00:00:00+05:30",
          "2022-04-18T00:00:00+05:30",
          "2022-04-19T00:00:00+05:30",
          "2022-04-20T00:00:00+05:30",
          "2022-04-21T00:00:00+05:30",
          "2022-04-22T00:00:00+05:30",
          "2022-04-23T00:00:00+05:30",
          "2022-04-24T00:00:00+05:30",
          "2022-04-25T00:00:00+05:30",
          "2022-04-26T00:00:00+05:30",
          "2022-04-27T00:00:00+05:30",
          "2022-04-28T00:00:00+05:30",
          "2022-04-29T00:00:00+05:30",
          "2022-04-30T00:00:00+05:30",
          "2022-05-01T00:00:00+05:30",
          "2022-05-02T00:00:00+05:30",
          "2022-05-03T00:00:00+05:30",
          "2022-05-04T00:00:00+05:30",
          "2022-05-05T00:00:00+05:30",
          "2022-05-06T00:00:00+05:30",
          "2022-05-07T00:00:00+05:30",
          "2022-05-08T00:00:00+05:30",
          "2022-05-09T00:00:00+05:30",
          "2022-05-10T00:00:00+05:30",
          "2022-05-11T00:00:00+05:30",
          "2022-05-12T00:00:00+05:30",
          "2022-05-13T00:00:00+05:30",
          "2022-05-14T00:00:00+05:30",
          "2022-05-15T00:00:00+05:30",
          "2022-05-16T00:00:00+05:30",
          "2022-05-17T00:00:00+05:30",
          "2022-05-18T00:00:00+05:30",
          "2022-05-19T00:00:00+05:30",
          "2022-05-20T00:00:00+05:30",
          "2022-05-21T00:00:00+05:30",
          "2022-05-22T00:00:00+05:30",
          "2022-05-23T00:00:00+05:30",
          "2022-05-24T00:00:00+05:30",
          "2022-05-25T00:00:00+05:30",
          "2022-05-26T00:00:00+05:30",
          "2022-05-27T00:00:00+05:30",
          "2022-05-28T00:00:00+05:30",
          "2022-05-29T00:00:00+05:30",
          "2022-05-30T00:00:00+05:30",
          "2022-05-31T00:00:00+05:30",
          "2022-06-01T00:00:00+05:30",
          "2022-06-02T00:00:00+05:30",
          "2022-06-03T00:00:00+05:30",
          "2022-06-04T00:00:00+05:30"
         ],
         "xaxis": "x",
         "y": [
          66.39041666666667,
          74.77499999999999,
          89.84125,
          94.37095238095237,
          87.52619047619048,
          82.92625,
          88.44652173913043,
          89.50541666666668,
          67.3875,
          67.75041666666667,
          53.47578947368421,
          53.00181818181818,
          56.486250000000005,
          63.3125,
          68.11708333333333,
          75.36041666666667,
          74.45333333333333,
          72.04083333333334,
          64.60111111111111,
          64.60111111111111,
          64.60111111111111,
          64.60111111111111,
          64.60111111111111,
          46.0525,
          47.64041666666666,
          50.75875,
          53.07958333333334,
          52.217083333333335,
          54.38583333333333,
          58.732499999999995,
          62.468333333333334,
          70.90916666666666,
          66.76181818181819,
          61.18142857142857,
          54.317619047619054,
          54.27772727272727,
          61.49142857142857,
          59.54416666666666,
          54.5,
          51.18,
          47.754999999999995,
          58.82909090909091,
          60.71958333333333,
          76.76541666666667,
          64.9725,
          61.21521739130435,
          53.28541666666666,
          42.969130434782606,
          49.24,
          53.19083333333333,
          55.62958333333333,
          55.78041666666667,
          50.965833333333336,
          52.219166666666666,
          48.72291666666666,
          51.887499999999996,
          52.54583333333333,
          53.143750000000004,
          53.58541666666667,
          55.339,
          51.85208333333333,
          51.27375,
          50.91583333333333,
          48.785,
          50.27875,
          50.056666666666665,
          53.307500000000005,
          53.24458333333333,
          50.34458333333333,
          44.85333333333333,
          41.39666666666667,
          43.00958333333333,
          44.965,
          46.395833333333336,
          46.34291666666667,
          44.84041666666667,
          44.94541666666667,
          49.07,
          52.973749999999995,
          52.81791666666666,
          50.04666666666666,
          53.009166666666665,
          52.24875,
          53.52166666666667,
          58.16791666666666,
          62.05625,
          60.805416666666666,
          56.09125,
          60.9275,
          60.67541666666667,
          52.455000000000005,
          50.643750000000004,
          54.34625,
          51.215833333333336,
          58.43625,
          55.40833333333333,
          49.65958333333333,
          48.282916666666665,
          50.99625,
          55.25416666666666,
          53.885,
          53.967083333333335,
          59.14083333333334,
          68.57666666666667,
          68.57666666666667,
          68.57666666666667,
          68.57666666666667,
          68.57666666666667,
          34.14454545454546,
          38.742666666666665,
          35.38933333333333,
          39.34875,
          55.91,
          55.91,
          55.91,
          55.91,
          55.91,
          55.91,
          55.91,
          55.91,
          55.91,
          44.409285714285716,
          44.29708333333334,
          45.35041666666667,
          41.597500000000004,
          44.21083333333333,
          44.66458333333333,
          46.49583333333334,
          47.465833333333336,
          50.291666666666664,
          49.00333333333333,
          47.45583333333334,
          45.99791666666667,
          40.89458333333334,
          41.07083333333333,
          47.690909090909095,
          35.960625,
          41.029583333333335,
          45.79666666666666,
          48.39541666666667,
          44.98,
          41.45333333333333,
          37.217083333333335,
          36.367916666666666,
          36.095416666666665,
          39.01625,
          42.90708333333333,
          42.086666666666666,
          45.12375,
          45.951249999999995,
          45.35874999999999,
          46.0875,
          42.05583333333333,
          42.29625,
          37.61416666666667,
          31.78333333333333,
          33.83958333333333,
          38.53791666666667,
          40.232083333333335,
          36.57666666666667,
          36.9125,
          34.89208333333333,
          36.977916666666665,
          41.46541666666666,
          41.645833333333336,
          42.25541666666667,
          39.42541666666667,
          38.50375
         ],
         "yaxis": "y"
        },
        {
         "hovertemplate": "variable=y_pred_wfv<br>index=%{x}<br>PM2.5=%{y}<extra></extra>",
         "legendgroup": "y_pred_wfv",
         "line": {
          "color": "#EF553B",
          "dash": "solid"
         },
         "marker": {
          "symbol": "circle"
         },
         "mode": "lines",
         "name": "y_pred_wfv",
         "orientation": "v",
         "showlegend": true,
         "type": "scatter",
         "x": [
          "2021-12-19T00:00:00+05:30",
          "2021-12-20T00:00:00+05:30",
          "2021-12-21T00:00:00+05:30",
          "2021-12-22T00:00:00+05:30",
          "2021-12-23T00:00:00+05:30",
          "2021-12-24T00:00:00+05:30",
          "2021-12-25T00:00:00+05:30",
          "2021-12-26T00:00:00+05:30",
          "2021-12-27T00:00:00+05:30",
          "2021-12-28T00:00:00+05:30",
          "2021-12-29T00:00:00+05:30",
          "2021-12-30T00:00:00+05:30",
          "2021-12-31T00:00:00+05:30",
          "2022-01-01T00:00:00+05:30",
          "2022-01-02T00:00:00+05:30",
          "2022-01-03T00:00:00+05:30",
          "2022-01-04T00:00:00+05:30",
          "2022-01-05T00:00:00+05:30",
          "2022-01-06T00:00:00+05:30",
          "2022-01-07T00:00:00+05:30",
          "2022-01-08T00:00:00+05:30",
          "2022-01-09T00:00:00+05:30",
          "2022-01-10T00:00:00+05:30",
          "2022-01-11T00:00:00+05:30",
          "2022-01-12T00:00:00+05:30",
          "2022-01-13T00:00:00+05:30",
          "2022-01-14T00:00:00+05:30",
          "2022-01-15T00:00:00+05:30",
          "2022-01-16T00:00:00+05:30",
          "2022-01-17T00:00:00+05:30",
          "2022-01-18T00:00:00+05:30",
          "2022-01-19T00:00:00+05:30",
          "2022-01-20T00:00:00+05:30",
          "2022-01-21T00:00:00+05:30",
          "2022-01-22T00:00:00+05:30",
          "2022-01-23T00:00:00+05:30",
          "2022-01-24T00:00:00+05:30",
          "2022-01-25T00:00:00+05:30",
          "2022-01-26T00:00:00+05:30",
          "2022-01-27T00:00:00+05:30",
          "2022-01-28T00:00:00+05:30",
          "2022-01-29T00:00:00+05:30",
          "2022-01-30T00:00:00+05:30",
          "2022-01-31T00:00:00+05:30",
          "2022-02-01T00:00:00+05:30",
          "2022-02-02T00:00:00+05:30",
          "2022-02-03T00:00:00+05:30",
          "2022-02-04T00:00:00+05:30",
          "2022-02-05T00:00:00+05:30",
          "2022-02-06T00:00:00+05:30",
          "2022-02-07T00:00:00+05:30",
          "2022-02-08T00:00:00+05:30",
          "2022-02-09T00:00:00+05:30",
          "2022-02-10T00:00:00+05:30",
          "2022-02-11T00:00:00+05:30",
          "2022-02-12T00:00:00+05:30",
          "2022-02-13T00:00:00+05:30",
          "2022-02-14T00:00:00+05:30",
          "2022-02-15T00:00:00+05:30",
          "2022-02-16T00:00:00+05:30",
          "2022-02-17T00:00:00+05:30",
          "2022-02-18T00:00:00+05:30",
          "2022-02-19T00:00:00+05:30",
          "2022-02-20T00:00:00+05:30",
          "2022-02-21T00:00:00+05:30",
          "2022-02-22T00:00:00+05:30",
          "2022-02-23T00:00:00+05:30",
          "2022-02-24T00:00:00+05:30",
          "2022-02-25T00:00:00+05:30",
          "2022-02-26T00:00:00+05:30",
          "2022-02-27T00:00:00+05:30",
          "2022-02-28T00:00:00+05:30",
          "2022-03-01T00:00:00+05:30",
          "2022-03-02T00:00:00+05:30",
          "2022-03-03T00:00:00+05:30",
          "2022-03-04T00:00:00+05:30",
          "2022-03-05T00:00:00+05:30",
          "2022-03-06T00:00:00+05:30",
          "2022-03-07T00:00:00+05:30",
          "2022-03-08T00:00:00+05:30",
          "2022-03-09T00:00:00+05:30",
          "2022-03-10T00:00:00+05:30",
          "2022-03-11T00:00:00+05:30",
          "2022-03-12T00:00:00+05:30",
          "2022-03-13T00:00:00+05:30",
          "2022-03-14T00:00:00+05:30",
          "2022-03-15T00:00:00+05:30",
          "2022-03-16T00:00:00+05:30",
          "2022-03-17T00:00:00+05:30",
          "2022-03-18T00:00:00+05:30",
          "2022-03-19T00:00:00+05:30",
          "2022-03-20T00:00:00+05:30",
          "2022-03-21T00:00:00+05:30",
          "2022-03-22T00:00:00+05:30",
          "2022-03-23T00:00:00+05:30",
          "2022-03-24T00:00:00+05:30",
          "2022-03-25T00:00:00+05:30",
          "2022-03-26T00:00:00+05:30",
          "2022-03-27T00:00:00+05:30",
          "2022-03-28T00:00:00+05:30",
          "2022-03-29T00:00:00+05:30",
          "2022-03-30T00:00:00+05:30",
          "2022-03-31T00:00:00+05:30",
          "2022-04-01T00:00:00+05:30",
          "2022-04-02T00:00:00+05:30",
          "2022-04-03T00:00:00+05:30",
          "2022-04-04T00:00:00+05:30",
          "2022-04-05T00:00:00+05:30",
          "2022-04-06T00:00:00+05:30",
          "2022-04-07T00:00:00+05:30",
          "2022-04-08T00:00:00+05:30",
          "2022-04-09T00:00:00+05:30",
          "2022-04-10T00:00:00+05:30",
          "2022-04-11T00:00:00+05:30",
          "2022-04-12T00:00:00+05:30",
          "2022-04-13T00:00:00+05:30",
          "2022-04-14T00:00:00+05:30",
          "2022-04-15T00:00:00+05:30",
          "2022-04-16T00:00:00+05:30",
          "2022-04-17T00:00:00+05:30",
          "2022-04-18T00:00:00+05:30",
          "2022-04-19T00:00:00+05:30",
          "2022-04-20T00:00:00+05:30",
          "2022-04-21T00:00:00+05:30",
          "2022-04-22T00:00:00+05:30",
          "2022-04-23T00:00:00+05:30",
          "2022-04-24T00:00:00+05:30",
          "2022-04-25T00:00:00+05:30",
          "2022-04-26T00:00:00+05:30",
          "2022-04-27T00:00:00+05:30",
          "2022-04-28T00:00:00+05:30",
          "2022-04-29T00:00:00+05:30",
          "2022-04-30T00:00:00+05:30",
          "2022-05-01T00:00:00+05:30",
          "2022-05-02T00:00:00+05:30",
          "2022-05-03T00:00:00+05:30",
          "2022-05-04T00:00:00+05:30",
          "2022-05-05T00:00:00+05:30",
          "2022-05-06T00:00:00+05:30",
          "2022-05-07T00:00:00+05:30",
          "2022-05-08T00:00:00+05:30",
          "2022-05-09T00:00:00+05:30",
          "2022-05-10T00:00:00+05:30",
          "2022-05-11T00:00:00+05:30",
          "2022-05-12T00:00:00+05:30",
          "2022-05-13T00:00:00+05:30",
          "2022-05-14T00:00:00+05:30",
          "2022-05-15T00:00:00+05:30",
          "2022-05-16T00:00:00+05:30",
          "2022-05-17T00:00:00+05:30",
          "2022-05-18T00:00:00+05:30",
          "2022-05-19T00:00:00+05:30",
          "2022-05-20T00:00:00+05:30",
          "2022-05-21T00:00:00+05:30",
          "2022-05-22T00:00:00+05:30",
          "2022-05-23T00:00:00+05:30",
          "2022-05-24T00:00:00+05:30",
          "2022-05-25T00:00:00+05:30",
          "2022-05-26T00:00:00+05:30",
          "2022-05-27T00:00:00+05:30",
          "2022-05-28T00:00:00+05:30",
          "2022-05-29T00:00:00+05:30",
          "2022-05-30T00:00:00+05:30",
          "2022-05-31T00:00:00+05:30",
          "2022-06-01T00:00:00+05:30",
          "2022-06-02T00:00:00+05:30",
          "2022-06-03T00:00:00+05:30",
          "2022-06-04T00:00:00+05:30"
         ],
         "xaxis": "x",
         "y": [
          64.6633309241903,
          66.59210522981728,
          74.77895717164029,
          89.39774546341539,
          92.23275609434958,
          85.58580183785503,
          82.4891549212574,
          88.5877457117157,
          88.13100925153171,
          64.834609849316,
          69.78791414999131,
          52.036991369393135,
          54.24537770147831,
          56.61715763625364,
          63.19219296067409,
          67.386991330343,
          74.91352685025807,
          73.053629732031,
          71.36859599448533,
          63.77971814379579,
          64.95024053347393,
          64.20993853465939,
          64.21032085125387,
          64.2107024212559,
          44.392304579060145,
          49.593159514569074,
          50.78114719730088,
          52.82919963946427,
          51.78324533815202,
          54.49034471584834,
          58.6344415796207,
          62.02104120808097,
          70.77234541030776,
          65.1187138623809,
          60.7760433280139,
          54.0776145577319,
          54.784341102054064,
          61.82282265550069,
          58.360450623053616,
          54.066534089135196,
          51.28625471356607,
          47.749918019332156,
          59.90642908136816,
          59.45555048870057,
          77.38523021850725,
          62.01207618422799,
          61.711607345827076,
          52.80383213270483,
          42.87406983044468,
          50.70027899006783,
          52.794047795761315,
          55.26918526101994,
          55.35917163449647,
          50.43258530597994,
          52.660980558235735,
          48.25338739317423,
          52.37504235006918,
          52.17387618065686,
          52.98914268243104,
          53.413110872490606,
          55.25653240202379,
          51.26860812907997,
          51.448757045537334,
          50.84463275294183,
          48.586754783727244,
          50.52856222699766,
          49.8220920234877,
          53.46261707905249,
          52.787998733987294,
          50.017515006286935,
          44.68900916172187,
          41.728034676180755,
          43.55895780375019,
          45.02414528431984,
          46.34484998875746,
          46.21224804490008,
          44.755791389396954,
          45.135809304883175,
          49.36923190358228,
          52.78868726503928,
          52.29928010410138,
          49.742280222284336,
          53.39035067613867,
          51.77830796822328,
          53.55253532751169,
          58.199885839777956,
          61.61878486520766,
          60.01270138884061,
          55.58260688959763,
          61.48235339828649,
          59.88293819729886,
          51.629029992877214,
          51.18471085840653,
          54.67692914795447,
          50.485570883277916,
          59.10063443434102,
          54.26742685417361,
          49.3881364223237,
          48.681714001978015,
          51.26988083956439,
          55.172954587286554,
          53.195939042228716,
          53.94528806805526,
          59.30514616172144,
          68.42020837330853,
          67.17671227721917,
          68.09011999929778,
          68.0906546105781,
          68.09118804829987,
          31.395935180045306,
          42.59736864975344,
          34.97955981855565,
          40.139259817844724,
          56.70172636681808,
          54.21375703563223,
          55.70000937195479,
          55.70015262736624,
          55.70029568745343,
          55.700438552615594,
          55.70058122325089,
          55.70072369975655,
          55.70086598252826,
          43.53251612554432,
          45.3749864589209,
          45.48532215564069,
          41.326545673243224,
          44.82175213923789,
          44.52450246886956,
          46.61594594255185,
          47.37124045946681,
          50.357405461801385,
          48.6017291249133,
          47.434128161368655,
          46.04073176798947,
          40.753177160378904,
          41.67646929452619,
          48.19729251291771,
          34.70211880971559,
          42.593172523803915,
          45.744963310686835,
          48.1429452468414,
          44.53080020294971,
          41.61351811322901,
          37.42902879040118,
          36.92807480620374,
          36.40649811724572,
          39.45832958503192,
          43.05130713023803,
          41.79239571807821,
          45.47901359493794,
          45.77194411486014,
          45.27700272576156,
          46.21802409323527,
          41.79086440453396,
          42.78201192335928,
          37.44703758264707,
          32.09223531813944,
          34.82584490634941,
          38.92687628587962,
          40.10938699385284,
          36.38162912564823,
          37.50165290666941,
          34.98709129803145,
          37.55734017550414,
          41.76472442551931,
          41.38585719640729,
          42.397962376584985,
          39.324486565318
         ],
         "yaxis": "y"
        }
       ],
       "layout": {
        "legend": {
         "title": {
          "text": "variable"
         },
         "tracegroupgap": 0
        },
        "margin": {
         "t": 60
        },
        "template": {
         "data": {
          "bar": [
           {
            "error_x": {
             "color": "#2a3f5f"
            },
            "error_y": {
             "color": "#2a3f5f"
            },
            "marker": {
             "line": {
              "color": "#E5ECF6",
              "width": 0.5
             },
             "pattern": {
              "fillmode": "overlay",
              "size": 10,
              "solidity": 0.2
             }
            },
            "type": "bar"
           }
          ],
          "barpolar": [
           {
            "marker": {
             "line": {
              "color": "#E5ECF6",
              "width": 0.5
             },
             "pattern": {
              "fillmode": "overlay",
              "size": 10,
              "solidity": 0.2
             }
            },
            "type": "barpolar"
           }
          ],
          "carpet": [
           {
            "aaxis": {
             "endlinecolor": "#2a3f5f",
             "gridcolor": "white",
             "linecolor": "white",
             "minorgridcolor": "white",
             "startlinecolor": "#2a3f5f"
            },
            "baxis": {
             "endlinecolor": "#2a3f5f",
             "gridcolor": "white",
             "linecolor": "white",
             "minorgridcolor": "white",
             "startlinecolor": "#2a3f5f"
            },
            "type": "carpet"
           }
          ],
          "choropleth": [
           {
            "colorbar": {
             "outlinewidth": 0,
             "ticks": ""
            },
            "type": "choropleth"
           }
          ],
          "contour": [
           {
            "colorbar": {
             "outlinewidth": 0,
             "ticks": ""
            },
            "colorscale": [
             [
              0,
              "#0d0887"
             ],
             [
              0.1111111111111111,
              "#46039f"
             ],
             [
              0.2222222222222222,
              "#7201a8"
             ],
             [
              0.3333333333333333,
              "#9c179e"
             ],
             [
              0.4444444444444444,
              "#bd3786"
             ],
             [
              0.5555555555555556,
              "#d8576b"
             ],
             [
              0.6666666666666666,
              "#ed7953"
             ],
             [
              0.7777777777777778,
              "#fb9f3a"
             ],
             [
              0.8888888888888888,
              "#fdca26"
             ],
             [
              1,
              "#f0f921"
             ]
            ],
            "type": "contour"
           }
          ],
          "contourcarpet": [
           {
            "colorbar": {
             "outlinewidth": 0,
             "ticks": ""
            },
            "type": "contourcarpet"
           }
          ],
          "heatmap": [
           {
            "colorbar": {
             "outlinewidth": 0,
             "ticks": ""
            },
            "colorscale": [
             [
              0,
              "#0d0887"
             ],
             [
              0.1111111111111111,
              "#46039f"
             ],
             [
              0.2222222222222222,
              "#7201a8"
             ],
             [
              0.3333333333333333,
              "#9c179e"
             ],
             [
              0.4444444444444444,
              "#bd3786"
             ],
             [
              0.5555555555555556,
              "#d8576b"
             ],
             [
              0.6666666666666666,
              "#ed7953"
             ],
             [
              0.7777777777777778,
              "#fb9f3a"
             ],
             [
              0.8888888888888888,
              "#fdca26"
             ],
             [
              1,
              "#f0f921"
             ]
            ],
            "type": "heatmap"
           }
          ],
          "heatmapgl": [
           {
            "colorbar": {
             "outlinewidth": 0,
             "ticks": ""
            },
            "colorscale": [
             [
              0,
              "#0d0887"
             ],
             [
              0.1111111111111111,
              "#46039f"
             ],
             [
              0.2222222222222222,
              "#7201a8"
             ],
             [
              0.3333333333333333,
              "#9c179e"
             ],
             [
              0.4444444444444444,
              "#bd3786"
             ],
             [
              0.5555555555555556,
              "#d8576b"
             ],
             [
              0.6666666666666666,
              "#ed7953"
             ],
             [
              0.7777777777777778,
              "#fb9f3a"
             ],
             [
              0.8888888888888888,
              "#fdca26"
             ],
             [
              1,
              "#f0f921"
             ]
            ],
            "type": "heatmapgl"
           }
          ],
          "histogram": [
           {
            "marker": {
             "pattern": {
              "fillmode": "overlay",
              "size": 10,
              "solidity": 0.2
             }
            },
            "type": "histogram"
           }
          ],
          "histogram2d": [
           {
            "colorbar": {
             "outlinewidth": 0,
             "ticks": ""
            },
            "colorscale": [
             [
              0,
              "#0d0887"
             ],
             [
              0.1111111111111111,
              "#46039f"
             ],
             [
              0.2222222222222222,
              "#7201a8"
             ],
             [
              0.3333333333333333,
              "#9c179e"
             ],
             [
              0.4444444444444444,
              "#bd3786"
             ],
             [
              0.5555555555555556,
              "#d8576b"
             ],
             [
              0.6666666666666666,
              "#ed7953"
             ],
             [
              0.7777777777777778,
              "#fb9f3a"
             ],
             [
              0.8888888888888888,
              "#fdca26"
             ],
             [
              1,
              "#f0f921"
             ]
            ],
            "type": "histogram2d"
           }
          ],
          "histogram2dcontour": [
           {
            "colorbar": {
             "outlinewidth": 0,
             "ticks": ""
            },
            "colorscale": [
             [
              0,
              "#0d0887"
             ],
             [
              0.1111111111111111,
              "#46039f"
             ],
             [
              0.2222222222222222,
              "#7201a8"
             ],
             [
              0.3333333333333333,
              "#9c179e"
             ],
             [
              0.4444444444444444,
              "#bd3786"
             ],
             [
              0.5555555555555556,
              "#d8576b"
             ],
             [
              0.6666666666666666,
              "#ed7953"
             ],
             [
              0.7777777777777778,
              "#fb9f3a"
             ],
             [
              0.8888888888888888,
              "#fdca26"
             ],
             [
              1,
              "#f0f921"
             ]
            ],
            "type": "histogram2dcontour"
           }
          ],
          "mesh3d": [
           {
            "colorbar": {
             "outlinewidth": 0,
             "ticks": ""
            },
            "type": "mesh3d"
           }
          ],
          "parcoords": [
           {
            "line": {
             "colorbar": {
              "outlinewidth": 0,
              "ticks": ""
             }
            },
            "type": "parcoords"
           }
          ],
          "pie": [
           {
            "automargin": true,
            "type": "pie"
           }
          ],
          "scatter": [
           {
            "fillpattern": {
             "fillmode": "overlay",
             "size": 10,
             "solidity": 0.2
            },
            "type": "scatter"
           }
          ],
          "scatter3d": [
           {
            "line": {
             "colorbar": {
              "outlinewidth": 0,
              "ticks": ""
             }
            },
            "marker": {
             "colorbar": {
              "outlinewidth": 0,
              "ticks": ""
             }
            },
            "type": "scatter3d"
           }
          ],
          "scattercarpet": [
           {
            "marker": {
             "colorbar": {
              "outlinewidth": 0,
              "ticks": ""
             }
            },
            "type": "scattercarpet"
           }
          ],
          "scattergeo": [
           {
            "marker": {
             "colorbar": {
              "outlinewidth": 0,
              "ticks": ""
             }
            },
            "type": "scattergeo"
           }
          ],
          "scattergl": [
           {
            "marker": {
             "colorbar": {
              "outlinewidth": 0,
              "ticks": ""
             }
            },
            "type": "scattergl"
           }
          ],
          "scattermapbox": [
           {
            "marker": {
             "colorbar": {
              "outlinewidth": 0,
              "ticks": ""
             }
            },
            "type": "scattermapbox"
           }
          ],
          "scatterpolar": [
           {
            "marker": {
             "colorbar": {
              "outlinewidth": 0,
              "ticks": ""
             }
            },
            "type": "scatterpolar"
           }
          ],
          "scatterpolargl": [
           {
            "marker": {
             "colorbar": {
              "outlinewidth": 0,
              "ticks": ""
             }
            },
            "type": "scatterpolargl"
           }
          ],
          "scatterternary": [
           {
            "marker": {
             "colorbar": {
              "outlinewidth": 0,
              "ticks": ""
             }
            },
            "type": "scatterternary"
           }
          ],
          "surface": [
           {
            "colorbar": {
             "outlinewidth": 0,
             "ticks": ""
            },
            "colorscale": [
             [
              0,
              "#0d0887"
             ],
             [
              0.1111111111111111,
              "#46039f"
             ],
             [
              0.2222222222222222,
              "#7201a8"
             ],
             [
              0.3333333333333333,
              "#9c179e"
             ],
             [
              0.4444444444444444,
              "#bd3786"
             ],
             [
              0.5555555555555556,
              "#d8576b"
             ],
             [
              0.6666666666666666,
              "#ed7953"
             ],
             [
              0.7777777777777778,
              "#fb9f3a"
             ],
             [
              0.8888888888888888,
              "#fdca26"
             ],
             [
              1,
              "#f0f921"
             ]
            ],
            "type": "surface"
           }
          ],
          "table": [
           {
            "cells": {
             "fill": {
              "color": "#EBF0F8"
             },
             "line": {
              "color": "white"
             }
            },
            "header": {
             "fill": {
              "color": "#C8D4E3"
             },
             "line": {
              "color": "white"
             }
            },
            "type": "table"
           }
          ]
         },
         "layout": {
          "annotationdefaults": {
           "arrowcolor": "#2a3f5f",
           "arrowhead": 0,
           "arrowwidth": 1
          },
          "autotypenumbers": "strict",
          "coloraxis": {
           "colorbar": {
            "outlinewidth": 0,
            "ticks": ""
           }
          },
          "colorscale": {
           "diverging": [
            [
             0,
             "#8e0152"
            ],
            [
             0.1,
             "#c51b7d"
            ],
            [
             0.2,
             "#de77ae"
            ],
            [
             0.3,
             "#f1b6da"
            ],
            [
             0.4,
             "#fde0ef"
            ],
            [
             0.5,
             "#f7f7f7"
            ],
            [
             0.6,
             "#e6f5d0"
            ],
            [
             0.7,
             "#b8e186"
            ],
            [
             0.8,
             "#7fbc41"
            ],
            [
             0.9,
             "#4d9221"
            ],
            [
             1,
             "#276419"
            ]
           ],
           "sequential": [
            [
             0,
             "#0d0887"
            ],
            [
             0.1111111111111111,
             "#46039f"
            ],
            [
             0.2222222222222222,
             "#7201a8"
            ],
            [
             0.3333333333333333,
             "#9c179e"
            ],
            [
             0.4444444444444444,
             "#bd3786"
            ],
            [
             0.5555555555555556,
             "#d8576b"
            ],
            [
             0.6666666666666666,
             "#ed7953"
            ],
            [
             0.7777777777777778,
             "#fb9f3a"
            ],
            [
             0.8888888888888888,
             "#fdca26"
            ],
            [
             1,
             "#f0f921"
            ]
           ],
           "sequentialminus": [
            [
             0,
             "#0d0887"
            ],
            [
             0.1111111111111111,
             "#46039f"
            ],
            [
             0.2222222222222222,
             "#7201a8"
            ],
            [
             0.3333333333333333,
             "#9c179e"
            ],
            [
             0.4444444444444444,
             "#bd3786"
            ],
            [
             0.5555555555555556,
             "#d8576b"
            ],
            [
             0.6666666666666666,
             "#ed7953"
            ],
            [
             0.7777777777777778,
             "#fb9f3a"
            ],
            [
             0.8888888888888888,
             "#fdca26"
            ],
            [
             1,
             "#f0f921"
            ]
           ]
          },
          "colorway": [
           "#636efa",
           "#EF553B",
           "#00cc96",
           "#ab63fa",
           "#FFA15A",
           "#19d3f3",
           "#FF6692",
           "#B6E880",
           "#FF97FF",
           "#FECB52"
          ],
          "font": {
           "color": "#2a3f5f"
          },
          "geo": {
           "bgcolor": "white",
           "lakecolor": "white",
           "landcolor": "#E5ECF6",
           "showlakes": true,
           "showland": true,
           "subunitcolor": "white"
          },
          "hoverlabel": {
           "align": "left"
          },
          "hovermode": "closest",
          "mapbox": {
           "style": "light"
          },
          "paper_bgcolor": "white",
          "plot_bgcolor": "#E5ECF6",
          "polar": {
           "angularaxis": {
            "gridcolor": "white",
            "linecolor": "white",
            "ticks": ""
           },
           "bgcolor": "#E5ECF6",
           "radialaxis": {
            "gridcolor": "white",
            "linecolor": "white",
            "ticks": ""
           }
          },
          "scene": {
           "xaxis": {
            "backgroundcolor": "#E5ECF6",
            "gridcolor": "white",
            "gridwidth": 2,
            "linecolor": "white",
            "showbackground": true,
            "ticks": "",
            "zerolinecolor": "white"
           },
           "yaxis": {
            "backgroundcolor": "#E5ECF6",
            "gridcolor": "white",
            "gridwidth": 2,
            "linecolor": "white",
            "showbackground": true,
            "ticks": "",
            "zerolinecolor": "white"
           },
           "zaxis": {
            "backgroundcolor": "#E5ECF6",
            "gridcolor": "white",
            "gridwidth": 2,
            "linecolor": "white",
            "showbackground": true,
            "ticks": "",
            "zerolinecolor": "white"
           }
          },
          "shapedefaults": {
           "line": {
            "color": "#2a3f5f"
           }
          },
          "ternary": {
           "aaxis": {
            "gridcolor": "white",
            "linecolor": "white",
            "ticks": ""
           },
           "baxis": {
            "gridcolor": "white",
            "linecolor": "white",
            "ticks": ""
           },
           "bgcolor": "#E5ECF6",
           "caxis": {
            "gridcolor": "white",
            "linecolor": "white",
            "ticks": ""
           }
          },
          "title": {
           "x": 0.05
          },
          "xaxis": {
           "automargin": true,
           "gridcolor": "white",
           "linecolor": "white",
           "ticks": "",
           "title": {
            "standoff": 15
           },
           "zerolinecolor": "white",
           "zerolinewidth": 2
          },
          "yaxis": {
           "automargin": true,
           "gridcolor": "white",
           "linecolor": "white",
           "ticks": "",
           "title": {
            "standoff": 15
           },
           "zerolinecolor": "white",
           "zerolinewidth": 2
          }
         }
        },
        "title": {
         "text": "India, WFV Predictions"
        },
        "xaxis": {
         "anchor": "y",
         "domain": [
          0,
          1
         ],
         "title": {
          "text": "Date"
         }
        },
        "yaxis": {
         "anchor": "x",
         "domain": [
          0,
          1
         ],
         "title": {
          "text": "PM2.5 Level"
         }
        }
       }
      },
      "text/html": [
       "<div>                            <div id=\"88f309d0-a6cc-42f6-8f13-1404651ed68a\" class=\"plotly-graph-div\" style=\"height:525px; width:100%;\"></div>            <script type=\"text/javascript\">                require([\"plotly\"], function(Plotly) {                    window.PLOTLYENV=window.PLOTLYENV || {};                                    if (document.getElementById(\"88f309d0-a6cc-42f6-8f13-1404651ed68a\")) {                    Plotly.newPlot(                        \"88f309d0-a6cc-42f6-8f13-1404651ed68a\",                        [{\"hovertemplate\":\"variable=y_test<br>index=%{x}<br>PM2.5=%{y}<extra></extra>\",\"legendgroup\":\"y_test\",\"line\":{\"color\":\"#636efa\",\"dash\":\"solid\"},\"marker\":{\"symbol\":\"circle\"},\"mode\":\"lines\",\"name\":\"y_test\",\"orientation\":\"v\",\"showlegend\":true,\"x\":[\"2021-12-19T00:00:00+05:30\",\"2021-12-20T00:00:00+05:30\",\"2021-12-21T00:00:00+05:30\",\"2021-12-22T00:00:00+05:30\",\"2021-12-23T00:00:00+05:30\",\"2021-12-24T00:00:00+05:30\",\"2021-12-25T00:00:00+05:30\",\"2021-12-26T00:00:00+05:30\",\"2021-12-27T00:00:00+05:30\",\"2021-12-28T00:00:00+05:30\",\"2021-12-29T00:00:00+05:30\",\"2021-12-30T00:00:00+05:30\",\"2021-12-31T00:00:00+05:30\",\"2022-01-01T00:00:00+05:30\",\"2022-01-02T00:00:00+05:30\",\"2022-01-03T00:00:00+05:30\",\"2022-01-04T00:00:00+05:30\",\"2022-01-05T00:00:00+05:30\",\"2022-01-06T00:00:00+05:30\",\"2022-01-07T00:00:00+05:30\",\"2022-01-08T00:00:00+05:30\",\"2022-01-09T00:00:00+05:30\",\"2022-01-10T00:00:00+05:30\",\"2022-01-11T00:00:00+05:30\",\"2022-01-12T00:00:00+05:30\",\"2022-01-13T00:00:00+05:30\",\"2022-01-14T00:00:00+05:30\",\"2022-01-15T00:00:00+05:30\",\"2022-01-16T00:00:00+05:30\",\"2022-01-17T00:00:00+05:30\",\"2022-01-18T00:00:00+05:30\",\"2022-01-19T00:00:00+05:30\",\"2022-01-20T00:00:00+05:30\",\"2022-01-21T00:00:00+05:30\",\"2022-01-22T00:00:00+05:30\",\"2022-01-23T00:00:00+05:30\",\"2022-01-24T00:00:00+05:30\",\"2022-01-25T00:00:00+05:30\",\"2022-01-26T00:00:00+05:30\",\"2022-01-27T00:00:00+05:30\",\"2022-01-28T00:00:00+05:30\",\"2022-01-29T00:00:00+05:30\",\"2022-01-30T00:00:00+05:30\",\"2022-01-31T00:00:00+05:30\",\"2022-02-01T00:00:00+05:30\",\"2022-02-02T00:00:00+05:30\",\"2022-02-03T00:00:00+05:30\",\"2022-02-04T00:00:00+05:30\",\"2022-02-05T00:00:00+05:30\",\"2022-02-06T00:00:00+05:30\",\"2022-02-07T00:00:00+05:30\",\"2022-02-08T00:00:00+05:30\",\"2022-02-09T00:00:00+05:30\",\"2022-02-10T00:00:00+05:30\",\"2022-02-11T00:00:00+05:30\",\"2022-02-12T00:00:00+05:30\",\"2022-02-13T00:00:00+05:30\",\"2022-02-14T00:00:00+05:30\",\"2022-02-15T00:00:00+05:30\",\"2022-02-16T00:00:00+05:30\",\"2022-02-17T00:00:00+05:30\",\"2022-02-18T00:00:00+05:30\",\"2022-02-19T00:00:00+05:30\",\"2022-02-20T00:00:00+05:30\",\"2022-02-21T00:00:00+05:30\",\"2022-02-22T00:00:00+05:30\",\"2022-02-23T00:00:00+05:30\",\"2022-02-24T00:00:00+05:30\",\"2022-02-25T00:00:00+05:30\",\"2022-02-26T00:00:00+05:30\",\"2022-02-27T00:00:00+05:30\",\"2022-02-28T00:00:00+05:30\",\"2022-03-01T00:00:00+05:30\",\"2022-03-02T00:00:00+05:30\",\"2022-03-03T00:00:00+05:30\",\"2022-03-04T00:00:00+05:30\",\"2022-03-05T00:00:00+05:30\",\"2022-03-06T00:00:00+05:30\",\"2022-03-07T00:00:00+05:30\",\"2022-03-08T00:00:00+05:30\",\"2022-03-09T00:00:00+05:30\",\"2022-03-10T00:00:00+05:30\",\"2022-03-11T00:00:00+05:30\",\"2022-03-12T00:00:00+05:30\",\"2022-03-13T00:00:00+05:30\",\"2022-03-14T00:00:00+05:30\",\"2022-03-15T00:00:00+05:30\",\"2022-03-16T00:00:00+05:30\",\"2022-03-17T00:00:00+05:30\",\"2022-03-18T00:00:00+05:30\",\"2022-03-19T00:00:00+05:30\",\"2022-03-20T00:00:00+05:30\",\"2022-03-21T00:00:00+05:30\",\"2022-03-22T00:00:00+05:30\",\"2022-03-23T00:00:00+05:30\",\"2022-03-24T00:00:00+05:30\",\"2022-03-25T00:00:00+05:30\",\"2022-03-26T00:00:00+05:30\",\"2022-03-27T00:00:00+05:30\",\"2022-03-28T00:00:00+05:30\",\"2022-03-29T00:00:00+05:30\",\"2022-03-30T00:00:00+05:30\",\"2022-03-31T00:00:00+05:30\",\"2022-04-01T00:00:00+05:30\",\"2022-04-02T00:00:00+05:30\",\"2022-04-03T00:00:00+05:30\",\"2022-04-04T00:00:00+05:30\",\"2022-04-05T00:00:00+05:30\",\"2022-04-06T00:00:00+05:30\",\"2022-04-07T00:00:00+05:30\",\"2022-04-08T00:00:00+05:30\",\"2022-04-09T00:00:00+05:30\",\"2022-04-10T00:00:00+05:30\",\"2022-04-11T00:00:00+05:30\",\"2022-04-12T00:00:00+05:30\",\"2022-04-13T00:00:00+05:30\",\"2022-04-14T00:00:00+05:30\",\"2022-04-15T00:00:00+05:30\",\"2022-04-16T00:00:00+05:30\",\"2022-04-17T00:00:00+05:30\",\"2022-04-18T00:00:00+05:30\",\"2022-04-19T00:00:00+05:30\",\"2022-04-20T00:00:00+05:30\",\"2022-04-21T00:00:00+05:30\",\"2022-04-22T00:00:00+05:30\",\"2022-04-23T00:00:00+05:30\",\"2022-04-24T00:00:00+05:30\",\"2022-04-25T00:00:00+05:30\",\"2022-04-26T00:00:00+05:30\",\"2022-04-27T00:00:00+05:30\",\"2022-04-28T00:00:00+05:30\",\"2022-04-29T00:00:00+05:30\",\"2022-04-30T00:00:00+05:30\",\"2022-05-01T00:00:00+05:30\",\"2022-05-02T00:00:00+05:30\",\"2022-05-03T00:00:00+05:30\",\"2022-05-04T00:00:00+05:30\",\"2022-05-05T00:00:00+05:30\",\"2022-05-06T00:00:00+05:30\",\"2022-05-07T00:00:00+05:30\",\"2022-05-08T00:00:00+05:30\",\"2022-05-09T00:00:00+05:30\",\"2022-05-10T00:00:00+05:30\",\"2022-05-11T00:00:00+05:30\",\"2022-05-12T00:00:00+05:30\",\"2022-05-13T00:00:00+05:30\",\"2022-05-14T00:00:00+05:30\",\"2022-05-15T00:00:00+05:30\",\"2022-05-16T00:00:00+05:30\",\"2022-05-17T00:00:00+05:30\",\"2022-05-18T00:00:00+05:30\",\"2022-05-19T00:00:00+05:30\",\"2022-05-20T00:00:00+05:30\",\"2022-05-21T00:00:00+05:30\",\"2022-05-22T00:00:00+05:30\",\"2022-05-23T00:00:00+05:30\",\"2022-05-24T00:00:00+05:30\",\"2022-05-25T00:00:00+05:30\",\"2022-05-26T00:00:00+05:30\",\"2022-05-27T00:00:00+05:30\",\"2022-05-28T00:00:00+05:30\",\"2022-05-29T00:00:00+05:30\",\"2022-05-30T00:00:00+05:30\",\"2022-05-31T00:00:00+05:30\",\"2022-06-01T00:00:00+05:30\",\"2022-06-02T00:00:00+05:30\",\"2022-06-03T00:00:00+05:30\",\"2022-06-04T00:00:00+05:30\"],\"xaxis\":\"x\",\"y\":[66.39041666666667,74.77499999999999,89.84125,94.37095238095237,87.52619047619048,82.92625,88.44652173913043,89.50541666666668,67.3875,67.75041666666667,53.47578947368421,53.00181818181818,56.486250000000005,63.3125,68.11708333333333,75.36041666666667,74.45333333333333,72.04083333333334,64.60111111111111,64.60111111111111,64.60111111111111,64.60111111111111,64.60111111111111,46.0525,47.64041666666666,50.75875,53.07958333333334,52.217083333333335,54.38583333333333,58.732499999999995,62.468333333333334,70.90916666666666,66.76181818181819,61.18142857142857,54.317619047619054,54.27772727272727,61.49142857142857,59.54416666666666,54.5,51.18,47.754999999999995,58.82909090909091,60.71958333333333,76.76541666666667,64.9725,61.21521739130435,53.28541666666666,42.969130434782606,49.24,53.19083333333333,55.62958333333333,55.78041666666667,50.965833333333336,52.219166666666666,48.72291666666666,51.887499999999996,52.54583333333333,53.143750000000004,53.58541666666667,55.339,51.85208333333333,51.27375,50.91583333333333,48.785,50.27875,50.056666666666665,53.307500000000005,53.24458333333333,50.34458333333333,44.85333333333333,41.39666666666667,43.00958333333333,44.965,46.395833333333336,46.34291666666667,44.84041666666667,44.94541666666667,49.07,52.973749999999995,52.81791666666666,50.04666666666666,53.009166666666665,52.24875,53.52166666666667,58.16791666666666,62.05625,60.805416666666666,56.09125,60.9275,60.67541666666667,52.455000000000005,50.643750000000004,54.34625,51.215833333333336,58.43625,55.40833333333333,49.65958333333333,48.282916666666665,50.99625,55.25416666666666,53.885,53.967083333333335,59.14083333333334,68.57666666666667,68.57666666666667,68.57666666666667,68.57666666666667,68.57666666666667,34.14454545454546,38.742666666666665,35.38933333333333,39.34875,55.91,55.91,55.91,55.91,55.91,55.91,55.91,55.91,55.91,44.409285714285716,44.29708333333334,45.35041666666667,41.597500000000004,44.21083333333333,44.66458333333333,46.49583333333334,47.465833333333336,50.291666666666664,49.00333333333333,47.45583333333334,45.99791666666667,40.89458333333334,41.07083333333333,47.690909090909095,35.960625,41.029583333333335,45.79666666666666,48.39541666666667,44.98,41.45333333333333,37.217083333333335,36.367916666666666,36.095416666666665,39.01625,42.90708333333333,42.086666666666666,45.12375,45.951249999999995,45.35874999999999,46.0875,42.05583333333333,42.29625,37.61416666666667,31.78333333333333,33.83958333333333,38.53791666666667,40.232083333333335,36.57666666666667,36.9125,34.89208333333333,36.977916666666665,41.46541666666666,41.645833333333336,42.25541666666667,39.42541666666667,38.50375],\"yaxis\":\"y\",\"type\":\"scatter\"},{\"hovertemplate\":\"variable=y_pred_wfv<br>index=%{x}<br>PM2.5=%{y}<extra></extra>\",\"legendgroup\":\"y_pred_wfv\",\"line\":{\"color\":\"#EF553B\",\"dash\":\"solid\"},\"marker\":{\"symbol\":\"circle\"},\"mode\":\"lines\",\"name\":\"y_pred_wfv\",\"orientation\":\"v\",\"showlegend\":true,\"x\":[\"2021-12-19T00:00:00+05:30\",\"2021-12-20T00:00:00+05:30\",\"2021-12-21T00:00:00+05:30\",\"2021-12-22T00:00:00+05:30\",\"2021-12-23T00:00:00+05:30\",\"2021-12-24T00:00:00+05:30\",\"2021-12-25T00:00:00+05:30\",\"2021-12-26T00:00:00+05:30\",\"2021-12-27T00:00:00+05:30\",\"2021-12-28T00:00:00+05:30\",\"2021-12-29T00:00:00+05:30\",\"2021-12-30T00:00:00+05:30\",\"2021-12-31T00:00:00+05:30\",\"2022-01-01T00:00:00+05:30\",\"2022-01-02T00:00:00+05:30\",\"2022-01-03T00:00:00+05:30\",\"2022-01-04T00:00:00+05:30\",\"2022-01-05T00:00:00+05:30\",\"2022-01-06T00:00:00+05:30\",\"2022-01-07T00:00:00+05:30\",\"2022-01-08T00:00:00+05:30\",\"2022-01-09T00:00:00+05:30\",\"2022-01-10T00:00:00+05:30\",\"2022-01-11T00:00:00+05:30\",\"2022-01-12T00:00:00+05:30\",\"2022-01-13T00:00:00+05:30\",\"2022-01-14T00:00:00+05:30\",\"2022-01-15T00:00:00+05:30\",\"2022-01-16T00:00:00+05:30\",\"2022-01-17T00:00:00+05:30\",\"2022-01-18T00:00:00+05:30\",\"2022-01-19T00:00:00+05:30\",\"2022-01-20T00:00:00+05:30\",\"2022-01-21T00:00:00+05:30\",\"2022-01-22T00:00:00+05:30\",\"2022-01-23T00:00:00+05:30\",\"2022-01-24T00:00:00+05:30\",\"2022-01-25T00:00:00+05:30\",\"2022-01-26T00:00:00+05:30\",\"2022-01-27T00:00:00+05:30\",\"2022-01-28T00:00:00+05:30\",\"2022-01-29T00:00:00+05:30\",\"2022-01-30T00:00:00+05:30\",\"2022-01-31T00:00:00+05:30\",\"2022-02-01T00:00:00+05:30\",\"2022-02-02T00:00:00+05:30\",\"2022-02-03T00:00:00+05:30\",\"2022-02-04T00:00:00+05:30\",\"2022-02-05T00:00:00+05:30\",\"2022-02-06T00:00:00+05:30\",\"2022-02-07T00:00:00+05:30\",\"2022-02-08T00:00:00+05:30\",\"2022-02-09T00:00:00+05:30\",\"2022-02-10T00:00:00+05:30\",\"2022-02-11T00:00:00+05:30\",\"2022-02-12T00:00:00+05:30\",\"2022-02-13T00:00:00+05:30\",\"2022-02-14T00:00:00+05:30\",\"2022-02-15T00:00:00+05:30\",\"2022-02-16T00:00:00+05:30\",\"2022-02-17T00:00:00+05:30\",\"2022-02-18T00:00:00+05:30\",\"2022-02-19T00:00:00+05:30\",\"2022-02-20T00:00:00+05:30\",\"2022-02-21T00:00:00+05:30\",\"2022-02-22T00:00:00+05:30\",\"2022-02-23T00:00:00+05:30\",\"2022-02-24T00:00:00+05:30\",\"2022-02-25T00:00:00+05:30\",\"2022-02-26T00:00:00+05:30\",\"2022-02-27T00:00:00+05:30\",\"2022-02-28T00:00:00+05:30\",\"2022-03-01T00:00:00+05:30\",\"2022-03-02T00:00:00+05:30\",\"2022-03-03T00:00:00+05:30\",\"2022-03-04T00:00:00+05:30\",\"2022-03-05T00:00:00+05:30\",\"2022-03-06T00:00:00+05:30\",\"2022-03-07T00:00:00+05:30\",\"2022-03-08T00:00:00+05:30\",\"2022-03-09T00:00:00+05:30\",\"2022-03-10T00:00:00+05:30\",\"2022-03-11T00:00:00+05:30\",\"2022-03-12T00:00:00+05:30\",\"2022-03-13T00:00:00+05:30\",\"2022-03-14T00:00:00+05:30\",\"2022-03-15T00:00:00+05:30\",\"2022-03-16T00:00:00+05:30\",\"2022-03-17T00:00:00+05:30\",\"2022-03-18T00:00:00+05:30\",\"2022-03-19T00:00:00+05:30\",\"2022-03-20T00:00:00+05:30\",\"2022-03-21T00:00:00+05:30\",\"2022-03-22T00:00:00+05:30\",\"2022-03-23T00:00:00+05:30\",\"2022-03-24T00:00:00+05:30\",\"2022-03-25T00:00:00+05:30\",\"2022-03-26T00:00:00+05:30\",\"2022-03-27T00:00:00+05:30\",\"2022-03-28T00:00:00+05:30\",\"2022-03-29T00:00:00+05:30\",\"2022-03-30T00:00:00+05:30\",\"2022-03-31T00:00:00+05:30\",\"2022-04-01T00:00:00+05:30\",\"2022-04-02T00:00:00+05:30\",\"2022-04-03T00:00:00+05:30\",\"2022-04-04T00:00:00+05:30\",\"2022-04-05T00:00:00+05:30\",\"2022-04-06T00:00:00+05:30\",\"2022-04-07T00:00:00+05:30\",\"2022-04-08T00:00:00+05:30\",\"2022-04-09T00:00:00+05:30\",\"2022-04-10T00:00:00+05:30\",\"2022-04-11T00:00:00+05:30\",\"2022-04-12T00:00:00+05:30\",\"2022-04-13T00:00:00+05:30\",\"2022-04-14T00:00:00+05:30\",\"2022-04-15T00:00:00+05:30\",\"2022-04-16T00:00:00+05:30\",\"2022-04-17T00:00:00+05:30\",\"2022-04-18T00:00:00+05:30\",\"2022-04-19T00:00:00+05:30\",\"2022-04-20T00:00:00+05:30\",\"2022-04-21T00:00:00+05:30\",\"2022-04-22T00:00:00+05:30\",\"2022-04-23T00:00:00+05:30\",\"2022-04-24T00:00:00+05:30\",\"2022-04-25T00:00:00+05:30\",\"2022-04-26T00:00:00+05:30\",\"2022-04-27T00:00:00+05:30\",\"2022-04-28T00:00:00+05:30\",\"2022-04-29T00:00:00+05:30\",\"2022-04-30T00:00:00+05:30\",\"2022-05-01T00:00:00+05:30\",\"2022-05-02T00:00:00+05:30\",\"2022-05-03T00:00:00+05:30\",\"2022-05-04T00:00:00+05:30\",\"2022-05-05T00:00:00+05:30\",\"2022-05-06T00:00:00+05:30\",\"2022-05-07T00:00:00+05:30\",\"2022-05-08T00:00:00+05:30\",\"2022-05-09T00:00:00+05:30\",\"2022-05-10T00:00:00+05:30\",\"2022-05-11T00:00:00+05:30\",\"2022-05-12T00:00:00+05:30\",\"2022-05-13T00:00:00+05:30\",\"2022-05-14T00:00:00+05:30\",\"2022-05-15T00:00:00+05:30\",\"2022-05-16T00:00:00+05:30\",\"2022-05-17T00:00:00+05:30\",\"2022-05-18T00:00:00+05:30\",\"2022-05-19T00:00:00+05:30\",\"2022-05-20T00:00:00+05:30\",\"2022-05-21T00:00:00+05:30\",\"2022-05-22T00:00:00+05:30\",\"2022-05-23T00:00:00+05:30\",\"2022-05-24T00:00:00+05:30\",\"2022-05-25T00:00:00+05:30\",\"2022-05-26T00:00:00+05:30\",\"2022-05-27T00:00:00+05:30\",\"2022-05-28T00:00:00+05:30\",\"2022-05-29T00:00:00+05:30\",\"2022-05-30T00:00:00+05:30\",\"2022-05-31T00:00:00+05:30\",\"2022-06-01T00:00:00+05:30\",\"2022-06-02T00:00:00+05:30\",\"2022-06-03T00:00:00+05:30\",\"2022-06-04T00:00:00+05:30\"],\"xaxis\":\"x\",\"y\":[64.6633309241903,66.59210522981728,74.77895717164029,89.39774546341539,92.23275609434958,85.58580183785503,82.4891549212574,88.5877457117157,88.13100925153171,64.834609849316,69.78791414999131,52.036991369393135,54.24537770147831,56.61715763625364,63.19219296067409,67.386991330343,74.91352685025807,73.053629732031,71.36859599448533,63.77971814379579,64.95024053347393,64.20993853465939,64.21032085125387,64.2107024212559,44.392304579060145,49.593159514569074,50.78114719730088,52.82919963946427,51.78324533815202,54.49034471584834,58.6344415796207,62.02104120808097,70.77234541030776,65.1187138623809,60.7760433280139,54.0776145577319,54.784341102054064,61.82282265550069,58.360450623053616,54.066534089135196,51.28625471356607,47.749918019332156,59.90642908136816,59.45555048870057,77.38523021850725,62.01207618422799,61.711607345827076,52.80383213270483,42.87406983044468,50.70027899006783,52.794047795761315,55.26918526101994,55.35917163449647,50.43258530597994,52.660980558235735,48.25338739317423,52.37504235006918,52.17387618065686,52.98914268243104,53.413110872490606,55.25653240202379,51.26860812907997,51.448757045537334,50.84463275294183,48.586754783727244,50.52856222699766,49.8220920234877,53.46261707905249,52.787998733987294,50.017515006286935,44.68900916172187,41.728034676180755,43.55895780375019,45.02414528431984,46.34484998875746,46.21224804490008,44.755791389396954,45.135809304883175,49.36923190358228,52.78868726503928,52.29928010410138,49.742280222284336,53.39035067613867,51.77830796822328,53.55253532751169,58.199885839777956,61.61878486520766,60.01270138884061,55.58260688959763,61.48235339828649,59.88293819729886,51.629029992877214,51.18471085840653,54.67692914795447,50.485570883277916,59.10063443434102,54.26742685417361,49.3881364223237,48.681714001978015,51.26988083956439,55.172954587286554,53.195939042228716,53.94528806805526,59.30514616172144,68.42020837330853,67.17671227721917,68.09011999929778,68.0906546105781,68.09118804829987,31.395935180045306,42.59736864975344,34.97955981855565,40.139259817844724,56.70172636681808,54.21375703563223,55.70000937195479,55.70015262736624,55.70029568745343,55.700438552615594,55.70058122325089,55.70072369975655,55.70086598252826,43.53251612554432,45.3749864589209,45.48532215564069,41.326545673243224,44.82175213923789,44.52450246886956,46.61594594255185,47.37124045946681,50.357405461801385,48.6017291249133,47.434128161368655,46.04073176798947,40.753177160378904,41.67646929452619,48.19729251291771,34.70211880971559,42.593172523803915,45.744963310686835,48.1429452468414,44.53080020294971,41.61351811322901,37.42902879040118,36.92807480620374,36.40649811724572,39.45832958503192,43.05130713023803,41.79239571807821,45.47901359493794,45.77194411486014,45.27700272576156,46.21802409323527,41.79086440453396,42.78201192335928,37.44703758264707,32.09223531813944,34.82584490634941,38.92687628587962,40.10938699385284,36.38162912564823,37.50165290666941,34.98709129803145,37.55734017550414,41.76472442551931,41.38585719640729,42.397962376584985,39.324486565318],\"yaxis\":\"y\",\"type\":\"scatter\"}],                        {\"template\":{\"data\":{\"histogram2dcontour\":[{\"type\":\"histogram2dcontour\",\"colorbar\":{\"outlinewidth\":0,\"ticks\":\"\"},\"colorscale\":[[0.0,\"#0d0887\"],[0.1111111111111111,\"#46039f\"],[0.2222222222222222,\"#7201a8\"],[0.3333333333333333,\"#9c179e\"],[0.4444444444444444,\"#bd3786\"],[0.5555555555555556,\"#d8576b\"],[0.6666666666666666,\"#ed7953\"],[0.7777777777777778,\"#fb9f3a\"],[0.8888888888888888,\"#fdca26\"],[1.0,\"#f0f921\"]]}],\"choropleth\":[{\"type\":\"choropleth\",\"colorbar\":{\"outlinewidth\":0,\"ticks\":\"\"}}],\"histogram2d\":[{\"type\":\"histogram2d\",\"colorbar\":{\"outlinewidth\":0,\"ticks\":\"\"},\"colorscale\":[[0.0,\"#0d0887\"],[0.1111111111111111,\"#46039f\"],[0.2222222222222222,\"#7201a8\"],[0.3333333333333333,\"#9c179e\"],[0.4444444444444444,\"#bd3786\"],[0.5555555555555556,\"#d8576b\"],[0.6666666666666666,\"#ed7953\"],[0.7777777777777778,\"#fb9f3a\"],[0.8888888888888888,\"#fdca26\"],[1.0,\"#f0f921\"]]}],\"heatmap\":[{\"type\":\"heatmap\",\"colorbar\":{\"outlinewidth\":0,\"ticks\":\"\"},\"colorscale\":[[0.0,\"#0d0887\"],[0.1111111111111111,\"#46039f\"],[0.2222222222222222,\"#7201a8\"],[0.3333333333333333,\"#9c179e\"],[0.4444444444444444,\"#bd3786\"],[0.5555555555555556,\"#d8576b\"],[0.6666666666666666,\"#ed7953\"],[0.7777777777777778,\"#fb9f3a\"],[0.8888888888888888,\"#fdca26\"],[1.0,\"#f0f921\"]]}],\"heatmapgl\":[{\"type\":\"heatmapgl\",\"colorbar\":{\"outlinewidth\":0,\"ticks\":\"\"},\"colorscale\":[[0.0,\"#0d0887\"],[0.1111111111111111,\"#46039f\"],[0.2222222222222222,\"#7201a8\"],[0.3333333333333333,\"#9c179e\"],[0.4444444444444444,\"#bd3786\"],[0.5555555555555556,\"#d8576b\"],[0.6666666666666666,\"#ed7953\"],[0.7777777777777778,\"#fb9f3a\"],[0.8888888888888888,\"#fdca26\"],[1.0,\"#f0f921\"]]}],\"contourcarpet\":[{\"type\":\"contourcarpet\",\"colorbar\":{\"outlinewidth\":0,\"ticks\":\"\"}}],\"contour\":[{\"type\":\"contour\",\"colorbar\":{\"outlinewidth\":0,\"ticks\":\"\"},\"colorscale\":[[0.0,\"#0d0887\"],[0.1111111111111111,\"#46039f\"],[0.2222222222222222,\"#7201a8\"],[0.3333333333333333,\"#9c179e\"],[0.4444444444444444,\"#bd3786\"],[0.5555555555555556,\"#d8576b\"],[0.6666666666666666,\"#ed7953\"],[0.7777777777777778,\"#fb9f3a\"],[0.8888888888888888,\"#fdca26\"],[1.0,\"#f0f921\"]]}],\"surface\":[{\"type\":\"surface\",\"colorbar\":{\"outlinewidth\":0,\"ticks\":\"\"},\"colorscale\":[[0.0,\"#0d0887\"],[0.1111111111111111,\"#46039f\"],[0.2222222222222222,\"#7201a8\"],[0.3333333333333333,\"#9c179e\"],[0.4444444444444444,\"#bd3786\"],[0.5555555555555556,\"#d8576b\"],[0.6666666666666666,\"#ed7953\"],[0.7777777777777778,\"#fb9f3a\"],[0.8888888888888888,\"#fdca26\"],[1.0,\"#f0f921\"]]}],\"mesh3d\":[{\"type\":\"mesh3d\",\"colorbar\":{\"outlinewidth\":0,\"ticks\":\"\"}}],\"scatter\":[{\"fillpattern\":{\"fillmode\":\"overlay\",\"size\":10,\"solidity\":0.2},\"type\":\"scatter\"}],\"parcoords\":[{\"type\":\"parcoords\",\"line\":{\"colorbar\":{\"outlinewidth\":0,\"ticks\":\"\"}}}],\"scatterpolargl\":[{\"type\":\"scatterpolargl\",\"marker\":{\"colorbar\":{\"outlinewidth\":0,\"ticks\":\"\"}}}],\"bar\":[{\"error_x\":{\"color\":\"#2a3f5f\"},\"error_y\":{\"color\":\"#2a3f5f\"},\"marker\":{\"line\":{\"color\":\"#E5ECF6\",\"width\":0.5},\"pattern\":{\"fillmode\":\"overlay\",\"size\":10,\"solidity\":0.2}},\"type\":\"bar\"}],\"scattergeo\":[{\"type\":\"scattergeo\",\"marker\":{\"colorbar\":{\"outlinewidth\":0,\"ticks\":\"\"}}}],\"scatterpolar\":[{\"type\":\"scatterpolar\",\"marker\":{\"colorbar\":{\"outlinewidth\":0,\"ticks\":\"\"}}}],\"histogram\":[{\"marker\":{\"pattern\":{\"fillmode\":\"overlay\",\"size\":10,\"solidity\":0.2}},\"type\":\"histogram\"}],\"scattergl\":[{\"type\":\"scattergl\",\"marker\":{\"colorbar\":{\"outlinewidth\":0,\"ticks\":\"\"}}}],\"scatter3d\":[{\"type\":\"scatter3d\",\"line\":{\"colorbar\":{\"outlinewidth\":0,\"ticks\":\"\"}},\"marker\":{\"colorbar\":{\"outlinewidth\":0,\"ticks\":\"\"}}}],\"scattermapbox\":[{\"type\":\"scattermapbox\",\"marker\":{\"colorbar\":{\"outlinewidth\":0,\"ticks\":\"\"}}}],\"scatterternary\":[{\"type\":\"scatterternary\",\"marker\":{\"colorbar\":{\"outlinewidth\":0,\"ticks\":\"\"}}}],\"scattercarpet\":[{\"type\":\"scattercarpet\",\"marker\":{\"colorbar\":{\"outlinewidth\":0,\"ticks\":\"\"}}}],\"carpet\":[{\"aaxis\":{\"endlinecolor\":\"#2a3f5f\",\"gridcolor\":\"white\",\"linecolor\":\"white\",\"minorgridcolor\":\"white\",\"startlinecolor\":\"#2a3f5f\"},\"baxis\":{\"endlinecolor\":\"#2a3f5f\",\"gridcolor\":\"white\",\"linecolor\":\"white\",\"minorgridcolor\":\"white\",\"startlinecolor\":\"#2a3f5f\"},\"type\":\"carpet\"}],\"table\":[{\"cells\":{\"fill\":{\"color\":\"#EBF0F8\"},\"line\":{\"color\":\"white\"}},\"header\":{\"fill\":{\"color\":\"#C8D4E3\"},\"line\":{\"color\":\"white\"}},\"type\":\"table\"}],\"barpolar\":[{\"marker\":{\"line\":{\"color\":\"#E5ECF6\",\"width\":0.5},\"pattern\":{\"fillmode\":\"overlay\",\"size\":10,\"solidity\":0.2}},\"type\":\"barpolar\"}],\"pie\":[{\"automargin\":true,\"type\":\"pie\"}]},\"layout\":{\"autotypenumbers\":\"strict\",\"colorway\":[\"#636efa\",\"#EF553B\",\"#00cc96\",\"#ab63fa\",\"#FFA15A\",\"#19d3f3\",\"#FF6692\",\"#B6E880\",\"#FF97FF\",\"#FECB52\"],\"font\":{\"color\":\"#2a3f5f\"},\"hovermode\":\"closest\",\"hoverlabel\":{\"align\":\"left\"},\"paper_bgcolor\":\"white\",\"plot_bgcolor\":\"#E5ECF6\",\"polar\":{\"bgcolor\":\"#E5ECF6\",\"angularaxis\":{\"gridcolor\":\"white\",\"linecolor\":\"white\",\"ticks\":\"\"},\"radialaxis\":{\"gridcolor\":\"white\",\"linecolor\":\"white\",\"ticks\":\"\"}},\"ternary\":{\"bgcolor\":\"#E5ECF6\",\"aaxis\":{\"gridcolor\":\"white\",\"linecolor\":\"white\",\"ticks\":\"\"},\"baxis\":{\"gridcolor\":\"white\",\"linecolor\":\"white\",\"ticks\":\"\"},\"caxis\":{\"gridcolor\":\"white\",\"linecolor\":\"white\",\"ticks\":\"\"}},\"coloraxis\":{\"colorbar\":{\"outlinewidth\":0,\"ticks\":\"\"}},\"colorscale\":{\"sequential\":[[0.0,\"#0d0887\"],[0.1111111111111111,\"#46039f\"],[0.2222222222222222,\"#7201a8\"],[0.3333333333333333,\"#9c179e\"],[0.4444444444444444,\"#bd3786\"],[0.5555555555555556,\"#d8576b\"],[0.6666666666666666,\"#ed7953\"],[0.7777777777777778,\"#fb9f3a\"],[0.8888888888888888,\"#fdca26\"],[1.0,\"#f0f921\"]],\"sequentialminus\":[[0.0,\"#0d0887\"],[0.1111111111111111,\"#46039f\"],[0.2222222222222222,\"#7201a8\"],[0.3333333333333333,\"#9c179e\"],[0.4444444444444444,\"#bd3786\"],[0.5555555555555556,\"#d8576b\"],[0.6666666666666666,\"#ed7953\"],[0.7777777777777778,\"#fb9f3a\"],[0.8888888888888888,\"#fdca26\"],[1.0,\"#f0f921\"]],\"diverging\":[[0,\"#8e0152\"],[0.1,\"#c51b7d\"],[0.2,\"#de77ae\"],[0.3,\"#f1b6da\"],[0.4,\"#fde0ef\"],[0.5,\"#f7f7f7\"],[0.6,\"#e6f5d0\"],[0.7,\"#b8e186\"],[0.8,\"#7fbc41\"],[0.9,\"#4d9221\"],[1,\"#276419\"]]},\"xaxis\":{\"gridcolor\":\"white\",\"linecolor\":\"white\",\"ticks\":\"\",\"title\":{\"standoff\":15},\"zerolinecolor\":\"white\",\"automargin\":true,\"zerolinewidth\":2},\"yaxis\":{\"gridcolor\":\"white\",\"linecolor\":\"white\",\"ticks\":\"\",\"title\":{\"standoff\":15},\"zerolinecolor\":\"white\",\"automargin\":true,\"zerolinewidth\":2},\"scene\":{\"xaxis\":{\"backgroundcolor\":\"#E5ECF6\",\"gridcolor\":\"white\",\"linecolor\":\"white\",\"showbackground\":true,\"ticks\":\"\",\"zerolinecolor\":\"white\",\"gridwidth\":2},\"yaxis\":{\"backgroundcolor\":\"#E5ECF6\",\"gridcolor\":\"white\",\"linecolor\":\"white\",\"showbackground\":true,\"ticks\":\"\",\"zerolinecolor\":\"white\",\"gridwidth\":2},\"zaxis\":{\"backgroundcolor\":\"#E5ECF6\",\"gridcolor\":\"white\",\"linecolor\":\"white\",\"showbackground\":true,\"ticks\":\"\",\"zerolinecolor\":\"white\",\"gridwidth\":2}},\"shapedefaults\":{\"line\":{\"color\":\"#2a3f5f\"}},\"annotationdefaults\":{\"arrowcolor\":\"#2a3f5f\",\"arrowhead\":0,\"arrowwidth\":1},\"geo\":{\"bgcolor\":\"white\",\"landcolor\":\"#E5ECF6\",\"subunitcolor\":\"white\",\"showland\":true,\"showlakes\":true,\"lakecolor\":\"white\"},\"title\":{\"x\":0.05},\"mapbox\":{\"style\":\"light\"}}},\"xaxis\":{\"anchor\":\"y\",\"domain\":[0.0,1.0],\"title\":{\"text\":\"Date\"}},\"yaxis\":{\"anchor\":\"x\",\"domain\":[0.0,1.0],\"title\":{\"text\":\"PM2.5 Level\"}},\"legend\":{\"title\":{\"text\":\"variable\"},\"tracegroupgap\":0},\"margin\":{\"t\":60},\"title\":{\"text\":\"India, WFV Predictions\"}},                        {\"responsive\": true}                    ).then(function(){\n",
       "                            \n",
       "var gd = document.getElementById('88f309d0-a6cc-42f6-8f13-1404651ed68a');\n",
       "var x = new MutationObserver(function (mutations, observer) {{\n",
       "        var display = window.getComputedStyle(gd).display;\n",
       "        if (!display || display === 'none') {{\n",
       "            console.log([gd, 'removed!']);\n",
       "            Plotly.purge(gd);\n",
       "            observer.disconnect();\n",
       "        }}\n",
       "}});\n",
       "\n",
       "// Listen for the removal of the full notebook cells\n",
       "var notebookContainer = gd.closest('#notebook-container');\n",
       "if (notebookContainer) {{\n",
       "    x.observe(notebookContainer, {childList: true});\n",
       "}}\n",
       "\n",
       "// Listen for the clearing of the current output cell\n",
       "var outputEl = gd.closest('.output');\n",
       "if (outputEl) {{\n",
       "    x.observe(outputEl, {childList: true});\n",
       "}}\n",
       "\n",
       "                        })                };                });            </script>        </div>"
      ]
     },
     "metadata": {},
     "output_type": "display_data"
    }
   ],
   "source": [
    "df_pred_test = pd.DataFrame(\n",
    "    {'y_test': y_test, 'y_pred_wfv': y_pred_wfv})\n",
    "fig = px.line(df_pred_test, labels={'value':'PM2.5'})\n",
    "fig.update_layout(\n",
    "    title=\"India, WFV Predictions\",\n",
    "    xaxis_title=\"Date\",\n",
    "    yaxis_title=\"PM2.5 Level\",\n",
    ")\n",
    "\n",
    "fig.show()"
   ]
  },
  {
   "cell_type": "code",
   "execution_count": null,
   "id": "222de1f2",
   "metadata": {},
   "outputs": [],
   "source": []
  },
  {
   "cell_type": "code",
   "execution_count": null,
   "id": "7ea032d5",
   "metadata": {},
   "outputs": [],
   "source": []
  },
  {
   "cell_type": "code",
   "execution_count": null,
   "id": "167e7202",
   "metadata": {},
   "outputs": [],
   "source": []
  },
  {
   "cell_type": "code",
   "execution_count": null,
   "id": "dab44ad0",
   "metadata": {},
   "outputs": [],
   "source": []
  },
  {
   "cell_type": "code",
   "execution_count": null,
   "id": "2128e21b",
   "metadata": {},
   "outputs": [],
   "source": []
  },
  {
   "cell_type": "markdown",
   "id": "c254620c",
   "metadata": {},
   "source": [
    "## LET TRY OUT SOME LINEAR REGRESSION"
   ]
  },
  {
   "cell_type": "markdown",
   "id": "f593f984",
   "metadata": {},
   "source": [
    "#### USING SAME DATA, WE THEN SHIFT THE MAIN DATAPOINT TO AN HOUR LESS TO CHECK IF WE CAN MAKE PREDICTION WITH IT"
   ]
  },
  {
   "cell_type": "code",
   "execution_count": 86,
   "id": "921ae066",
   "metadata": {},
   "outputs": [
    {
     "data": {
      "text/html": [
       "<div>\n",
       "<style scoped>\n",
       "    .dataframe tbody tr th:only-of-type {\n",
       "        vertical-align: middle;\n",
       "    }\n",
       "\n",
       "    .dataframe tbody tr th {\n",
       "        vertical-align: top;\n",
       "    }\n",
       "\n",
       "    .dataframe thead th {\n",
       "        text-align: right;\n",
       "    }\n",
       "</style>\n",
       "<table border=\"1\" class=\"dataframe\">\n",
       "  <thead>\n",
       "    <tr style=\"text-align: right;\">\n",
       "      <th></th>\n",
       "      <th>PM2.5</th>\n",
       "      <th>P2.L1</th>\n",
       "    </tr>\n",
       "    <tr>\n",
       "      <th>Timestamp</th>\n",
       "      <th></th>\n",
       "      <th></th>\n",
       "    </tr>\n",
       "  </thead>\n",
       "  <tbody>\n",
       "    <tr>\n",
       "      <th>2017-11-07 00:00:00+05:30</th>\n",
       "      <td>99.805833</td>\n",
       "      <td>NaN</td>\n",
       "    </tr>\n",
       "    <tr>\n",
       "      <th>2017-11-08 00:00:00+05:30</th>\n",
       "      <td>104.547368</td>\n",
       "      <td>99.805833</td>\n",
       "    </tr>\n",
       "    <tr>\n",
       "      <th>2017-11-09 00:00:00+05:30</th>\n",
       "      <td>110.092000</td>\n",
       "      <td>104.547368</td>\n",
       "    </tr>\n",
       "    <tr>\n",
       "      <th>2017-11-10 00:00:00+05:30</th>\n",
       "      <td>111.308750</td>\n",
       "      <td>110.092000</td>\n",
       "    </tr>\n",
       "    <tr>\n",
       "      <th>2017-11-11 00:00:00+05:30</th>\n",
       "      <td>105.375789</td>\n",
       "      <td>111.308750</td>\n",
       "    </tr>\n",
       "  </tbody>\n",
       "</table>\n",
       "</div>"
      ],
      "text/plain": [
       "                                PM2.5       P2.L1\n",
       "Timestamp                                        \n",
       "2017-11-07 00:00:00+05:30   99.805833         NaN\n",
       "2017-11-08 00:00:00+05:30  104.547368   99.805833\n",
       "2017-11-09 00:00:00+05:30  110.092000  104.547368\n",
       "2017-11-10 00:00:00+05:30  111.308750  110.092000\n",
       "2017-11-11 00:00:00+05:30  105.375789  111.308750"
      ]
     },
     "execution_count": 86,
     "metadata": {},
     "output_type": "execute_result"
    }
   ],
   "source": [
    "df['P2.L1'] = df.shift(1)\n",
    "df.head()"
   ]
  },
  {
   "cell_type": "code",
   "execution_count": 74,
   "id": "cf7489de",
   "metadata": {},
   "outputs": [],
   "source": []
  },
  {
   "cell_type": "code",
   "execution_count": 76,
   "id": "9643b2c6",
   "metadata": {
    "scrolled": true
   },
   "outputs": [
    {
     "data": {
      "text/html": [
       "<div>\n",
       "<style scoped>\n",
       "    .dataframe tbody tr th:only-of-type {\n",
       "        vertical-align: middle;\n",
       "    }\n",
       "\n",
       "    .dataframe tbody tr th {\n",
       "        vertical-align: top;\n",
       "    }\n",
       "\n",
       "    .dataframe thead th {\n",
       "        text-align: right;\n",
       "    }\n",
       "</style>\n",
       "<table border=\"1\" class=\"dataframe\">\n",
       "  <thead>\n",
       "    <tr style=\"text-align: right;\">\n",
       "      <th></th>\n",
       "      <th>PM2.5</th>\n",
       "      <th>P2.L1</th>\n",
       "    </tr>\n",
       "    <tr>\n",
       "      <th>Timestamp</th>\n",
       "      <th></th>\n",
       "      <th></th>\n",
       "    </tr>\n",
       "  </thead>\n",
       "  <tbody>\n",
       "    <tr>\n",
       "      <th>2017-11-08 00:00:00+05:30</th>\n",
       "      <td>104.547368</td>\n",
       "      <td>99.805833</td>\n",
       "    </tr>\n",
       "    <tr>\n",
       "      <th>2017-11-09 00:00:00+05:30</th>\n",
       "      <td>110.092</td>\n",
       "      <td>104.547368</td>\n",
       "    </tr>\n",
       "    <tr>\n",
       "      <th>2017-11-10 00:00:00+05:30</th>\n",
       "      <td>111.30875</td>\n",
       "      <td>110.092</td>\n",
       "    </tr>\n",
       "    <tr>\n",
       "      <th>2017-11-11 00:00:00+05:30</th>\n",
       "      <td>105.375789</td>\n",
       "      <td>111.30875</td>\n",
       "    </tr>\n",
       "    <tr>\n",
       "      <th>2017-11-12 00:00:00+05:30</th>\n",
       "      <td>110.725714</td>\n",
       "      <td>105.375789</td>\n",
       "    </tr>\n",
       "  </tbody>\n",
       "</table>\n",
       "</div>"
      ],
      "text/plain": [
       "                                PM2.5       P2.L1\n",
       "Timestamp                                        \n",
       "2017-11-08 00:00:00+05:30  104.547368   99.805833\n",
       "2017-11-09 00:00:00+05:30     110.092  104.547368\n",
       "2017-11-10 00:00:00+05:30   111.30875     110.092\n",
       "2017-11-11 00:00:00+05:30  105.375789   111.30875\n",
       "2017-11-12 00:00:00+05:30  110.725714  105.375789"
      ]
     },
     "execution_count": 76,
     "metadata": {},
     "output_type": "execute_result"
    }
   ],
   "source": [
    "df.head()"
   ]
  },
  {
   "cell_type": "markdown",
   "id": "37848c7e",
   "metadata": {},
   "source": [
    "### THOUGH THE CORRELATION IS SO HIGH, BUT WE MOVEEEE"
   ]
  },
  {
   "cell_type": "code",
   "execution_count": 87,
   "id": "90966d7d",
   "metadata": {},
   "outputs": [
    {
     "data": {
      "text/html": [
       "<div>\n",
       "<style scoped>\n",
       "    .dataframe tbody tr th:only-of-type {\n",
       "        vertical-align: middle;\n",
       "    }\n",
       "\n",
       "    .dataframe tbody tr th {\n",
       "        vertical-align: top;\n",
       "    }\n",
       "\n",
       "    .dataframe thead th {\n",
       "        text-align: right;\n",
       "    }\n",
       "</style>\n",
       "<table border=\"1\" class=\"dataframe\">\n",
       "  <thead>\n",
       "    <tr style=\"text-align: right;\">\n",
       "      <th></th>\n",
       "      <th>PM2.5</th>\n",
       "      <th>P2.L1</th>\n",
       "    </tr>\n",
       "  </thead>\n",
       "  <tbody>\n",
       "    <tr>\n",
       "      <th>PM2.5</th>\n",
       "      <td>1.000000</td>\n",
       "      <td>0.977407</td>\n",
       "    </tr>\n",
       "    <tr>\n",
       "      <th>P2.L1</th>\n",
       "      <td>0.977407</td>\n",
       "      <td>1.000000</td>\n",
       "    </tr>\n",
       "  </tbody>\n",
       "</table>\n",
       "</div>"
      ],
      "text/plain": [
       "          PM2.5     P2.L1\n",
       "PM2.5  1.000000  0.977407\n",
       "P2.L1  0.977407  1.000000"
      ]
     },
     "execution_count": 87,
     "metadata": {},
     "output_type": "execute_result"
    }
   ],
   "source": [
    "df.corr()"
   ]
  },
  {
   "cell_type": "code",
   "execution_count": 88,
   "id": "27b49ec1",
   "metadata": {
    "scrolled": true
   },
   "outputs": [
    {
     "data": {
      "text/plain": [
       "PM2.5    1671\n",
       "P2.L1    1670\n",
       "dtype: int64"
      ]
     },
     "execution_count": 88,
     "metadata": {},
     "output_type": "execute_result"
    }
   ],
   "source": [
    "df.count()"
   ]
  },
  {
   "cell_type": "markdown",
   "id": "f1ee63a2",
   "metadata": {},
   "source": [
    "### THIS MAKES US SO CONFIDENT OF OUR LINEAR ASSUMPTION"
   ]
  },
  {
   "cell_type": "code",
   "execution_count": 89,
   "id": "98b5a1fa",
   "metadata": {},
   "outputs": [
    {
     "data": {
      "text/plain": [
       "[<matplotlib.lines.Line2D at 0x1a08a4a8fa0>]"
      ]
     },
     "execution_count": 89,
     "metadata": {},
     "output_type": "execute_result"
    },
    {
     "data": {
      "image/png": "[encoded data removed]",
      "text/plain": [
       "<Figure size 600x600 with 1 Axes>"
      ]
     },
     "metadata": {},
     "output_type": "display_data"
    }
   ],
   "source": [
    "fig, ax = plt.subplots(figsize=(6, 6))\n",
    "ax.scatter(x=df['P2.L1'], y=df['PM2.5'])\n",
    "ax.plot([0,120], [0,120], linestyle='--', color='orange')"
   ]
  },
  {
   "cell_type": "code",
   "execution_count": 90,
   "id": "55c65506",
   "metadata": {},
   "outputs": [],
   "source": [
    "from statsmodels.formula.api import ols\n",
    "import statsmodels.api as sm"
   ]
  },
  {
   "cell_type": "code",
   "execution_count": 91,
   "id": "2270f400",
   "metadata": {},
   "outputs": [
    {
     "data": {
      "text/plain": [
       "PM2.5    0\n",
       "P2.L1    1\n",
       "dtype: int64"
      ]
     },
     "execution_count": 91,
     "metadata": {},
     "output_type": "execute_result"
    }
   ],
   "source": [
    "df.isna().sum()"
   ]
  },
  {
   "cell_type": "code",
   "execution_count": 133,
   "id": "fb15a9f6",
   "metadata": {},
   "outputs": [],
   "source": [
    "df = df.dropna()"
   ]
  },
  {
   "cell_type": "code",
   "execution_count": 93,
   "id": "76017650",
   "metadata": {},
   "outputs": [
    {
     "data": {
      "text/plain": [
       "<seaborn.axisgrid.PairGrid at 0x1a081fd4340>"
      ]
     },
     "execution_count": 93,
     "metadata": {},
     "output_type": "execute_result"
    },
    {
     "data": {
      "image/png": "[encoded data removed]",
      "text/plain": [
       "<Figure size 500x500 with 6 Axes>"
      ]
     },
     "metadata": {},
     "output_type": "display_data"
    }
   ],
   "source": [
    "sns.pairplot(df)"
   ]
  },
  {
   "cell_type": "code",
   "execution_count": 96,
   "id": "fb93a322",
   "metadata": {},
   "outputs": [
    {
     "data": {
      "text/html": [
       "<div>\n",
       "<style scoped>\n",
       "    .dataframe tbody tr th:only-of-type {\n",
       "        vertical-align: middle;\n",
       "    }\n",
       "\n",
       "    .dataframe tbody tr th {\n",
       "        vertical-align: top;\n",
       "    }\n",
       "\n",
       "    .dataframe thead th {\n",
       "        text-align: right;\n",
       "    }\n",
       "</style>\n",
       "<table border=\"1\" class=\"dataframe\">\n",
       "  <thead>\n",
       "    <tr style=\"text-align: right;\">\n",
       "      <th></th>\n",
       "      <th>PM2.5</th>\n",
       "      <th>P2.L1</th>\n",
       "    </tr>\n",
       "    <tr>\n",
       "      <th>Timestamp</th>\n",
       "      <th></th>\n",
       "      <th></th>\n",
       "    </tr>\n",
       "  </thead>\n",
       "  <tbody>\n",
       "    <tr>\n",
       "      <th>2017-11-08 00:00:00+05:30</th>\n",
       "      <td>104.547368</td>\n",
       "      <td>99.805833</td>\n",
       "    </tr>\n",
       "    <tr>\n",
       "      <th>2017-11-09 00:00:00+05:30</th>\n",
       "      <td>110.092000</td>\n",
       "      <td>104.547368</td>\n",
       "    </tr>\n",
       "    <tr>\n",
       "      <th>2017-11-10 00:00:00+05:30</th>\n",
       "      <td>111.308750</td>\n",
       "      <td>110.092000</td>\n",
       "    </tr>\n",
       "    <tr>\n",
       "      <th>2017-11-11 00:00:00+05:30</th>\n",
       "      <td>105.375789</td>\n",
       "      <td>111.308750</td>\n",
       "    </tr>\n",
       "    <tr>\n",
       "      <th>2017-11-12 00:00:00+05:30</th>\n",
       "      <td>110.725714</td>\n",
       "      <td>105.375789</td>\n",
       "    </tr>\n",
       "    <tr>\n",
       "      <th>2017-11-13 00:00:00+05:30</th>\n",
       "      <td>108.982778</td>\n",
       "      <td>110.725714</td>\n",
       "    </tr>\n",
       "    <tr>\n",
       "      <th>2017-11-14 00:00:00+05:30</th>\n",
       "      <td>89.475000</td>\n",
       "      <td>108.982778</td>\n",
       "    </tr>\n",
       "    <tr>\n",
       "      <th>2017-11-15 00:00:00+05:30</th>\n",
       "      <td>78.730588</td>\n",
       "      <td>89.475000</td>\n",
       "    </tr>\n",
       "    <tr>\n",
       "      <th>2017-11-16 00:00:00+05:30</th>\n",
       "      <td>74.196250</td>\n",
       "      <td>78.730588</td>\n",
       "    </tr>\n",
       "    <tr>\n",
       "      <th>2017-11-17 00:00:00+05:30</th>\n",
       "      <td>70.823889</td>\n",
       "      <td>74.196250</td>\n",
       "    </tr>\n",
       "  </tbody>\n",
       "</table>\n",
       "</div>"
      ],
      "text/plain": [
       "                                PM2.5       P2.L1\n",
       "Timestamp                                        \n",
       "2017-11-08 00:00:00+05:30  104.547368   99.805833\n",
       "2017-11-09 00:00:00+05:30  110.092000  104.547368\n",
       "2017-11-10 00:00:00+05:30  111.308750  110.092000\n",
       "2017-11-11 00:00:00+05:30  105.375789  111.308750\n",
       "2017-11-12 00:00:00+05:30  110.725714  105.375789\n",
       "2017-11-13 00:00:00+05:30  108.982778  110.725714\n",
       "2017-11-14 00:00:00+05:30   89.475000  108.982778\n",
       "2017-11-15 00:00:00+05:30   78.730588   89.475000\n",
       "2017-11-16 00:00:00+05:30   74.196250   78.730588\n",
       "2017-11-17 00:00:00+05:30   70.823889   74.196250"
      ]
     },
     "execution_count": 96,
     "metadata": {},
     "output_type": "execute_result"
    }
   ],
   "source": [
    "ols_data = df[[\"PM2.5\", \"P2.L1\"]]\n",
    "ols_data.head(10)"
   ]
  },
  {
   "cell_type": "code",
   "execution_count": 108,
   "id": "0772cc08",
   "metadata": {},
   "outputs": [
    {
     "data": {
      "text/plain": [
       "\"df['PM2.5'] ~ df['P2.L1']\""
      ]
     },
     "execution_count": 108,
     "metadata": {},
     "output_type": "execute_result"
    }
   ],
   "source": [
    "ols_formula = \"df['PM2.5'] ~ df['P2.L1']\"\n",
    "ols_formula"
   ]
  },
  {
   "cell_type": "code",
   "execution_count": 109,
   "id": "091ed941",
   "metadata": {},
   "outputs": [],
   "source": [
    "OLS = ols(formula = ols_formula, data = ols_data)"
   ]
  },
  {
   "cell_type": "code",
   "execution_count": 110,
   "id": "1c56feeb",
   "metadata": {},
   "outputs": [],
   "source": [
    "model = OLS.fit()"
   ]
  },
  {
   "cell_type": "markdown",
   "id": "5bb278f0",
   "metadata": {},
   "source": [
    "### THANKS TO STATSMODEL, IT GIC=VES US APT SUMMARY AND DETAIL OF OUR MODEL"
   ]
  },
  {
   "cell_type": "code",
   "execution_count": 111,
   "id": "34b17930",
   "metadata": {},
   "outputs": [
    {
     "data": {
      "text/html": [
       "<table class=\"simpletable\">\n",
       "<caption>OLS Regression Results</caption>\n",
       "<tr>\n",
       "  <th>Dep. Variable:</th>       <td>df['PM2.5']</td>   <th>  R-squared:         </th> <td>   0.955</td> \n",
       "</tr>\n",
       "<tr>\n",
       "  <th>Model:</th>                   <td>OLS</td>       <th>  Adj. R-squared:    </th> <td>   0.955</td> \n",
       "</tr>\n",
       "<tr>\n",
       "  <th>Method:</th>             <td>Least Squares</td>  <th>  F-statistic:       </th> <td>3.567e+04</td>\n",
       "</tr>\n",
       "<tr>\n",
       "  <th>Date:</th>             <td>Wed, 13 Dec 2023</td> <th>  Prob (F-statistic):</th>  <td>  0.00</td>  \n",
       "</tr>\n",
       "<tr>\n",
       "  <th>Time:</th>                 <td>04:02:54</td>     <th>  Log-Likelihood:    </th> <td> -4990.3</td> \n",
       "</tr>\n",
       "<tr>\n",
       "  <th>No. Observations:</th>      <td>  1670</td>      <th>  AIC:               </th> <td>   9985.</td> \n",
       "</tr>\n",
       "<tr>\n",
       "  <th>Df Residuals:</th>          <td>  1668</td>      <th>  BIC:               </th> <td>   9995.</td> \n",
       "</tr>\n",
       "<tr>\n",
       "  <th>Df Model:</th>              <td>     1</td>      <th>                     </th>     <td> </td>    \n",
       "</tr>\n",
       "<tr>\n",
       "  <th>Covariance Type:</th>      <td>nonrobust</td>    <th>                     </th>     <td> </td>    \n",
       "</tr>\n",
       "</table>\n",
       "<table class=\"simpletable\">\n",
       "<tr>\n",
       "       <td></td>          <th>coef</th>     <th>std err</th>      <th>t</th>      <th>P>|t|</th>  <th>[0.025</th>    <th>0.975]</th>  \n",
       "</tr>\n",
       "<tr>\n",
       "  <th>Intercept</th>   <td>    1.1287</td> <td>    0.277</td> <td>    4.076</td> <td> 0.000</td> <td>    0.586</td> <td>    1.672</td>\n",
       "</tr>\n",
       "<tr>\n",
       "  <th>df['P2.L1']</th> <td>    0.9760</td> <td>    0.005</td> <td>  188.857</td> <td> 0.000</td> <td>    0.966</td> <td>    0.986</td>\n",
       "</tr>\n",
       "</table>\n",
       "<table class=\"simpletable\">\n",
       "<tr>\n",
       "  <th>Omnibus:</th>       <td>237.278</td> <th>  Durbin-Watson:     </th> <td>   1.853</td>\n",
       "</tr>\n",
       "<tr>\n",
       "  <th>Prob(Omnibus):</th> <td> 0.000</td>  <th>  Jarque-Bera (JB):  </th> <td>2516.793</td>\n",
       "</tr>\n",
       "<tr>\n",
       "  <th>Skew:</th>          <td> 0.265</td>  <th>  Prob(JB):          </th> <td>    0.00</td>\n",
       "</tr>\n",
       "<tr>\n",
       "  <th>Kurtosis:</th>      <td> 8.991</td>  <th>  Cond. No.          </th> <td>    126.</td>\n",
       "</tr>\n",
       "</table><br/><br/>Notes:<br/>[1] Standard Errors assume that the covariance matrix of the errors is correctly specified."
      ],
      "text/plain": [
       "<class 'statsmodels.iolib.summary.Summary'>\n",
       "\"\"\"\n",
       "                            OLS Regression Results                            \n",
       "==============================================================================\n",
       "Dep. Variable:            df['PM2.5']   R-squared:                       0.955\n",
       "Model:                            OLS   Adj. R-squared:                  0.955\n",
       "Method:                 Least Squares   F-statistic:                 3.567e+04\n",
       "Date:                Wed, 13 Dec 2023   Prob (F-statistic):               0.00\n",
       "Time:                        04:02:54   Log-Likelihood:                -4990.3\n",
       "No. Observations:                1670   AIC:                             9985.\n",
       "Df Residuals:                    1668   BIC:                             9995.\n",
       "Df Model:                           1                                         \n",
       "Covariance Type:            nonrobust                                         \n",
       "===============================================================================\n",
       "                  coef    std err          t      P>|t|      [0.025      0.975]\n",
       "-------------------------------------------------------------------------------\n",
       "Intercept       1.1287      0.277      4.076      0.000       0.586       1.672\n",
       "df['P2.L1']     0.9760      0.005    188.857      0.000       0.966       0.986\n",
       "==============================================================================\n",
       "Omnibus:                      237.278   Durbin-Watson:                   1.853\n",
       "Prob(Omnibus):                  0.000   Jarque-Bera (JB):             2516.793\n",
       "Skew:                           0.265   Prob(JB):                         0.00\n",
       "Kurtosis:                       8.991   Cond. No.                         126.\n",
       "==============================================================================\n",
       "\n",
       "Notes:\n",
       "[1] Standard Errors assume that the covariance matrix of the errors is correctly specified.\n",
       "\"\"\""
      ]
     },
     "execution_count": 111,
     "metadata": {},
     "output_type": "execute_result"
    }
   ],
   "source": [
    "model.summary()"
   ]
  },
  {
   "cell_type": "code",
   "execution_count": 112,
   "id": "42721ab1",
   "metadata": {},
   "outputs": [
    {
     "data": {
      "text/plain": [
       "<Axes: xlabel='PM2.5', ylabel='P2.L1'>"
      ]
     },
     "execution_count": 112,
     "metadata": {},
     "output_type": "execute_result"
    },
    {
     "data": {
      "image/png": "[encoded data removed]",
      "text/plain": [
       "<Figure size 640x480 with 1 Axes>"
      ]
     },
     "metadata": {},
     "output_type": "display_data"
    }
   ],
   "source": [
    "sns.regplot(x = \"PM2.5\", y = \"P2.L1\", data = ols_data)"
   ]
  },
  {
   "cell_type": "code",
   "execution_count": 113,
   "id": "c7de523b",
   "metadata": {},
   "outputs": [],
   "source": [
    "residuals = model.resid"
   ]
  },
  {
   "cell_type": "markdown",
   "id": "e1994e3d",
   "metadata": {},
   "source": [
    "### TRYING OUT SOME OTHER MODEL ASSUMPTION, THIS IS NORMALITY TEST, IT CONFIRMS OUR ASSUMPTION"
   ]
  },
  {
   "cell_type": "code",
   "execution_count": 114,
   "id": "80a72781",
   "metadata": {},
   "outputs": [
    {
     "data": {
      "image/png": "[encoded data removed]",
      "text/plain": [
       "<Figure size 640x480 with 1 Axes>"
      ]
     },
     "metadata": {},
     "output_type": "display_data"
    }
   ],
   "source": [
    "fig = sns.histplot(residuals)\n",
    "fig.set_xlabel(\"Residual Value\")\n",
    "fig.set_title(\"Histogram of Residuals\")\n",
    "plt.show()"
   ]
  },
  {
   "cell_type": "markdown",
   "id": "509d71d1",
   "metadata": {},
   "source": [
    "### QQ PLOT ALSO CONFIRMS THE ASSUMPTION"
   ]
  },
  {
   "cell_type": "code",
   "execution_count": 115,
   "id": "01ebddfc",
   "metadata": {},
   "outputs": [
    {
     "data": {
      "image/png": "[encoded data removed]",
      "text/plain": [
       "<Figure size 640x480 with 1 Axes>"
      ]
     },
     "metadata": {},
     "output_type": "display_data"
    }
   ],
   "source": [
    "sm.qqplot(residuals, line='s')\n",
    "plt.title(\"Q-Q plot of Residuals\")\n",
    "plt.show()"
   ]
  },
  {
   "cell_type": "code",
   "execution_count": 117,
   "id": "b05e5869",
   "metadata": {},
   "outputs": [],
   "source": [
    "fitted_values = model.predict(ols_data[\"P2.L1\"])"
   ]
  },
  {
   "cell_type": "markdown",
   "id": "399c2b9d",
   "metadata": {},
   "source": [
    "### ANOTHER SCATTER PLOT ASSUMPTION MEET."
   ]
  },
  {
   "cell_type": "code",
   "execution_count": 118,
   "id": "879318a0",
   "metadata": {},
   "outputs": [
    {
     "data": {
      "image/png": "[encoded data removed]",
      "text/plain": [
       "<Figure size 640x480 with 1 Axes>"
      ]
     },
     "metadata": {},
     "output_type": "display_data"
    }
   ],
   "source": [
    "fig = sns.scatterplot(x=fitted_values, y=residuals)\n",
    "fig.axhline(0)\n",
    "fig.set_xlabel(\"Fitted Values\")\n",
    "fig.set_ylabel(\"Residuals\")\n",
    "plt.show()"
   ]
  },
  {
   "cell_type": "markdown",
   "id": "d3da5bfd",
   "metadata": {},
   "source": [
    "##### WITH MOST OF THE ASSUMPTION MEET AND OUR DETAILED MODEL SUMMARY, THE 1 HOUR SHIFT DATAPOINT IS A GOOD PREDICTION POINT."
   ]
  },
  {
   "cell_type": "code",
   "execution_count": null,
   "id": "7918278f",
   "metadata": {},
   "outputs": [],
   "source": []
  },
  {
   "cell_type": "code",
   "execution_count": null,
   "id": "33f9c5af",
   "metadata": {},
   "outputs": [],
   "source": []
  },
  {
   "cell_type": "code",
   "execution_count": null,
   "id": "58f09cb8",
   "metadata": {},
   "outputs": [],
   "source": []
  },
  {
   "cell_type": "code",
   "execution_count": null,
   "id": "be3e6809",
   "metadata": {},
   "outputs": [],
   "source": []
  },
  {
   "cell_type": "code",
   "execution_count": null,
   "id": "f810cfba",
   "metadata": {},
   "outputs": [],
   "source": []
  },
  {
   "cell_type": "code",
   "execution_count": null,
   "id": "9b861f44",
   "metadata": {},
   "outputs": [],
   "source": []
  },
  {
   "cell_type": "code",
   "execution_count": null,
   "id": "68d1dd22",
   "metadata": {},
   "outputs": [],
   "source": []
  },
  {
   "cell_type": "code",
   "execution_count": null,
   "id": "8eae3b00",
   "metadata": {},
   "outputs": [],
   "source": []
  },
  {
   "cell_type": "code",
   "execution_count": null,
   "id": "7d398506",
   "metadata": {},
   "outputs": [],
   "source": []
  },
  {
   "cell_type": "code",
   "execution_count": null,
   "id": "e5a8d624",
   "metadata": {},
   "outputs": [],
   "source": []
  },
  {
   "cell_type": "code",
   "execution_count": null,
   "id": "6ee0e9b4",
   "metadata": {},
   "outputs": [],
   "source": []
  },
  {
   "cell_type": "code",
   "execution_count": null,
   "id": "c40c01dd",
   "metadata": {},
   "outputs": [],
   "source": []
  },
  {
   "cell_type": "code",
   "execution_count": null,
   "id": "98b7d0fb",
   "metadata": {},
   "outputs": [],
   "source": []
  },
  {
   "cell_type": "code",
   "execution_count": null,
   "id": "4cc84706",
   "metadata": {},
   "outputs": [],
   "source": []
  },
  {
   "cell_type": "code",
   "execution_count": null,
   "id": "d7b9045d",
   "metadata": {},
   "outputs": [],
   "source": []
  },
  {
   "cell_type": "code",
   "execution_count": null,
   "id": "aeb5ed96",
   "metadata": {},
   "outputs": [],
   "source": []
  },
  {
   "cell_type": "code",
   "execution_count": null,
   "id": "1808e795",
   "metadata": {},
   "outputs": [],
   "source": []
  },
  {
   "cell_type": "code",
   "execution_count": null,
   "id": "53c58711",
   "metadata": {},
   "outputs": [],
   "source": []
  },
  {
   "cell_type": "code",
   "execution_count": null,
   "id": "104c37e4",
   "metadata": {},
   "outputs": [],
   "source": []
  },
  {
   "cell_type": "code",
   "execution_count": null,
   "id": "2fc1f8b0",
   "metadata": {},
   "outputs": [],
   "source": []
  },
  {
   "cell_type": "code",
   "execution_count": null,
   "id": "fae29b58",
   "metadata": {},
   "outputs": [],
   "source": []
  },
  {
   "cell_type": "code",
   "execution_count": null,
   "id": "3859d52b",
   "metadata": {},
   "outputs": [],
   "source": []
  },
  {
   "cell_type": "code",
   "execution_count": null,
   "id": "ff1ec62b",
   "metadata": {},
   "outputs": [],
   "source": []
  },
  {
   "cell_type": "code",
   "execution_count": null,
   "id": "298d1766",
   "metadata": {},
   "outputs": [],
   "source": []
  },
  {
   "cell_type": "code",
   "execution_count": null,
   "id": "dd6b4b3f",
   "metadata": {},
   "outputs": [],
   "source": []
  },
  {
   "cell_type": "code",
   "execution_count": null,
   "id": "650cb7ea",
   "metadata": {},
   "outputs": [],
   "source": []
  },
  {
   "cell_type": "code",
   "execution_count": null,
   "id": "b924e45e",
   "metadata": {},
   "outputs": [],
   "source": []
  },
  {
   "cell_type": "code",
   "execution_count": null,
   "id": "3f5a4f71",
   "metadata": {},
   "outputs": [],
   "source": []
  },
  {
   "cell_type": "code",
   "execution_count": null,
   "id": "07b026b8",
   "metadata": {},
   "outputs": [],
   "source": []
  },
  {
   "cell_type": "code",
   "execution_count": null,
   "id": "d5320a4f",
   "metadata": {},
   "outputs": [],
   "source": []
  },
  {
   "cell_type": "code",
   "execution_count": null,
   "id": "fba9e566",
   "metadata": {},
   "outputs": [],
   "source": []
  },
  {
   "cell_type": "code",
   "execution_count": null,
   "id": "98afd159",
   "metadata": {},
   "outputs": [],
   "source": []
  },
  {
   "cell_type": "code",
   "execution_count": null,
   "id": "e879c68b",
   "metadata": {},
   "outputs": [],
   "source": []
  },
  {
   "cell_type": "code",
   "execution_count": null,
   "id": "e183dca1",
   "metadata": {},
   "outputs": [],
   "source": []
  }
 ],
 "metadata": {
  "kernelspec": {
   "display_name": "Python 3 (ipykernel)",
   "language": "python",
   "name": "python3"
  },
  "language_info": {
   "codemirror_mode": {
    "name": "ipython",
    "version": 3
   },
   "file_extension": ".py",
   "mimetype": "text/x-python",
   "name": "python",
   "nbconvert_exporter": "python",
   "pygments_lexer": "ipython3",
   "version": "3.10.9"
  }
 },
 "nbformat": 4,
 "nbformat_minor": 5
}
